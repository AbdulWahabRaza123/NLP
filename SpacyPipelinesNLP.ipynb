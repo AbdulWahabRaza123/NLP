{
  "nbformat": 4,
  "nbformat_minor": 0,
  "metadata": {
    "colab": {
      "provenance": [],
      "authorship_tag": "ABX9TyP4G/S9FIU5B390ayeAT4wH",
      "include_colab_link": true
    },
    "kernelspec": {
      "name": "python3",
      "display_name": "Python 3"
    },
    "language_info": {
      "name": "python"
    }
  },
  "cells": [
    {
      "cell_type": "markdown",
      "metadata": {
        "id": "view-in-github",
        "colab_type": "text"
      },
      "source": [
        "<a href=\"https://colab.research.google.com/github/AbdulWahabRaza123/NLP/blob/main/SpacyPipelinesNLP.ipynb\" target=\"_parent\"><img src=\"https://colab.research.google.com/assets/colab-badge.svg\" alt=\"Open In Colab\"/></a>"
      ]
    },
    {
      "cell_type": "code",
      "execution_count": 1,
      "metadata": {
        "colab": {
          "base_uri": "https://localhost:8080/"
        },
        "id": "GudN_k2QdGqI",
        "outputId": "ea4dc2ae-585e-42f0-9ed1-fc8bd6209c55"
      },
      "outputs": [
        {
          "output_type": "stream",
          "name": "stderr",
          "text": [
            "/usr/local/lib/python3.8/dist-packages/torch/cuda/__init__.py:497: UserWarning: Can't initialize NVML\n",
            "  warnings.warn(\"Can't initialize NVML\")\n"
          ]
        }
      ],
      "source": [
        "import spacy"
      ]
    },
    {
      "cell_type": "code",
      "source": [
        "nlp=spacy.blank(\"en\")\n",
        "doc=nlp(\"captain america ate 50$ of samosas then said I can do this all the daty\")\n",
        "for token in doc:\n",
        "  print(token)"
      ],
      "metadata": {
        "colab": {
          "base_uri": "https://localhost:8080/"
        },
        "id": "olnXAraaemqE",
        "outputId": "981297aa-c58a-4a54-af26-a706fbb5770d"
      },
      "execution_count": 4,
      "outputs": [
        {
          "output_type": "stream",
          "name": "stdout",
          "text": [
            "captain\n",
            "america\n",
            "ate\n",
            "50\n",
            "$\n",
            "of\n",
            "samosas\n",
            "then\n",
            "said\n",
            "I\n",
            "can\n",
            "do\n",
            "this\n",
            "all\n",
            "the\n",
            "daty\n"
          ]
        }
      ]
    },
    {
      "cell_type": "code",
      "source": [
        "#at this time our nlp pipeline is empty\n",
        "nlp.pipe_names"
      ],
      "metadata": {
        "colab": {
          "base_uri": "https://localhost:8080/"
        },
        "id": "Qm_AWsZOeux1",
        "outputId": "9e32227c-e58f-49d2-ee38-a3a0a0244cb1"
      },
      "execution_count": 5,
      "outputs": [
        {
          "output_type": "execute_result",
          "data": {
            "text/plain": [
              "[]"
            ]
          },
          "metadata": {},
          "execution_count": 5
        }
      ]
    },
    {
      "cell_type": "code",
      "source": [
        "#lets add a pipeline\n",
        "nlp=spacy.load(\"en_core_web_sm\")"
      ],
      "metadata": {
        "id": "8rHY2Tu7fKBp"
      },
      "execution_count": 6,
      "outputs": []
    },
    {
      "cell_type": "code",
      "source": [
        "nlp.pipeline"
      ],
      "metadata": {
        "colab": {
          "base_uri": "https://localhost:8080/"
        },
        "id": "PayP8uqhf1sH",
        "outputId": "fd493643-a171-4739-bd33-90753c796b09"
      },
      "execution_count": 7,
      "outputs": [
        {
          "output_type": "execute_result",
          "data": {
            "text/plain": [
              "[('tok2vec', <spacy.pipeline.tok2vec.Tok2Vec at 0x7f938cff5460>),\n",
              " ('tagger', <spacy.pipeline.tagger.Tagger at 0x7f938cff5ee0>),\n",
              " ('parser', <spacy.pipeline.dep_parser.DependencyParser at 0x7f938d16b270>),\n",
              " ('attribute_ruler',\n",
              "  <spacy.pipeline.attributeruler.AttributeRuler at 0x7f938cf24380>),\n",
              " ('lemmatizer',\n",
              "  <spacy.lang.en.lemmatizer.EnglishLemmatizer at 0x7f938cf2e2c0>),\n",
              " ('ner', <spacy.pipeline.ner.EntityRecognizer at 0x7f938d16bc80>)]"
            ]
          },
          "metadata": {},
          "execution_count": 7
        }
      ]
    },
    {
      "cell_type": "code",
      "source": [
        "#here we also have name entity recognization\n",
        "nlp.pipe_names"
      ],
      "metadata": {
        "colab": {
          "base_uri": "https://localhost:8080/"
        },
        "id": "0OFUOfHRiekp",
        "outputId": "436104d9-5647-4044-eb52-f79e1d8b178c"
      },
      "execution_count": 15,
      "outputs": [
        {
          "output_type": "execute_result",
          "data": {
            "text/plain": [
              "['tok2vec', 'tagger', 'parser', 'attribute_ruler', 'lemmatizer', 'ner']"
            ]
          },
          "metadata": {},
          "execution_count": 15
        }
      ]
    },
    {
      "cell_type": "code",
      "source": [
        "#lets play with langauge now showing parts o speech | 1st form\n",
        "doc=nlp(\"captain america ate 50$ of samosas then said I can do this all the daty\")\n",
        "for token in doc:\n",
        "  print(token,\" | \",token.pos_,\" | \",token.lemma_)"
      ],
      "metadata": {
        "colab": {
          "base_uri": "https://localhost:8080/"
        },
        "id": "CNXq2uIHgA6k",
        "outputId": "18e6666f-1c90-481d-df59-94907b7d8605"
      },
      "execution_count": 9,
      "outputs": [
        {
          "output_type": "stream",
          "name": "stdout",
          "text": [
            "captain  |  PROPN  |  captain\n",
            "america  |  PROPN  |  america\n",
            "ate  |  VERB  |  eat\n",
            "50  |  NUM  |  50\n",
            "$  |  NUM  |  $\n",
            "of  |  ADP  |  of\n",
            "samosas  |  NOUN  |  samosa\n",
            "then  |  ADV  |  then\n",
            "said  |  VERB  |  say\n",
            "I  |  PRON  |  I\n",
            "can  |  AUX  |  can\n",
            "do  |  VERB  |  do\n",
            "this  |  PRON  |  this\n",
            "all  |  DET  |  all\n",
            "the  |  DET  |  the\n",
            "daty  |  NOUN  |  daty\n"
          ]
        }
      ]
    },
    {
      "cell_type": "code",
      "source": [
        "doc=nlp(\"Tesla Inc is going to acquire twitter for $45 billions\")\n",
        "#here this pipeline can also tell you the label and explaination of any word\n",
        "for ent in doc.ents:\n",
        "  print(ent.text,\" | \",ent.label_,\" | \",spacy.explain(ent.label_))"
      ],
      "metadata": {
        "colab": {
          "base_uri": "https://localhost:8080/"
        },
        "id": "io9pEJgsgdoX",
        "outputId": "1c897e88-f0cc-4272-b19a-6dce3b90b8e0"
      },
      "execution_count": 11,
      "outputs": [
        {
          "output_type": "stream",
          "name": "stdout",
          "text": [
            "Tesla Inc  |  ORG  |  Companies, agencies, institutions, etc.\n",
            "$45 billions  |  MONEY  |  Monetary values, including unit\n"
          ]
        }
      ]
    },
    {
      "cell_type": "code",
      "source": [
        "# to get good display of output we can use displacy\n",
        "from spacy import displacy\n",
        "\n",
        "displacy.render(doc,style=\"ent\")"
      ],
      "metadata": {
        "colab": {
          "base_uri": "https://localhost:8080/",
          "height": 128
        },
        "id": "0ji00WyChRY3",
        "outputId": "087139f0-b40a-44b9-97e6-718eab830aaf"
      },
      "execution_count": 13,
      "outputs": [
        {
          "output_type": "execute_result",
          "data": {
            "text/plain": [
              "'<div class=\"entities\" style=\"line-height: 2.5; direction: ltr\">\\n<mark class=\"entity\" style=\"background: #7aecec; padding: 0.45em 0.6em; margin: 0 0.25em; line-height: 1; border-radius: 0.35em;\">\\n    Tesla Inc\\n    <span style=\"font-size: 0.8em; font-weight: bold; line-height: 1; border-radius: 0.35em; vertical-align: middle; margin-left: 0.5rem\">ORG</span>\\n</mark>\\n is going to acquire twitter for \\n<mark class=\"entity\" style=\"background: #e4e7d2; padding: 0.45em 0.6em; margin: 0 0.25em; line-height: 1; border-radius: 0.35em;\">\\n    $45 billions\\n    <span style=\"font-size: 0.8em; font-weight: bold; line-height: 1; border-radius: 0.35em; vertical-align: middle; margin-left: 0.5rem\">MONEY</span>\\n</mark>\\n</div>'"
            ],
            "application/vnd.google.colaboratory.intrinsic+json": {
              "type": "string"
            }
          },
          "metadata": {},
          "execution_count": 13
        }
      ]
    },
    {
      "cell_type": "markdown",
      "source": [
        "###But we can't use adnavce functionalities with blank pipelines"
      ],
      "metadata": {
        "id": "dru0tekwjFBd"
      }
    },
    {
      "cell_type": "code",
      "source": [
        "nlp=spacy.blank(\"en\")\n",
        "#lets try the same fun with the blank pipeline\n",
        "doc=nlp(\"captain america ate 50$ of samosas then said I can do this all the daty\")\n",
        "for token in doc:\n",
        "  print(token,\" | \",token.pos_,\" | \",token.lemma_)"
      ],
      "metadata": {
        "colab": {
          "base_uri": "https://localhost:8080/"
        },
        "id": "kz6aSVZwiEou",
        "outputId": "c26218c1-307b-40c0-f1c6-f15e4a32d80d"
      },
      "execution_count": 17,
      "outputs": [
        {
          "output_type": "stream",
          "name": "stdout",
          "text": [
            "captain  |    |  \n",
            "america  |    |  \n",
            "ate  |    |  \n",
            "50  |    |  \n",
            "$  |    |  \n",
            "of  |    |  \n",
            "samosas  |    |  \n",
            "then  |    |  \n",
            "said  |    |  \n",
            "I  |    |  \n",
            "can  |    |  \n",
            "do  |    |  \n",
            "this  |    |  \n",
            "all  |    |  \n",
            "the  |    |  \n",
            "daty  |    |  \n"
          ]
        }
      ]
    },
    {
      "cell_type": "markdown",
      "source": [
        "###To select the specfic pipeline from english pipeline"
      ],
      "metadata": {
        "id": "oFnlpS2NjgRf"
      }
    },
    {
      "cell_type": "code",
      "source": [
        "source_nlp=spacy.load(\"en_core_web_sm\")\n",
        "nlp=spacy.blank(\"en\")\n",
        "nlp.add_pipe(\"ner\",source=source_nlp)\n",
        "nlp.pipe_names"
      ],
      "metadata": {
        "colab": {
          "base_uri": "https://localhost:8080/"
        },
        "id": "Yaca8aNnjWSI",
        "outputId": "639ebe54-b122-469b-9b10-8f90248a3941"
      },
      "execution_count": 20,
      "outputs": [
        {
          "output_type": "execute_result",
          "data": {
            "text/plain": [
              "['ner']"
            ]
          },
          "metadata": {},
          "execution_count": 20
        }
      ]
    },
    {
      "cell_type": "code",
      "source": [
        "doc=nlp(\"Tesla Inc is going to acquire twitter for $45 billions\")\n",
        "#here this pipeline can also tell you the label and explaination of any word\n",
        "for ent in doc.ents:\n",
        "  print(ent.text,\" | \",ent.label_,\" | \",spacy.explain(ent.label_))"
      ],
      "metadata": {
        "colab": {
          "base_uri": "https://localhost:8080/"
        },
        "id": "dNom7CnjksPY",
        "outputId": "68cda50b-16b5-4470-98be-bcd4dc59fa01"
      },
      "execution_count": 22,
      "outputs": [
        {
          "output_type": "stream",
          "name": "stdout",
          "text": [
            "Tesla Inc  |  ORG  |  Companies, agencies, institutions, etc.\n",
            "$45 billions  |  MONEY  |  Monetary values, including unit\n"
          ]
        }
      ]
    },
    {
      "cell_type": "code",
      "source": [
        "#but we can't get these things now because we has limited pipelines\n",
        "doc=nlp(\"captain america ate 50$ of samosas then said I can do this all the daty\")\n",
        "for token in doc:\n",
        "  print(token,\" | \",token.pos_,\" | \",token.lemma_)"
      ],
      "metadata": {
        "colab": {
          "base_uri": "https://localhost:8080/"
        },
        "id": "mYsTIWUbkwd0",
        "outputId": "7c6b6634-e1d8-40ba-9545-125067ee567d"
      },
      "execution_count": 23,
      "outputs": [
        {
          "output_type": "stream",
          "name": "stdout",
          "text": [
            "captain  |    |  \n",
            "america  |    |  \n",
            "ate  |    |  \n",
            "50  |    |  \n",
            "$  |    |  \n",
            "of  |    |  \n",
            "samosas  |    |  \n",
            "then  |    |  \n",
            "said  |    |  \n",
            "I  |    |  \n",
            "can  |    |  \n",
            "do  |    |  \n",
            "this  |    |  \n",
            "all  |    |  \n",
            "the  |    |  \n",
            "daty  |    |  \n"
          ]
        }
      ]
    },
    {
      "cell_type": "code",
      "source": [],
      "metadata": {
        "id": "hfHsQj0NlHEz"
      },
      "execution_count": null,
      "outputs": []
    }
  ]
}