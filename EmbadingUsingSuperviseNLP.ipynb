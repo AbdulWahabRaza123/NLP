{
  "nbformat": 4,
  "nbformat_minor": 0,
  "metadata": {
    "colab": {
      "provenance": [],
      "authorship_tag": "ABX9TyPv8ggHmO/SkRQAJNW8n2dN",
      "include_colab_link": true
    },
    "kernelspec": {
      "name": "python3",
      "display_name": "Python 3"
    },
    "language_info": {
      "name": "python"
    }
  },
  "cells": [
    {
      "cell_type": "markdown",
      "metadata": {
        "id": "view-in-github",
        "colab_type": "text"
      },
      "source": [
        "<a href=\"https://colab.research.google.com/github/AbdulWahabRaza123/NLP/blob/main/EmbadingUsingSuperviseNLP.ipynb\" target=\"_parent\"><img src=\"https://colab.research.google.com/assets/colab-badge.svg\" alt=\"Open In Colab\"/></a>"
      ]
    },
    {
      "cell_type": "code",
      "execution_count": 1,
      "metadata": {
        "id": "C73pba0xwwQE"
      },
      "outputs": [],
      "source": [
        "#importing libraries\n",
        "import numpy as np\n",
        "from tensorflow.keras.preprocessing.text import one_hot\n",
        "from tensorflow.keras.preprocessing.sequence import pad_sequences\n",
        "from tensorflow.keras.models import Sequential\n",
        "from tensorflow.keras.layers import Dense\n",
        "from tensorflow.keras.layers import Flatten\n",
        "from tensorflow.keras.layers import Embedding"
      ]
    },
    {
      "cell_type": "code",
      "source": [
        "#reviews\n",
        "reviews=[\n",
        "    'nice food',\n",
        "    'amazing restaraunt',\n",
        "    'too good',\n",
        "    'just loved it',\n",
        "    'will go again',\n",
        "    'horrible food',\n",
        "    'never go there',\n",
        "    'poor service',\n",
        "    'poor quality',\n",
        "    'needs improvement'\n",
        "]\n",
        "sentiment=np.array([1,1,1,1,1,0,0,0,0,0])"
      ],
      "metadata": {
        "id": "YUYp5IEjGAZq"
      },
      "execution_count": 2,
      "outputs": []
    },
    {
      "cell_type": "code",
      "source": [
        "#converting to one hot encoding (dummy)\n",
        "one_hot(\"amazing restaraunt\",30)"
      ],
      "metadata": {
        "colab": {
          "base_uri": "https://localhost:8080/"
        },
        "id": "fnCvBDldGrek",
        "outputId": "bdb6b2ac-cdc9-4f4e-eccc-c647bd76ac5a"
      },
      "execution_count": 24,
      "outputs": [
        {
          "output_type": "execute_result",
          "data": {
            "text/plain": [
              "[29, 22]"
            ]
          },
          "metadata": {},
          "execution_count": 24
        }
      ]
    },
    {
      "cell_type": "code",
      "source": [
        "#converting to on hot encoding\n",
        "vocab_size=30\n",
        "encoded_reviews=[one_hot(d,vocab_size) for d in reviews]\n",
        "encoded_reviews"
      ],
      "metadata": {
        "colab": {
          "base_uri": "https://localhost:8080/"
        },
        "id": "tzlvmw_TG5xj",
        "outputId": "ab68fa32-b18f-41b3-eda7-8f2574255500"
      },
      "execution_count": 7,
      "outputs": [
        {
          "output_type": "execute_result",
          "data": {
            "text/plain": [
              "[[9, 20],\n",
              " [29, 22],\n",
              " [23, 24],\n",
              " [9, 3, 5],\n",
              " [28, 18, 6],\n",
              " [4, 20],\n",
              " [14, 18, 15],\n",
              " [20, 23],\n",
              " [20, 16],\n",
              " [7, 10]]"
            ]
          },
          "metadata": {},
          "execution_count": 7
        }
      ]
    },
    {
      "cell_type": "markdown",
      "source": [
        "###Explain\n",
        "After getting one hot encoding we will get the array here we will have different size of values here we will find the maz size of array and pad all the other arrays with 0"
      ],
      "metadata": {
        "id": "rd_Pup69Hkn-"
      }
    },
    {
      "cell_type": "code",
      "source": [
        "#applying padding here tensorflow has build in function for padding \n",
        "max_length=3\n",
        "padded_reviews=pad_sequences(encoded_reviews,maxlen=max_length,padding=\"post\")\n",
        "padded_reviews\n"
      ],
      "metadata": {
        "colab": {
          "base_uri": "https://localhost:8080/"
        },
        "id": "jgwusSeDHWkR",
        "outputId": "d7d448b5-12c7-46b2-dfee-fbe1636ea7bb"
      },
      "execution_count": 10,
      "outputs": [
        {
          "output_type": "execute_result",
          "data": {
            "text/plain": [
              "array([[ 9, 20,  0],\n",
              "       [29, 22,  0],\n",
              "       [23, 24,  0],\n",
              "       [ 9,  3,  5],\n",
              "       [28, 18,  6],\n",
              "       [ 4, 20,  0],\n",
              "       [14, 18, 15],\n",
              "       [20, 23,  0],\n",
              "       [20, 16,  0],\n",
              "       [ 7, 10,  0]], dtype=int32)"
            ]
          },
          "metadata": {},
          "execution_count": 10
        }
      ]
    },
    {
      "cell_type": "code",
      "source": [
        "#embeded vector size\n",
        "embedded_vector_size=4\n",
        "#making model\n",
        "model=Sequential()\n",
        "#adding layers\n",
        "model.add(Embedding(vocab_size,embedded_vector_size,input_length=max_length,name=\"embedding\"))\n",
        "#second layer to make vectors flatten\n",
        "model.add(Flatten())\n",
        "#third layer applying sigmoid function\n",
        "model.add(Dense(1,activation=\"sigmoid\"))"
      ],
      "metadata": {
        "id": "jP9rmksGIKPH"
      },
      "execution_count": 14,
      "outputs": []
    },
    {
      "cell_type": "code",
      "source": [
        "X=padded_reviews\n",
        "y=sentiment"
      ],
      "metadata": {
        "id": "xzaw4MaUJlVD"
      },
      "execution_count": 15,
      "outputs": []
    },
    {
      "cell_type": "code",
      "source": [
        "model.compile(optimizer=\"adam\",loss=\"binary_crossentropy\",metrics=[\"accuracy\"])\n",
        "model.summary()"
      ],
      "metadata": {
        "colab": {
          "base_uri": "https://localhost:8080/"
        },
        "id": "XOuGSutjJug_",
        "outputId": "a720e8cc-3e74-4b25-e156-a50a0486f257"
      },
      "execution_count": 17,
      "outputs": [
        {
          "output_type": "stream",
          "name": "stdout",
          "text": [
            "Model: \"sequential_2\"\n",
            "_________________________________________________________________\n",
            " Layer (type)                Output Shape              Param #   \n",
            "=================================================================\n",
            " embedding (Embedding)       (None, 3, 4)              120       \n",
            "                                                                 \n",
            " flatten_2 (Flatten)         (None, 12)                0         \n",
            "                                                                 \n",
            " dense_2 (Dense)             (None, 1)                 13        \n",
            "                                                                 \n",
            "=================================================================\n",
            "Total params: 133\n",
            "Trainable params: 133\n",
            "Non-trainable params: 0\n",
            "_________________________________________________________________\n"
          ]
        }
      ]
    },
    {
      "cell_type": "code",
      "source": [
        "#trainning\n",
        "model.fit(X,y,epochs=50,verbose=0)"
      ],
      "metadata": {
        "colab": {
          "base_uri": "https://localhost:8080/"
        },
        "id": "JaU83e5AKIli",
        "outputId": "9cc8b2c2-c030-4352-8155-f8e42b6c1d3e"
      },
      "execution_count": 18,
      "outputs": [
        {
          "output_type": "execute_result",
          "data": {
            "text/plain": [
              "<keras.callbacks.History at 0x7f16983a9910>"
            ]
          },
          "metadata": {},
          "execution_count": 18
        }
      ]
    },
    {
      "cell_type": "code",
      "source": [
        "loss,accuracy=model.evaluate(X,y)\n",
        "accuracy"
      ],
      "metadata": {
        "colab": {
          "base_uri": "https://localhost:8080/"
        },
        "id": "HrpvaaiQOBEo",
        "outputId": "3bab702f-dae3-4645-df0b-2e51bc553c00"
      },
      "execution_count": 19,
      "outputs": [
        {
          "output_type": "stream",
          "name": "stdout",
          "text": [
            "1/1 [==============================] - 0s 137ms/step - loss: 0.6059 - accuracy: 0.9000\n"
          ]
        },
        {
          "output_type": "execute_result",
          "data": {
            "text/plain": [
              "0.8999999761581421"
            ]
          },
          "metadata": {},
          "execution_count": 19
        }
      ]
    },
    {
      "cell_type": "code",
      "source": [
        "#we can also see the weights of model embedding\n",
        "model.get_layer('embedding').get_weights()[0]"
      ],
      "metadata": {
        "colab": {
          "base_uri": "https://localhost:8080/"
        },
        "id": "sMHgM_JkOIvT",
        "outputId": "ebb16f0d-2eb6-4db3-8546-10fe87dc7852"
      },
      "execution_count": 20,
      "outputs": [
        {
          "output_type": "execute_result",
          "data": {
            "text/plain": [
              "array([[ 0.02014754,  0.01189462,  0.02402946, -0.07424595],\n",
              "       [ 0.01773894, -0.00077007,  0.0168005 , -0.01721112],\n",
              "       [ 0.01895732, -0.0059097 ,  0.02556277,  0.04224429],\n",
              "       [-0.09252001, -0.01403051,  0.05330768,  0.08250262],\n",
              "       [ 0.02580979,  0.04419846,  0.09915897, -0.03937206],\n",
              "       [-0.04327674, -0.06454212, -0.0239429 ,  0.08799594],\n",
              "       [-0.03906439, -0.00731874, -0.00692714,  0.08135056],\n",
              "       [ 0.09218875,  0.07338219,  0.00905699, -0.05720693],\n",
              "       [-0.03429835,  0.01012564, -0.04534793, -0.00710633],\n",
              "       [-0.05407625, -0.07558817, -0.09292004,  0.07181469],\n",
              "       [ 0.07677411,  0.00580222, -0.07905081, -0.05159359],\n",
              "       [-0.04700832,  0.02355042,  0.03535397,  0.0096529 ],\n",
              "       [ 0.00939365, -0.04302192,  0.00390413, -0.04935708],\n",
              "       [-0.01071417, -0.02836871,  0.02362602,  0.00814857],\n",
              "       [ 0.08562969,  0.08625933,  0.09484481, -0.10245387],\n",
              "       [ 0.05359103,  0.010512  ,  0.09430351, -0.09391166],\n",
              "       [ 0.09679034,  0.06649487, -0.04374411, -0.04707527],\n",
              "       [-0.04610799, -0.02455523, -0.00754144,  0.0442979 ],\n",
              "       [ 0.00315964, -0.05699982,  0.00597233,  0.02221236],\n",
              "       [ 0.01119417, -0.04200177, -0.03748446, -0.02604209],\n",
              "       [ 0.03698436,  0.06545749,  0.05656012, -0.07898332],\n",
              "       [-0.03421434,  0.04036586, -0.04270474, -0.02290936],\n",
              "       [-0.02758174, -0.10003054,  0.05409961,  0.09487421],\n",
              "       [ 0.08453369,  0.03171179, -0.054548  , -0.08445827],\n",
              "       [-0.05379279, -0.06513974,  0.07952389,  0.04693141],\n",
              "       [-0.0323162 , -0.02177638, -0.04832103,  0.02341063],\n",
              "       [-0.02980764, -0.02057528,  0.00832014, -0.0125223 ],\n",
              "       [-0.03717264,  0.00620369, -0.01480168,  0.01262074],\n",
              "       [-0.02822845, -0.06314649, -0.05313784,  0.08552711],\n",
              "       [-0.02089958, -0.07004186, -0.04180707,  0.05701059]],\n",
              "      dtype=float32)"
            ]
          },
          "metadata": {},
          "execution_count": 20
        }
      ]
    },
    {
      "cell_type": "code",
      "source": [
        "#lets check the length\n",
        "weights=model.get_layer('embedding').get_weights()[0]\n",
        "len(weights)"
      ],
      "metadata": {
        "colab": {
          "base_uri": "https://localhost:8080/"
        },
        "id": "EGFYNR7lOdR9",
        "outputId": "38d430c3-d9c3-4d3d-bcec-7fdd827017bc"
      },
      "execution_count": 22,
      "outputs": [
        {
          "output_type": "execute_result",
          "data": {
            "text/plain": [
              "30"
            ]
          },
          "metadata": {},
          "execution_count": 22
        }
      ]
    },
    {
      "cell_type": "code",
      "source": [
        "weights[9]#nice"
      ],
      "metadata": {
        "colab": {
          "base_uri": "https://localhost:8080/"
        },
        "id": "bztd5GxXOooG",
        "outputId": "ab7799c9-bc14-4f76-d33e-15fe0227edf6"
      },
      "execution_count": 27,
      "outputs": [
        {
          "output_type": "execute_result",
          "data": {
            "text/plain": [
              "array([-0.05407625, -0.07558817, -0.09292004,  0.07181469], dtype=float32)"
            ]
          },
          "metadata": {},
          "execution_count": 27
        }
      ]
    },
    {
      "cell_type": "code",
      "source": [
        "weights[29]#amazing"
      ],
      "metadata": {
        "colab": {
          "base_uri": "https://localhost:8080/"
        },
        "id": "a6nLLQHTPLCQ",
        "outputId": "b8235f50-5ffb-4cbb-a405-c9ebab34ba24"
      },
      "execution_count": 30,
      "outputs": [
        {
          "output_type": "execute_result",
          "data": {
            "text/plain": [
              "array([-0.02089958, -0.07004186, -0.04180707,  0.05701059], dtype=float32)"
            ]
          },
          "metadata": {},
          "execution_count": 30
        }
      ]
    },
    {
      "cell_type": "code",
      "source": [
        "#here both nice and amazing words has not much similar vector because our data set is very very small."
      ],
      "metadata": {
        "id": "SZ1T7mxSPcRT"
      },
      "execution_count": 31,
      "outputs": []
    },
    {
      "cell_type": "code",
      "source": [],
      "metadata": {
        "id": "Kljw53mQP00t"
      },
      "execution_count": null,
      "outputs": []
    }
  ]
}