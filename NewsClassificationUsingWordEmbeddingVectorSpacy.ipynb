{
  "nbformat": 4,
  "nbformat_minor": 0,
  "metadata": {
    "colab": {
      "provenance": [],
      "authorship_tag": "ABX9TyM+SEbJL10aOSO5EwVSUk0b",
      "include_colab_link": true
    },
    "kernelspec": {
      "name": "python3",
      "display_name": "Python 3"
    },
    "language_info": {
      "name": "python"
    }
  },
  "cells": [
    {
      "cell_type": "markdown",
      "metadata": {
        "id": "view-in-github",
        "colab_type": "text"
      },
      "source": [
        "<a href=\"https://colab.research.google.com/github/AbdulWahabRaza123/NLP/blob/main/NewsClassificationUsingWordEmbeddingVectorSpacy.ipynb\" target=\"_parent\"><img src=\"https://colab.research.google.com/assets/colab-badge.svg\" alt=\"Open In Colab\"/></a>"
      ]
    },
    {
      "cell_type": "code",
      "execution_count": 1,
      "metadata": {
        "colab": {
          "base_uri": "https://localhost:8080/",
          "height": 206
        },
        "id": "pGnx_cIGojWJ",
        "outputId": "dc061294-9bed-4f2a-b6a4-36e2ebbe18f9"
      },
      "outputs": [
        {
          "output_type": "execute_result",
          "data": {
            "text/plain": [
              "                                                Text label\n",
              "0   Top Trump Surrogate BRUTALLY Stabs Him In The...  Fake\n",
              "1  U.S. conservative leader optimistic of common ...  Real\n",
              "2  Trump proposes U.S. tax overhaul, stirs concer...  Real\n",
              "3   Court Forces Ohio To Allow Millions Of Illega...  Fake\n",
              "4  Democrats say Trump agrees to work on immigrat...  Real"
            ],
            "text/html": [
              "\n",
              "  <div id=\"df-9ce79a43-498a-4640-be5e-d2af60629a03\">\n",
              "    <div class=\"colab-df-container\">\n",
              "      <div>\n",
              "<style scoped>\n",
              "    .dataframe tbody tr th:only-of-type {\n",
              "        vertical-align: middle;\n",
              "    }\n",
              "\n",
              "    .dataframe tbody tr th {\n",
              "        vertical-align: top;\n",
              "    }\n",
              "\n",
              "    .dataframe thead th {\n",
              "        text-align: right;\n",
              "    }\n",
              "</style>\n",
              "<table border=\"1\" class=\"dataframe\">\n",
              "  <thead>\n",
              "    <tr style=\"text-align: right;\">\n",
              "      <th></th>\n",
              "      <th>Text</th>\n",
              "      <th>label</th>\n",
              "    </tr>\n",
              "  </thead>\n",
              "  <tbody>\n",
              "    <tr>\n",
              "      <th>0</th>\n",
              "      <td>Top Trump Surrogate BRUTALLY Stabs Him In The...</td>\n",
              "      <td>Fake</td>\n",
              "    </tr>\n",
              "    <tr>\n",
              "      <th>1</th>\n",
              "      <td>U.S. conservative leader optimistic of common ...</td>\n",
              "      <td>Real</td>\n",
              "    </tr>\n",
              "    <tr>\n",
              "      <th>2</th>\n",
              "      <td>Trump proposes U.S. tax overhaul, stirs concer...</td>\n",
              "      <td>Real</td>\n",
              "    </tr>\n",
              "    <tr>\n",
              "      <th>3</th>\n",
              "      <td>Court Forces Ohio To Allow Millions Of Illega...</td>\n",
              "      <td>Fake</td>\n",
              "    </tr>\n",
              "    <tr>\n",
              "      <th>4</th>\n",
              "      <td>Democrats say Trump agrees to work on immigrat...</td>\n",
              "      <td>Real</td>\n",
              "    </tr>\n",
              "  </tbody>\n",
              "</table>\n",
              "</div>\n",
              "      <button class=\"colab-df-convert\" onclick=\"convertToInteractive('df-9ce79a43-498a-4640-be5e-d2af60629a03')\"\n",
              "              title=\"Convert this dataframe to an interactive table.\"\n",
              "              style=\"display:none;\">\n",
              "        \n",
              "  <svg xmlns=\"http://www.w3.org/2000/svg\" height=\"24px\"viewBox=\"0 0 24 24\"\n",
              "       width=\"24px\">\n",
              "    <path d=\"M0 0h24v24H0V0z\" fill=\"none\"/>\n",
              "    <path d=\"M18.56 5.44l.94 2.06.94-2.06 2.06-.94-2.06-.94-.94-2.06-.94 2.06-2.06.94zm-11 1L8.5 8.5l.94-2.06 2.06-.94-2.06-.94L8.5 2.5l-.94 2.06-2.06.94zm10 10l.94 2.06.94-2.06 2.06-.94-2.06-.94-.94-2.06-.94 2.06-2.06.94z\"/><path d=\"M17.41 7.96l-1.37-1.37c-.4-.4-.92-.59-1.43-.59-.52 0-1.04.2-1.43.59L10.3 9.45l-7.72 7.72c-.78.78-.78 2.05 0 2.83L4 21.41c.39.39.9.59 1.41.59.51 0 1.02-.2 1.41-.59l7.78-7.78 2.81-2.81c.8-.78.8-2.07 0-2.86zM5.41 20L4 18.59l7.72-7.72 1.47 1.35L5.41 20z\"/>\n",
              "  </svg>\n",
              "      </button>\n",
              "      \n",
              "  <style>\n",
              "    .colab-df-container {\n",
              "      display:flex;\n",
              "      flex-wrap:wrap;\n",
              "      gap: 12px;\n",
              "    }\n",
              "\n",
              "    .colab-df-convert {\n",
              "      background-color: #E8F0FE;\n",
              "      border: none;\n",
              "      border-radius: 50%;\n",
              "      cursor: pointer;\n",
              "      display: none;\n",
              "      fill: #1967D2;\n",
              "      height: 32px;\n",
              "      padding: 0 0 0 0;\n",
              "      width: 32px;\n",
              "    }\n",
              "\n",
              "    .colab-df-convert:hover {\n",
              "      background-color: #E2EBFA;\n",
              "      box-shadow: 0px 1px 2px rgba(60, 64, 67, 0.3), 0px 1px 3px 1px rgba(60, 64, 67, 0.15);\n",
              "      fill: #174EA6;\n",
              "    }\n",
              "\n",
              "    [theme=dark] .colab-df-convert {\n",
              "      background-color: #3B4455;\n",
              "      fill: #D2E3FC;\n",
              "    }\n",
              "\n",
              "    [theme=dark] .colab-df-convert:hover {\n",
              "      background-color: #434B5C;\n",
              "      box-shadow: 0px 1px 3px 1px rgba(0, 0, 0, 0.15);\n",
              "      filter: drop-shadow(0px 1px 2px rgba(0, 0, 0, 0.3));\n",
              "      fill: #FFFFFF;\n",
              "    }\n",
              "  </style>\n",
              "\n",
              "      <script>\n",
              "        const buttonEl =\n",
              "          document.querySelector('#df-9ce79a43-498a-4640-be5e-d2af60629a03 button.colab-df-convert');\n",
              "        buttonEl.style.display =\n",
              "          google.colab.kernel.accessAllowed ? 'block' : 'none';\n",
              "\n",
              "        async function convertToInteractive(key) {\n",
              "          const element = document.querySelector('#df-9ce79a43-498a-4640-be5e-d2af60629a03');\n",
              "          const dataTable =\n",
              "            await google.colab.kernel.invokeFunction('convertToInteractive',\n",
              "                                                     [key], {});\n",
              "          if (!dataTable) return;\n",
              "\n",
              "          const docLinkHtml = 'Like what you see? Visit the ' +\n",
              "            '<a target=\"_blank\" href=https://colab.research.google.com/notebooks/data_table.ipynb>data table notebook</a>'\n",
              "            + ' to learn more about interactive tables.';\n",
              "          element.innerHTML = '';\n",
              "          dataTable['output_type'] = 'display_data';\n",
              "          await google.colab.output.renderOutput(dataTable, element);\n",
              "          const docLink = document.createElement('div');\n",
              "          docLink.innerHTML = docLinkHtml;\n",
              "          element.appendChild(docLink);\n",
              "        }\n",
              "      </script>\n",
              "    </div>\n",
              "  </div>\n",
              "  "
            ]
          },
          "metadata": {},
          "execution_count": 1
        }
      ],
      "source": [
        "import pandas as pd\n",
        "df=pd.read_csv(\"https://raw.githubusercontent.com/codebasics/nlp-tutorials/main/14_word_vectors_spacy_text_classification/Fake_Real_Data.csv\")\n",
        "df.head()"
      ]
    },
    {
      "cell_type": "code",
      "source": [
        "df.shape"
      ],
      "metadata": {
        "colab": {
          "base_uri": "https://localhost:8080/"
        },
        "id": "GkNG-0qkLOVD",
        "outputId": "2c41c293-fc02-46b8-c66e-7d75f0ec3d1e"
      },
      "execution_count": 2,
      "outputs": [
        {
          "output_type": "execute_result",
          "data": {
            "text/plain": [
              "(9900, 2)"
            ]
          },
          "metadata": {},
          "execution_count": 2
        }
      ]
    },
    {
      "cell_type": "code",
      "source": [
        "df.label.value_counts()"
      ],
      "metadata": {
        "colab": {
          "base_uri": "https://localhost:8080/"
        },
        "id": "9L_v4suxLTjl",
        "outputId": "3b19efc4-c9d9-4429-fd4f-6d9f6f622034"
      },
      "execution_count": 3,
      "outputs": [
        {
          "output_type": "execute_result",
          "data": {
            "text/plain": [
              "Fake    5000\n",
              "Real    4900\n",
              "Name: label, dtype: int64"
            ]
          },
          "metadata": {},
          "execution_count": 3
        }
      ]
    },
    {
      "cell_type": "code",
      "source": [
        "# converting labels into number for better understanding for model\n",
        "df['label_num']=df.label.map({\n",
        "    'Fake':0,\n",
        "    'Real':1\n",
        "})\n",
        "df.head()"
      ],
      "metadata": {
        "colab": {
          "base_uri": "https://localhost:8080/",
          "height": 206
        },
        "id": "_kQIGsUiLclC",
        "outputId": "41f54d61-089d-445f-f402-b8b5bf8a45e7"
      },
      "execution_count": 6,
      "outputs": [
        {
          "output_type": "execute_result",
          "data": {
            "text/plain": [
              "                                                Text label  label_num\n",
              "0   Top Trump Surrogate BRUTALLY Stabs Him In The...  Fake          0\n",
              "1  U.S. conservative leader optimistic of common ...  Real          1\n",
              "2  Trump proposes U.S. tax overhaul, stirs concer...  Real          1\n",
              "3   Court Forces Ohio To Allow Millions Of Illega...  Fake          0\n",
              "4  Democrats say Trump agrees to work on immigrat...  Real          1"
            ],
            "text/html": [
              "\n",
              "  <div id=\"df-42c086e1-07d7-47c8-be29-ada2a1e03cfb\">\n",
              "    <div class=\"colab-df-container\">\n",
              "      <div>\n",
              "<style scoped>\n",
              "    .dataframe tbody tr th:only-of-type {\n",
              "        vertical-align: middle;\n",
              "    }\n",
              "\n",
              "    .dataframe tbody tr th {\n",
              "        vertical-align: top;\n",
              "    }\n",
              "\n",
              "    .dataframe thead th {\n",
              "        text-align: right;\n",
              "    }\n",
              "</style>\n",
              "<table border=\"1\" class=\"dataframe\">\n",
              "  <thead>\n",
              "    <tr style=\"text-align: right;\">\n",
              "      <th></th>\n",
              "      <th>Text</th>\n",
              "      <th>label</th>\n",
              "      <th>label_num</th>\n",
              "    </tr>\n",
              "  </thead>\n",
              "  <tbody>\n",
              "    <tr>\n",
              "      <th>0</th>\n",
              "      <td>Top Trump Surrogate BRUTALLY Stabs Him In The...</td>\n",
              "      <td>Fake</td>\n",
              "      <td>0</td>\n",
              "    </tr>\n",
              "    <tr>\n",
              "      <th>1</th>\n",
              "      <td>U.S. conservative leader optimistic of common ...</td>\n",
              "      <td>Real</td>\n",
              "      <td>1</td>\n",
              "    </tr>\n",
              "    <tr>\n",
              "      <th>2</th>\n",
              "      <td>Trump proposes U.S. tax overhaul, stirs concer...</td>\n",
              "      <td>Real</td>\n",
              "      <td>1</td>\n",
              "    </tr>\n",
              "    <tr>\n",
              "      <th>3</th>\n",
              "      <td>Court Forces Ohio To Allow Millions Of Illega...</td>\n",
              "      <td>Fake</td>\n",
              "      <td>0</td>\n",
              "    </tr>\n",
              "    <tr>\n",
              "      <th>4</th>\n",
              "      <td>Democrats say Trump agrees to work on immigrat...</td>\n",
              "      <td>Real</td>\n",
              "      <td>1</td>\n",
              "    </tr>\n",
              "  </tbody>\n",
              "</table>\n",
              "</div>\n",
              "      <button class=\"colab-df-convert\" onclick=\"convertToInteractive('df-42c086e1-07d7-47c8-be29-ada2a1e03cfb')\"\n",
              "              title=\"Convert this dataframe to an interactive table.\"\n",
              "              style=\"display:none;\">\n",
              "        \n",
              "  <svg xmlns=\"http://www.w3.org/2000/svg\" height=\"24px\"viewBox=\"0 0 24 24\"\n",
              "       width=\"24px\">\n",
              "    <path d=\"M0 0h24v24H0V0z\" fill=\"none\"/>\n",
              "    <path d=\"M18.56 5.44l.94 2.06.94-2.06 2.06-.94-2.06-.94-.94-2.06-.94 2.06-2.06.94zm-11 1L8.5 8.5l.94-2.06 2.06-.94-2.06-.94L8.5 2.5l-.94 2.06-2.06.94zm10 10l.94 2.06.94-2.06 2.06-.94-2.06-.94-.94-2.06-.94 2.06-2.06.94z\"/><path d=\"M17.41 7.96l-1.37-1.37c-.4-.4-.92-.59-1.43-.59-.52 0-1.04.2-1.43.59L10.3 9.45l-7.72 7.72c-.78.78-.78 2.05 0 2.83L4 21.41c.39.39.9.59 1.41.59.51 0 1.02-.2 1.41-.59l7.78-7.78 2.81-2.81c.8-.78.8-2.07 0-2.86zM5.41 20L4 18.59l7.72-7.72 1.47 1.35L5.41 20z\"/>\n",
              "  </svg>\n",
              "      </button>\n",
              "      \n",
              "  <style>\n",
              "    .colab-df-container {\n",
              "      display:flex;\n",
              "      flex-wrap:wrap;\n",
              "      gap: 12px;\n",
              "    }\n",
              "\n",
              "    .colab-df-convert {\n",
              "      background-color: #E8F0FE;\n",
              "      border: none;\n",
              "      border-radius: 50%;\n",
              "      cursor: pointer;\n",
              "      display: none;\n",
              "      fill: #1967D2;\n",
              "      height: 32px;\n",
              "      padding: 0 0 0 0;\n",
              "      width: 32px;\n",
              "    }\n",
              "\n",
              "    .colab-df-convert:hover {\n",
              "      background-color: #E2EBFA;\n",
              "      box-shadow: 0px 1px 2px rgba(60, 64, 67, 0.3), 0px 1px 3px 1px rgba(60, 64, 67, 0.15);\n",
              "      fill: #174EA6;\n",
              "    }\n",
              "\n",
              "    [theme=dark] .colab-df-convert {\n",
              "      background-color: #3B4455;\n",
              "      fill: #D2E3FC;\n",
              "    }\n",
              "\n",
              "    [theme=dark] .colab-df-convert:hover {\n",
              "      background-color: #434B5C;\n",
              "      box-shadow: 0px 1px 3px 1px rgba(0, 0, 0, 0.15);\n",
              "      filter: drop-shadow(0px 1px 2px rgba(0, 0, 0, 0.3));\n",
              "      fill: #FFFFFF;\n",
              "    }\n",
              "  </style>\n",
              "\n",
              "      <script>\n",
              "        const buttonEl =\n",
              "          document.querySelector('#df-42c086e1-07d7-47c8-be29-ada2a1e03cfb button.colab-df-convert');\n",
              "        buttonEl.style.display =\n",
              "          google.colab.kernel.accessAllowed ? 'block' : 'none';\n",
              "\n",
              "        async function convertToInteractive(key) {\n",
              "          const element = document.querySelector('#df-42c086e1-07d7-47c8-be29-ada2a1e03cfb');\n",
              "          const dataTable =\n",
              "            await google.colab.kernel.invokeFunction('convertToInteractive',\n",
              "                                                     [key], {});\n",
              "          if (!dataTable) return;\n",
              "\n",
              "          const docLinkHtml = 'Like what you see? Visit the ' +\n",
              "            '<a target=\"_blank\" href=https://colab.research.google.com/notebooks/data_table.ipynb>data table notebook</a>'\n",
              "            + ' to learn more about interactive tables.';\n",
              "          element.innerHTML = '';\n",
              "          dataTable['output_type'] = 'display_data';\n",
              "          await google.colab.output.renderOutput(dataTable, element);\n",
              "          const docLink = document.createElement('div');\n",
              "          docLink.innerHTML = docLinkHtml;\n",
              "          element.appendChild(docLink);\n",
              "        }\n",
              "      </script>\n",
              "    </div>\n",
              "  </div>\n",
              "  "
            ]
          },
          "metadata": {},
          "execution_count": 6
        }
      ]
    },
    {
      "cell_type": "code",
      "source": [
        "!python -m spacy download en_core_web_lg"
      ],
      "metadata": {
        "colab": {
          "base_uri": "https://localhost:8080/"
        },
        "id": "KcRiEZhdMWmU",
        "outputId": "6140b298-9b7b-4177-f66c-477490b6fa5f"
      },
      "execution_count": 8,
      "outputs": [
        {
          "output_type": "stream",
          "name": "stdout",
          "text": [
            "/usr/local/lib/python3.8/dist-packages/torch/cuda/__init__.py:497: UserWarning: Can't initialize NVML\n",
            "  warnings.warn(\"Can't initialize NVML\")\n",
            "2023-02-05 15:28:35.200424: E tensorflow/stream_executor/cuda/cuda_driver.cc:271] failed call to cuInit: CUDA_ERROR_NO_DEVICE: no CUDA-capable device is detected\n",
            "Looking in indexes: https://pypi.org/simple, https://us-python.pkg.dev/colab-wheels/public/simple/\n",
            "Collecting en-core-web-lg==3.4.1\n",
            "  Downloading https://github.com/explosion/spacy-models/releases/download/en_core_web_lg-3.4.1/en_core_web_lg-3.4.1-py3-none-any.whl (587.7 MB)\n",
            "\u001b[2K     \u001b[90m━━━━━━━━━━━━━━━━━━━━━━━━━━━━━━━━━━━━━━━\u001b[0m \u001b[32m587.7/587.7 MB\u001b[0m \u001b[31m1.7 MB/s\u001b[0m eta \u001b[36m0:00:00\u001b[0m\n",
            "\u001b[?25hRequirement already satisfied: spacy<3.5.0,>=3.4.0 in /usr/local/lib/python3.8/dist-packages (from en-core-web-lg==3.4.1) (3.4.4)\n",
            "Requirement already satisfied: smart-open<7.0.0,>=5.2.1 in /usr/local/lib/python3.8/dist-packages (from spacy<3.5.0,>=3.4.0->en-core-web-lg==3.4.1) (6.3.0)\n",
            "Requirement already satisfied: numpy>=1.15.0 in /usr/local/lib/python3.8/dist-packages (from spacy<3.5.0,>=3.4.0->en-core-web-lg==3.4.1) (1.21.6)\n",
            "Requirement already satisfied: srsly<3.0.0,>=2.4.3 in /usr/local/lib/python3.8/dist-packages (from spacy<3.5.0,>=3.4.0->en-core-web-lg==3.4.1) (2.4.5)\n",
            "Requirement already satisfied: wasabi<1.1.0,>=0.9.1 in /usr/local/lib/python3.8/dist-packages (from spacy<3.5.0,>=3.4.0->en-core-web-lg==3.4.1) (0.10.1)\n",
            "Requirement already satisfied: setuptools in /usr/local/lib/python3.8/dist-packages (from spacy<3.5.0,>=3.4.0->en-core-web-lg==3.4.1) (57.4.0)\n",
            "Requirement already satisfied: cymem<2.1.0,>=2.0.2 in /usr/local/lib/python3.8/dist-packages (from spacy<3.5.0,>=3.4.0->en-core-web-lg==3.4.1) (2.0.7)\n",
            "Requirement already satisfied: langcodes<4.0.0,>=3.2.0 in /usr/local/lib/python3.8/dist-packages (from spacy<3.5.0,>=3.4.0->en-core-web-lg==3.4.1) (3.3.0)\n",
            "Requirement already satisfied: tqdm<5.0.0,>=4.38.0 in /usr/local/lib/python3.8/dist-packages (from spacy<3.5.0,>=3.4.0->en-core-web-lg==3.4.1) (4.64.1)\n",
            "Requirement already satisfied: pydantic!=1.8,!=1.8.1,<1.11.0,>=1.7.4 in /usr/local/lib/python3.8/dist-packages (from spacy<3.5.0,>=3.4.0->en-core-web-lg==3.4.1) (1.10.4)\n",
            "Requirement already satisfied: jinja2 in /usr/local/lib/python3.8/dist-packages (from spacy<3.5.0,>=3.4.0->en-core-web-lg==3.4.1) (2.11.3)\n",
            "Requirement already satisfied: spacy-legacy<3.1.0,>=3.0.10 in /usr/local/lib/python3.8/dist-packages (from spacy<3.5.0,>=3.4.0->en-core-web-lg==3.4.1) (3.0.12)\n",
            "Requirement already satisfied: requests<3.0.0,>=2.13.0 in /usr/local/lib/python3.8/dist-packages (from spacy<3.5.0,>=3.4.0->en-core-web-lg==3.4.1) (2.25.1)\n",
            "Requirement already satisfied: pathy>=0.3.5 in /usr/local/lib/python3.8/dist-packages (from spacy<3.5.0,>=3.4.0->en-core-web-lg==3.4.1) (0.10.1)\n",
            "Requirement already satisfied: preshed<3.1.0,>=3.0.2 in /usr/local/lib/python3.8/dist-packages (from spacy<3.5.0,>=3.4.0->en-core-web-lg==3.4.1) (3.0.8)\n",
            "Requirement already satisfied: typer<0.8.0,>=0.3.0 in /usr/local/lib/python3.8/dist-packages (from spacy<3.5.0,>=3.4.0->en-core-web-lg==3.4.1) (0.7.0)\n",
            "Requirement already satisfied: catalogue<2.1.0,>=2.0.6 in /usr/local/lib/python3.8/dist-packages (from spacy<3.5.0,>=3.4.0->en-core-web-lg==3.4.1) (2.0.8)\n",
            "Requirement already satisfied: spacy-loggers<2.0.0,>=1.0.0 in /usr/local/lib/python3.8/dist-packages (from spacy<3.5.0,>=3.4.0->en-core-web-lg==3.4.1) (1.0.4)\n",
            "Requirement already satisfied: thinc<8.2.0,>=8.1.0 in /usr/local/lib/python3.8/dist-packages (from spacy<3.5.0,>=3.4.0->en-core-web-lg==3.4.1) (8.1.7)\n",
            "Requirement already satisfied: packaging>=20.0 in /usr/local/lib/python3.8/dist-packages (from spacy<3.5.0,>=3.4.0->en-core-web-lg==3.4.1) (23.0)\n",
            "Requirement already satisfied: murmurhash<1.1.0,>=0.28.0 in /usr/local/lib/python3.8/dist-packages (from spacy<3.5.0,>=3.4.0->en-core-web-lg==3.4.1) (1.0.9)\n",
            "Requirement already satisfied: typing-extensions>=4.2.0 in /usr/local/lib/python3.8/dist-packages (from pydantic!=1.8,!=1.8.1,<1.11.0,>=1.7.4->spacy<3.5.0,>=3.4.0->en-core-web-lg==3.4.1) (4.4.0)\n",
            "Requirement already satisfied: certifi>=2017.4.17 in /usr/local/lib/python3.8/dist-packages (from requests<3.0.0,>=2.13.0->spacy<3.5.0,>=3.4.0->en-core-web-lg==3.4.1) (2022.12.7)\n",
            "Requirement already satisfied: urllib3<1.27,>=1.21.1 in /usr/local/lib/python3.8/dist-packages (from requests<3.0.0,>=2.13.0->spacy<3.5.0,>=3.4.0->en-core-web-lg==3.4.1) (1.24.3)\n",
            "Requirement already satisfied: idna<3,>=2.5 in /usr/local/lib/python3.8/dist-packages (from requests<3.0.0,>=2.13.0->spacy<3.5.0,>=3.4.0->en-core-web-lg==3.4.1) (2.10)\n",
            "Requirement already satisfied: chardet<5,>=3.0.2 in /usr/local/lib/python3.8/dist-packages (from requests<3.0.0,>=2.13.0->spacy<3.5.0,>=3.4.0->en-core-web-lg==3.4.1) (4.0.0)\n",
            "Requirement already satisfied: blis<0.8.0,>=0.7.8 in /usr/local/lib/python3.8/dist-packages (from thinc<8.2.0,>=8.1.0->spacy<3.5.0,>=3.4.0->en-core-web-lg==3.4.1) (0.7.9)\n",
            "Requirement already satisfied: confection<1.0.0,>=0.0.1 in /usr/local/lib/python3.8/dist-packages (from thinc<8.2.0,>=8.1.0->spacy<3.5.0,>=3.4.0->en-core-web-lg==3.4.1) (0.0.4)\n",
            "Requirement already satisfied: click<9.0.0,>=7.1.1 in /usr/local/lib/python3.8/dist-packages (from typer<0.8.0,>=0.3.0->spacy<3.5.0,>=3.4.0->en-core-web-lg==3.4.1) (7.1.2)\n",
            "Requirement already satisfied: MarkupSafe>=0.23 in /usr/local/lib/python3.8/dist-packages (from jinja2->spacy<3.5.0,>=3.4.0->en-core-web-lg==3.4.1) (2.0.1)\n",
            "Installing collected packages: en-core-web-lg\n",
            "Successfully installed en-core-web-lg-3.4.1\n",
            "\u001b[38;5;2m✔ Download and installation successful\u001b[0m\n",
            "You can now load the package via spacy.load('en_core_web_lg')\n"
          ]
        }
      ]
    },
    {
      "cell_type": "code",
      "source": [
        "import spacy\n",
        "nlp=spacy.load(\"en_core_web_lg\")"
      ],
      "metadata": {
        "id": "3eWZitkLLy-w"
      },
      "execution_count": 9,
      "outputs": []
    },
    {
      "cell_type": "code",
      "source": [
        "doc=nlp(\"Top Trump Surrogate BRUTALLY Stabs Him In The\")\n",
        "doc.vector.shape"
      ],
      "metadata": {
        "colab": {
          "base_uri": "https://localhost:8080/"
        },
        "id": "1nwKchndLzyV",
        "outputId": "eacb9280-3d94-4469-ea14-9a5892e3868a"
      },
      "execution_count": 10,
      "outputs": [
        {
          "output_type": "execute_result",
          "data": {
            "text/plain": [
              "(300,)"
            ]
          },
          "metadata": {},
          "execution_count": 10
        }
      ]
    },
    {
      "cell_type": "code",
      "source": [
        "#creating new column which will have the vector of the text\n",
        "df['vector']=df.Text.apply(lambda x:nlp(x).vector)\n",
        "df.head()"
      ],
      "metadata": {
        "colab": {
          "base_uri": "https://localhost:8080/",
          "height": 206
        },
        "id": "M-BTDuF0Mp5e",
        "outputId": "5db78caa-235e-4a38-8ae4-908bcdcebcb1"
      },
      "execution_count": 11,
      "outputs": [
        {
          "output_type": "execute_result",
          "data": {
            "text/plain": [
              "                                                Text label  label_num  \\\n",
              "0   Top Trump Surrogate BRUTALLY Stabs Him In The...  Fake          0   \n",
              "1  U.S. conservative leader optimistic of common ...  Real          1   \n",
              "2  Trump proposes U.S. tax overhaul, stirs concer...  Real          1   \n",
              "3   Court Forces Ohio To Allow Millions Of Illega...  Fake          0   \n",
              "4  Democrats say Trump agrees to work on immigrat...  Real          1   \n",
              "\n",
              "                                              vector  \n",
              "0  [-0.6759837, 1.4263071, -2.318466, -0.451093, ...  \n",
              "1  [-1.8355803, 1.3101058, -2.4919677, 1.0268308,...  \n",
              "2  [-1.9851209, 0.14389805, -2.4221718, 0.9133005...  \n",
              "3  [-2.7812982, -0.16120885, -1.609772, 1.3624227...  \n",
              "4  [-2.2010763, 0.9961637, -2.4088492, 1.128273, ...  "
            ],
            "text/html": [
              "\n",
              "  <div id=\"df-dca13410-8821-4cb5-8e61-e57d7bee19f2\">\n",
              "    <div class=\"colab-df-container\">\n",
              "      <div>\n",
              "<style scoped>\n",
              "    .dataframe tbody tr th:only-of-type {\n",
              "        vertical-align: middle;\n",
              "    }\n",
              "\n",
              "    .dataframe tbody tr th {\n",
              "        vertical-align: top;\n",
              "    }\n",
              "\n",
              "    .dataframe thead th {\n",
              "        text-align: right;\n",
              "    }\n",
              "</style>\n",
              "<table border=\"1\" class=\"dataframe\">\n",
              "  <thead>\n",
              "    <tr style=\"text-align: right;\">\n",
              "      <th></th>\n",
              "      <th>Text</th>\n",
              "      <th>label</th>\n",
              "      <th>label_num</th>\n",
              "      <th>vector</th>\n",
              "    </tr>\n",
              "  </thead>\n",
              "  <tbody>\n",
              "    <tr>\n",
              "      <th>0</th>\n",
              "      <td>Top Trump Surrogate BRUTALLY Stabs Him In The...</td>\n",
              "      <td>Fake</td>\n",
              "      <td>0</td>\n",
              "      <td>[-0.6759837, 1.4263071, -2.318466, -0.451093, ...</td>\n",
              "    </tr>\n",
              "    <tr>\n",
              "      <th>1</th>\n",
              "      <td>U.S. conservative leader optimistic of common ...</td>\n",
              "      <td>Real</td>\n",
              "      <td>1</td>\n",
              "      <td>[-1.8355803, 1.3101058, -2.4919677, 1.0268308,...</td>\n",
              "    </tr>\n",
              "    <tr>\n",
              "      <th>2</th>\n",
              "      <td>Trump proposes U.S. tax overhaul, stirs concer...</td>\n",
              "      <td>Real</td>\n",
              "      <td>1</td>\n",
              "      <td>[-1.9851209, 0.14389805, -2.4221718, 0.9133005...</td>\n",
              "    </tr>\n",
              "    <tr>\n",
              "      <th>3</th>\n",
              "      <td>Court Forces Ohio To Allow Millions Of Illega...</td>\n",
              "      <td>Fake</td>\n",
              "      <td>0</td>\n",
              "      <td>[-2.7812982, -0.16120885, -1.609772, 1.3624227...</td>\n",
              "    </tr>\n",
              "    <tr>\n",
              "      <th>4</th>\n",
              "      <td>Democrats say Trump agrees to work on immigrat...</td>\n",
              "      <td>Real</td>\n",
              "      <td>1</td>\n",
              "      <td>[-2.2010763, 0.9961637, -2.4088492, 1.128273, ...</td>\n",
              "    </tr>\n",
              "  </tbody>\n",
              "</table>\n",
              "</div>\n",
              "      <button class=\"colab-df-convert\" onclick=\"convertToInteractive('df-dca13410-8821-4cb5-8e61-e57d7bee19f2')\"\n",
              "              title=\"Convert this dataframe to an interactive table.\"\n",
              "              style=\"display:none;\">\n",
              "        \n",
              "  <svg xmlns=\"http://www.w3.org/2000/svg\" height=\"24px\"viewBox=\"0 0 24 24\"\n",
              "       width=\"24px\">\n",
              "    <path d=\"M0 0h24v24H0V0z\" fill=\"none\"/>\n",
              "    <path d=\"M18.56 5.44l.94 2.06.94-2.06 2.06-.94-2.06-.94-.94-2.06-.94 2.06-2.06.94zm-11 1L8.5 8.5l.94-2.06 2.06-.94-2.06-.94L8.5 2.5l-.94 2.06-2.06.94zm10 10l.94 2.06.94-2.06 2.06-.94-2.06-.94-.94-2.06-.94 2.06-2.06.94z\"/><path d=\"M17.41 7.96l-1.37-1.37c-.4-.4-.92-.59-1.43-.59-.52 0-1.04.2-1.43.59L10.3 9.45l-7.72 7.72c-.78.78-.78 2.05 0 2.83L4 21.41c.39.39.9.59 1.41.59.51 0 1.02-.2 1.41-.59l7.78-7.78 2.81-2.81c.8-.78.8-2.07 0-2.86zM5.41 20L4 18.59l7.72-7.72 1.47 1.35L5.41 20z\"/>\n",
              "  </svg>\n",
              "      </button>\n",
              "      \n",
              "  <style>\n",
              "    .colab-df-container {\n",
              "      display:flex;\n",
              "      flex-wrap:wrap;\n",
              "      gap: 12px;\n",
              "    }\n",
              "\n",
              "    .colab-df-convert {\n",
              "      background-color: #E8F0FE;\n",
              "      border: none;\n",
              "      border-radius: 50%;\n",
              "      cursor: pointer;\n",
              "      display: none;\n",
              "      fill: #1967D2;\n",
              "      height: 32px;\n",
              "      padding: 0 0 0 0;\n",
              "      width: 32px;\n",
              "    }\n",
              "\n",
              "    .colab-df-convert:hover {\n",
              "      background-color: #E2EBFA;\n",
              "      box-shadow: 0px 1px 2px rgba(60, 64, 67, 0.3), 0px 1px 3px 1px rgba(60, 64, 67, 0.15);\n",
              "      fill: #174EA6;\n",
              "    }\n",
              "\n",
              "    [theme=dark] .colab-df-convert {\n",
              "      background-color: #3B4455;\n",
              "      fill: #D2E3FC;\n",
              "    }\n",
              "\n",
              "    [theme=dark] .colab-df-convert:hover {\n",
              "      background-color: #434B5C;\n",
              "      box-shadow: 0px 1px 3px 1px rgba(0, 0, 0, 0.15);\n",
              "      filter: drop-shadow(0px 1px 2px rgba(0, 0, 0, 0.3));\n",
              "      fill: #FFFFFF;\n",
              "    }\n",
              "  </style>\n",
              "\n",
              "      <script>\n",
              "        const buttonEl =\n",
              "          document.querySelector('#df-dca13410-8821-4cb5-8e61-e57d7bee19f2 button.colab-df-convert');\n",
              "        buttonEl.style.display =\n",
              "          google.colab.kernel.accessAllowed ? 'block' : 'none';\n",
              "\n",
              "        async function convertToInteractive(key) {\n",
              "          const element = document.querySelector('#df-dca13410-8821-4cb5-8e61-e57d7bee19f2');\n",
              "          const dataTable =\n",
              "            await google.colab.kernel.invokeFunction('convertToInteractive',\n",
              "                                                     [key], {});\n",
              "          if (!dataTable) return;\n",
              "\n",
              "          const docLinkHtml = 'Like what you see? Visit the ' +\n",
              "            '<a target=\"_blank\" href=https://colab.research.google.com/notebooks/data_table.ipynb>data table notebook</a>'\n",
              "            + ' to learn more about interactive tables.';\n",
              "          element.innerHTML = '';\n",
              "          dataTable['output_type'] = 'display_data';\n",
              "          await google.colab.output.renderOutput(dataTable, element);\n",
              "          const docLink = document.createElement('div');\n",
              "          docLink.innerHTML = docLinkHtml;\n",
              "          element.appendChild(docLink);\n",
              "        }\n",
              "      </script>\n",
              "    </div>\n",
              "  </div>\n",
              "  "
            ]
          },
          "metadata": {},
          "execution_count": 11
        }
      ]
    },
    {
      "cell_type": "code",
      "source": [
        "#splitting data using train test split model\n",
        "from sklearn.model_selection import train_test_split\n",
        "X_train,X_test,y_train,y_test=train_test_split(\n",
        "    df.vector.values,\n",
        "    df.label_num,\n",
        "    test_size=0.2,\n",
        "    random_state=2023,\n",
        ")"
      ],
      "metadata": {
        "id": "2LY2v_jWNDbk"
      },
      "execution_count": 12,
      "outputs": []
    },
    {
      "cell_type": "code",
      "source": [
        "X_train.shape,X_test.shape"
      ],
      "metadata": {
        "colab": {
          "base_uri": "https://localhost:8080/"
        },
        "id": "AaHV7OdUN1gQ",
        "outputId": "c5957ce0-fd9f-424d-964d-ce849eb2e618"
      },
      "execution_count": 13,
      "outputs": [
        {
          "output_type": "execute_result",
          "data": {
            "text/plain": [
              "((7920,), (1980,))"
            ]
          },
          "metadata": {},
          "execution_count": 13
        }
      ]
    },
    {
      "cell_type": "code",
      "source": [
        "y_train.shape,y_test.shape"
      ],
      "metadata": {
        "colab": {
          "base_uri": "https://localhost:8080/"
        },
        "id": "N-pCFUkAN5Jm",
        "outputId": "e192f0bd-06eb-450d-c588-130dc1a7a798"
      },
      "execution_count": 14,
      "outputs": [
        {
          "output_type": "execute_result",
          "data": {
            "text/plain": [
              "((7920,), (1980,))"
            ]
          },
          "metadata": {},
          "execution_count": 14
        }
      ]
    },
    {
      "cell_type": "code",
      "source": [
        "#this is 1-d array which our classifier cannot understand so we have to convert this to 2-d array\n",
        "import numpy as np\n",
        "X_train_2d=np.stack(X_train)\n",
        "X_test_2d=np.stack(X_test)"
      ],
      "metadata": {
        "id": "NOpuLEiiN7X4"
      },
      "execution_count": 15,
      "outputs": []
    },
    {
      "cell_type": "code",
      "source": [
        "X_train[:2]"
      ],
      "metadata": {
        "colab": {
          "base_uri": "https://localhost:8080/"
        },
        "id": "Ssv4jHSdOX3L",
        "outputId": "b7fef19c-c11a-4c12-c531-dc4c5b3c3b54"
      },
      "execution_count": 16,
      "outputs": [
        {
          "output_type": "execute_result",
          "data": {
            "text/plain": [
              "array([array([-1.5668225 ,  0.7193005 , -1.3984917 ,  0.52727246,  5.070563  ,\n",
              "               0.3672485 ,  0.15668513,  2.649323  , -0.23730232, -1.808466  ,\n",
              "               5.616688  ,  1.5052005 , -3.0761356 ,  0.37266147,  0.37555665,\n",
              "               2.157936  ,  1.5231117 , -0.05031684, -1.1941004 , -1.1107302 ,\n",
              "               1.4914346 , -1.564488  , -1.2656869 , -0.06108946,  0.47364494,\n",
              "              -1.2051016 , -1.7416915 , -0.5384246 , -0.30893984,  0.5933381 ,\n",
              "               0.64572483, -0.24970052, -0.9036851 , -1.942812  , -2.723214  ,\n",
              "              -1.0034223 , -0.6274632 ,  0.4470563 ,  0.59023315,  0.5031633 ,\n",
              "               0.72697556,  0.09279276, -0.12896812, -0.01897464, -2.098799  ,\n",
              "               0.675709  ,  0.6316914 , -1.7015005 , -1.3026391 ,  1.5715567 ,\n",
              "              -1.508045  ,  1.3969685 ,  0.48237985, -4.663938  , -0.4597945 ,\n",
              "               0.5374707 , -0.25118768,  0.43868366,  0.80715424, -0.5495164 ,\n",
              "               0.65371925, -1.3936385 ,  0.09246314, -0.65114665,  2.2258513 ,\n",
              "               1.3756688 , -2.409124  , -2.930157  ,  0.8887162 ,  1.934736  ,\n",
              "              -0.27134246, -0.58180785, -1.993645  , -0.53589225, -0.11412948,\n",
              "               1.2311313 , -3.0119917 ,  2.3182638 , -2.8591514 , -0.20538932,\n",
              "              -3.8549788 , -0.81266016,  0.54809093,  1.7131381 ,  2.0507624 ,\n",
              "               0.31545204, -1.8865561 , -3.4459298 ,  0.98064524, -1.2257301 ,\n",
              "              -1.1148239 , -0.077819  ,  1.8075955 , -2.671641  ,  0.67350173,\n",
              "              -1.4417022 ,  1.0150187 , -0.9533093 ,  0.6795643 ,  1.5265106 ,\n",
              "               2.028027  ,  1.2849901 ,  2.391117  ,  3.1249094 , -0.23436162,\n",
              "               3.4748943 ,  1.7756993 , -2.531802  , -0.38313627, -3.1759849 ,\n",
              "               1.5229028 ,  0.9371561 , -2.2054896 ,  0.5974945 ,  1.0155118 ,\n",
              "               0.4730829 , -0.6298142 , -0.7356248 , -0.6327548 , -0.93380624,\n",
              "              -0.35309353, -2.972944  ,  1.9279773 ,  1.0950855 , -0.35462025,\n",
              "              -3.348477  ,  1.6583097 , -2.2697315 ,  2.529571  , -1.4567274 ,\n",
              "              -2.6835606 , -0.21661131,  3.2319665 , -0.778783  ,  0.16773304,\n",
              "               0.7490841 , -1.8778287 , -0.3384777 ,  2.263229  , -2.0391574 ,\n",
              "              -1.6436129 , -0.8171861 ,  0.13617931,  1.270082  ,  0.9731722 ,\n",
              "               1.0073819 , -3.5076466 ,  0.4599584 ,  0.7257012 ,  0.926939  ,\n",
              "              -0.40350083,  2.4108899 , -0.38158125,  1.2868309 , -1.4629356 ,\n",
              "               1.1311746 ,  1.9432732 , -0.69171315, -1.6890608 , -0.581717  ,\n",
              "               0.216079  , -1.6868514 , -0.646067  ,  1.9522504 , -1.955811  ,\n",
              "              -2.0415306 , -3.5985937 ,  1.0450867 ,  0.12407293,  0.02720648,\n",
              "               1.2157362 , -0.15328935,  2.3856604 ,  0.04375422,  1.5003915 ,\n",
              "               0.09602887,  0.06623983, -0.31569928, -2.2425334 , -1.5340893 ,\n",
              "              -0.7519449 ,  0.78770274,  1.1130121 ,  0.03204149, -0.75449365,\n",
              "               1.0636159 , -1.3684276 ,  0.12870972,  1.162827  ,  1.3823184 ,\n",
              "               0.29281184, -1.7058593 ,  0.05613091, -1.2183031 ,  0.10665952,\n",
              "               0.59991056, -2.3036518 , -0.44474906, -0.27558705,  0.4176387 ,\n",
              "              -1.3445048 , -1.3172861 , -0.39167747, -2.2723951 ,  2.7689307 ,\n",
              "               0.91880804, -3.472204  ,  1.7307281 , -0.56162983, -0.05176952,\n",
              "               1.3699241 ,  1.1734873 , -1.4143633 ,  1.0783918 ,  1.2845616 ,\n",
              "               2.3203702 ,  0.32367033, -2.5668974 , -0.23706199,  0.13672353,\n",
              "              -2.284201  ,  1.0085154 , -0.11464395,  0.26826862, -1.6356645 ,\n",
              "              -0.1537465 ,  0.34346485,  2.3311424 ,  0.82520413, -0.20671695,\n",
              "               2.5538518 , -2.1990309 , -0.5207628 ,  1.5997063 ,  1.6612871 ,\n",
              "               1.6634433 , -1.4140048 ,  0.7408949 , -0.05871087, -0.18686743,\n",
              "               0.01276467,  0.02633532,  1.8111163 ,  0.09709532, -1.3646069 ,\n",
              "               1.9376527 , -2.2597516 , -0.24059252, -0.8226823 ,  2.393437  ,\n",
              "               1.2778647 , -2.4533944 , -4.104321  , -0.33762047,  1.002734  ,\n",
              "              -2.0362208 ,  1.8315876 , -0.32314754,  0.20611425,  0.8096698 ,\n",
              "              -0.4824341 ,  3.8794036 ,  3.2460892 ,  2.2222633 ,  1.8111092 ,\n",
              "              -0.5206669 , -0.26971638,  2.173731  , -2.6460004 , -0.2028346 ,\n",
              "              -0.0401503 ,  0.55913955,  0.78983915, -1.8851209 ,  1.6384939 ,\n",
              "              -0.1891908 ,  0.8978581 , -2.1645055 , -0.32950714,  1.7190193 ,\n",
              "               1.4062992 ,  0.2617706 ,  0.50839686,  0.772071  ,  2.056035  ,\n",
              "              -0.66373587,  0.70245403,  1.2695981 , -0.08954979,  0.7238981 ,\n",
              "               0.52895427, -0.5663586 , -0.6269989 , -0.2177044 , -1.3647747 ,\n",
              "               1.1158334 ,  1.0154263 , -0.82796407, -1.8337607 ,  0.46694985],\n",
              "             dtype=float32)                                                    ,\n",
              "       array([-1.77441573e+00,  2.30358392e-01, -1.79382801e+00,  7.36893773e-01,\n",
              "               4.69538546e+00,  1.04337431e-01,  4.77706581e-01,  4.59670401e+00,\n",
              "              -8.16451013e-02, -1.28266358e+00,  4.89625645e+00,  1.51414990e+00,\n",
              "              -3.40572882e+00,  5.13215840e-01,  4.95487675e-02,  2.50896239e+00,\n",
              "               5.77053308e-01, -2.50737995e-01, -1.16405714e+00, -1.05873060e+00,\n",
              "               6.13320172e-01, -7.70511746e-01, -1.02875507e+00,  2.03087121e-01,\n",
              "              -1.70534924e-01, -9.93003845e-01, -1.87105358e+00, -9.50285017e-01,\n",
              "              -5.62308133e-01,  9.48492825e-01,  1.01802385e+00,  2.75174260e-01,\n",
              "              -3.00908506e-01, -1.73301899e+00, -2.74247599e+00, -8.46410334e-01,\n",
              "              -6.76535070e-01,  9.46680665e-01,  9.21302080e-01,  2.56568849e-01,\n",
              "               8.22811797e-02,  9.12205055e-02, -3.58172767e-02,  7.71277249e-01,\n",
              "              -1.74939406e+00,  1.33229530e+00,  4.63652283e-01, -1.42828631e+00,\n",
              "              -3.76575649e-01,  1.98067963e+00, -1.54511023e+00,  1.68918860e+00,\n",
              "              -2.07561031e-01, -3.91817570e+00, -2.87515432e-01,  6.28046393e-01,\n",
              "              -3.44439298e-01,  8.58268738e-01,  8.39502156e-01, -4.01126146e-01,\n",
              "              -2.55778059e-03, -3.02962333e-01,  2.24372461e-01, -1.28657246e+00,\n",
              "               2.68388677e+00,  1.55555522e+00, -2.10575604e+00, -2.18779945e+00,\n",
              "               7.53072202e-01,  1.85572708e+00, -3.40671688e-02, -1.01934493e+00,\n",
              "              -1.91274035e+00,  5.24397016e-01, -6.43588543e-01,  1.09208250e+00,\n",
              "              -2.57828856e+00,  2.07007122e+00, -3.09696198e+00,  1.55027837e-01,\n",
              "              -3.68908548e+00, -1.02262437e-01,  6.28219485e-01,  4.82233584e-01,\n",
              "               2.23494601e+00,  3.06656629e-01, -2.34426856e+00, -2.55199981e+00,\n",
              "               1.28348792e+00, -3.65777284e-01, -1.22420132e+00,  3.47487956e-01,\n",
              "               1.65865064e+00, -2.74923325e+00,  8.98213506e-01, -6.63551271e-01,\n",
              "               3.92964631e-01, -1.01501250e+00,  1.40778375e+00,  1.64107144e+00,\n",
              "               2.12082386e+00,  1.15869892e+00,  2.52966952e+00,  3.36501026e+00,\n",
              "              -2.15091601e-01,  3.34715676e+00,  1.13441095e-01, -1.96822774e+00,\n",
              "              -4.63749409e-01, -2.57859182e+00,  4.58496481e-01,  5.60055554e-01,\n",
              "              -1.49784219e+00,  5.34091294e-01,  5.57834208e-01,  7.99022377e-01,\n",
              "              -7.28974521e-01, -5.98738380e-02, -5.30332983e-01, -5.23156762e-01,\n",
              "              -4.51654375e-01, -2.94432330e+00,  1.06384325e+00,  5.25891602e-01,\n",
              "              -1.02150500e+00, -3.28589392e+00,  1.03349566e+00, -1.41942215e+00,\n",
              "               2.50113058e+00, -8.30071986e-01, -2.26066518e+00, -5.91209352e-01,\n",
              "               3.96799135e+00, -5.53184152e-01, -9.29222256e-02,  4.41172600e-01,\n",
              "              -1.50522423e+00, -5.82251132e-01,  2.45606351e+00, -1.57832575e+00,\n",
              "              -1.79589081e+00, -6.28905416e-01,  4.85295802e-01,  1.40624750e+00,\n",
              "               7.76473820e-01,  6.17521763e-01, -3.60471201e+00, -7.54183114e-01,\n",
              "               1.40380168e+00,  9.44319785e-01,  1.21037669e-01,  2.02681494e+00,\n",
              "               2.76004136e-01,  2.00587106e+00, -1.16644049e+00,  9.27494586e-01,\n",
              "               2.31120801e+00, -1.10350239e+00, -2.13969111e+00, -1.53006744e+00,\n",
              "              -2.91463017e-01, -2.09295464e+00,  6.39021754e-01,  2.14663792e+00,\n",
              "              -2.33544016e+00, -1.36750996e+00, -3.32060003e+00,  8.79446387e-01,\n",
              "              -9.32826772e-02,  8.47007155e-01,  9.35466528e-01, -3.50063413e-01,\n",
              "               1.75060546e+00,  2.14504346e-01,  1.22998905e+00,  8.75508010e-01,\n",
              "              -8.49315226e-02, -1.70850918e-01, -2.29738307e+00, -1.45497704e+00,\n",
              "              -9.35617805e-01,  2.06324190e-01,  9.81099129e-01,  1.19751997e-01,\n",
              "              -1.23143423e+00,  9.94683623e-01, -1.56361818e+00,  2.03855217e-01,\n",
              "               8.58108699e-01,  1.69598234e+00,  8.96229297e-02, -1.53183246e+00,\n",
              "               9.81328636e-03, -1.18767583e+00, -6.81265220e-02,  4.60991204e-01,\n",
              "              -2.96385336e+00, -6.02882326e-01, -2.70298123e-01,  8.75856936e-01,\n",
              "              -1.07525408e+00, -1.90581477e+00, -1.51737377e-01, -2.24344492e+00,\n",
              "               3.00550818e+00,  7.61796713e-01, -2.38941526e+00,  1.41748333e+00,\n",
              "               2.59126946e-02, -6.59785792e-02,  1.26355135e+00,  9.67596889e-01,\n",
              "              -1.18581736e+00,  1.53137755e+00,  9.96373415e-01,  2.15595007e+00,\n",
              "               1.05763423e+00, -1.93992126e+00, -5.82370043e-01,  3.77598703e-02,\n",
              "              -1.83671963e+00,  1.00546432e+00, -2.30259597e-01,  2.23297492e-01,\n",
              "              -1.76899302e+00, -1.16591668e+00,  4.16101903e-01,  2.35030866e+00,\n",
              "               1.18506253e+00,  7.11409032e-01,  2.39877224e+00, -2.58219147e+00,\n",
              "              -5.15397549e-01,  1.81159890e+00,  1.88187659e+00,  1.77760196e+00,\n",
              "              -8.99708271e-01,  5.29147446e-01, -6.06716931e-01, -2.22605750e-01,\n",
              "              -3.76626730e-01,  3.35750550e-01,  1.15856242e+00,  4.90081072e-01,\n",
              "              -7.74412811e-01,  1.39797616e+00, -1.96028864e+00,  2.73280352e-01,\n",
              "               2.64338344e-01,  2.43218970e+00,  7.59133935e-01, -2.84384084e+00,\n",
              "              -4.58890676e+00, -6.03133917e-01,  5.71205080e-01, -1.84086585e+00,\n",
              "               2.12932992e+00, -3.15483183e-01,  4.71391976e-01,  9.02556241e-01,\n",
              "               2.08810449e-01,  3.91671348e+00,  2.48008871e+00,  2.29119062e+00,\n",
              "               1.42664456e+00, -2.14253664e-01,  1.47743642e-01,  1.99432290e+00,\n",
              "              -3.03615284e+00, -2.37627760e-01,  4.73884165e-01, -3.19982678e-01,\n",
              "               8.28775287e-01, -1.98003364e+00,  4.64749843e-01, -8.55880007e-02,\n",
              "               1.10008252e+00, -1.59165287e+00, -8.82974863e-01,  2.05235243e+00,\n",
              "               1.81045949e+00,  2.57056266e-01,  4.81868386e-01,  9.78920877e-01,\n",
              "               2.25126982e+00, -1.27615929e+00,  8.01339328e-01,  1.78986037e+00,\n",
              "              -1.51143813e+00, -3.96735489e-01,  3.76385033e-01, -3.86254251e-01,\n",
              "              -4.71502185e-01, -8.93651247e-02, -9.95952606e-01,  1.63141513e+00,\n",
              "               6.96740568e-01, -1.19689786e+00, -2.41291928e+00,  7.51379311e-01],\n",
              "             dtype=float32)                                                       ],\n",
              "      dtype=object)"
            ]
          },
          "metadata": {},
          "execution_count": 16
        }
      ]
    },
    {
      "cell_type": "code",
      "source": [
        "X_train_2d[:2]"
      ],
      "metadata": {
        "colab": {
          "base_uri": "https://localhost:8080/"
        },
        "id": "ueX0YjMROarJ",
        "outputId": "f5b83435-28dc-49b8-8e89-c481722492d6"
      },
      "execution_count": 17,
      "outputs": [
        {
          "output_type": "execute_result",
          "data": {
            "text/plain": [
              "array([[-1.56682253e+00,  7.19300508e-01, -1.39849174e+00,\n",
              "         5.27272463e-01,  5.07056284e+00,  3.67248505e-01,\n",
              "         1.56685129e-01,  2.64932299e+00, -2.37302318e-01,\n",
              "        -1.80846596e+00,  5.61668777e+00,  1.50520051e+00,\n",
              "        -3.07613564e+00,  3.72661471e-01,  3.75556648e-01,\n",
              "         2.15793610e+00,  1.52311170e+00, -5.03168367e-02,\n",
              "        -1.19410038e+00, -1.11073017e+00,  1.49143457e+00,\n",
              "        -1.56448805e+00, -1.26568687e+00, -6.10894635e-02,\n",
              "         4.73644942e-01, -1.20510161e+00, -1.74169147e+00,\n",
              "        -5.38424611e-01, -3.08939844e-01,  5.93338072e-01,\n",
              "         6.45724833e-01, -2.49700516e-01, -9.03685093e-01,\n",
              "        -1.94281197e+00, -2.72321391e+00, -1.00342226e+00,\n",
              "        -6.27463222e-01,  4.47056293e-01,  5.90233147e-01,\n",
              "         5.03163278e-01,  7.26975560e-01,  9.27927569e-02,\n",
              "        -1.28968120e-01, -1.89746413e-02, -2.09879899e+00,\n",
              "         6.75709009e-01,  6.31691396e-01, -1.70150054e+00,\n",
              "        -1.30263913e+00,  1.57155669e+00, -1.50804496e+00,\n",
              "         1.39696848e+00,  4.82379854e-01, -4.66393805e+00,\n",
              "        -4.59794492e-01,  5.37470698e-01, -2.51187682e-01,\n",
              "         4.38683659e-01,  8.07154238e-01, -5.49516380e-01,\n",
              "         6.53719246e-01, -1.39363849e+00,  9.24631357e-02,\n",
              "        -6.51146650e-01,  2.22585130e+00,  1.37566876e+00,\n",
              "        -2.40912390e+00, -2.93015695e+00,  8.88716221e-01,\n",
              "         1.93473601e+00, -2.71342456e-01, -5.81807852e-01,\n",
              "        -1.99364495e+00, -5.35892248e-01, -1.14129476e-01,\n",
              "         1.23113132e+00, -3.01199174e+00,  2.31826377e+00,\n",
              "        -2.85915136e+00, -2.05389321e-01, -3.85497880e+00,\n",
              "        -8.12660158e-01,  5.48090935e-01,  1.71313810e+00,\n",
              "         2.05076241e+00,  3.15452039e-01, -1.88655615e+00,\n",
              "        -3.44592977e+00,  9.80645239e-01, -1.22573006e+00,\n",
              "        -1.11482394e+00, -7.78190047e-02,  1.80759549e+00,\n",
              "        -2.67164111e+00,  6.73501730e-01, -1.44170225e+00,\n",
              "         1.01501870e+00, -9.53309298e-01,  6.79564297e-01,\n",
              "         1.52651060e+00,  2.02802706e+00,  1.28499007e+00,\n",
              "         2.39111710e+00,  3.12490940e+00, -2.34361619e-01,\n",
              "         3.47489429e+00,  1.77569926e+00, -2.53180194e+00,\n",
              "        -3.83136272e-01, -3.17598486e+00,  1.52290285e+00,\n",
              "         9.37156081e-01, -2.20548964e+00,  5.97494483e-01,\n",
              "         1.01551175e+00,  4.73082900e-01, -6.29814208e-01,\n",
              "        -7.35624790e-01, -6.32754803e-01, -9.33806241e-01,\n",
              "        -3.53093535e-01, -2.97294402e+00,  1.92797732e+00,\n",
              "         1.09508550e+00, -3.54620248e-01, -3.34847689e+00,\n",
              "         1.65830970e+00, -2.26973152e+00,  2.52957106e+00,\n",
              "        -1.45672739e+00, -2.68356061e+00, -2.16611311e-01,\n",
              "         3.23196650e+00, -7.78783023e-01,  1.67733043e-01,\n",
              "         7.49084115e-01, -1.87782872e+00, -3.38477701e-01,\n",
              "         2.26322889e+00, -2.03915739e+00, -1.64361286e+00,\n",
              "        -8.17186117e-01,  1.36179313e-01,  1.27008200e+00,\n",
              "         9.73172188e-01,  1.00738192e+00, -3.50764656e+00,\n",
              "         4.59958404e-01,  7.25701213e-01,  9.26939011e-01,\n",
              "        -4.03500825e-01,  2.41088986e+00, -3.81581247e-01,\n",
              "         1.28683090e+00, -1.46293557e+00,  1.13117456e+00,\n",
              "         1.94327319e+00, -6.91713154e-01, -1.68906081e+00,\n",
              "        -5.81717014e-01,  2.16078997e-01, -1.68685138e+00,\n",
              "        -6.46067023e-01,  1.95225036e+00, -1.95581102e+00,\n",
              "        -2.04153061e+00, -3.59859371e+00,  1.04508674e+00,\n",
              "         1.24072932e-01,  2.72064786e-02,  1.21573615e+00,\n",
              "        -1.53289348e-01,  2.38566041e+00,  4.37542200e-02,\n",
              "         1.50039148e+00,  9.60288718e-02,  6.62398264e-02,\n",
              "        -3.15699279e-01, -2.24253345e+00, -1.53408933e+00,\n",
              "        -7.51944900e-01,  7.87702739e-01,  1.11301208e+00,\n",
              "         3.20414864e-02, -7.54493654e-01,  1.06361592e+00,\n",
              "        -1.36842763e+00,  1.28709719e-01,  1.16282701e+00,\n",
              "         1.38231838e+00,  2.92811841e-01, -1.70585930e+00,\n",
              "         5.61309122e-02, -1.21830308e+00,  1.06659524e-01,\n",
              "         5.99910557e-01, -2.30365181e+00, -4.44749057e-01,\n",
              "        -2.75587052e-01,  4.17638689e-01, -1.34450483e+00,\n",
              "        -1.31728613e+00, -3.91677469e-01, -2.27239513e+00,\n",
              "         2.76893067e+00,  9.18808043e-01, -3.47220397e+00,\n",
              "         1.73072815e+00, -5.61629832e-01, -5.17695211e-02,\n",
              "         1.36992407e+00,  1.17348731e+00, -1.41436327e+00,\n",
              "         1.07839179e+00,  1.28456163e+00,  2.32037020e+00,\n",
              "         3.23670328e-01, -2.56689739e+00, -2.37061992e-01,\n",
              "         1.36723533e-01, -2.28420091e+00,  1.00851536e+00,\n",
              "        -1.14643946e-01,  2.68268615e-01, -1.63566446e+00,\n",
              "        -1.53746501e-01,  3.43464851e-01,  2.33114243e+00,\n",
              "         8.25204134e-01, -2.06716955e-01,  2.55385184e+00,\n",
              "        -2.19903088e+00, -5.20762801e-01,  1.59970629e+00,\n",
              "         1.66128707e+00,  1.66344333e+00, -1.41400480e+00,\n",
              "         7.40894914e-01, -5.87108731e-02, -1.86867431e-01,\n",
              "         1.27646746e-02,  2.63353214e-02,  1.81111634e+00,\n",
              "         9.70953181e-02, -1.36460686e+00,  1.93765271e+00,\n",
              "        -2.25975156e+00, -2.40592524e-01, -8.22682321e-01,\n",
              "         2.39343691e+00,  1.27786469e+00, -2.45339441e+00,\n",
              "        -4.10432100e+00, -3.37620467e-01,  1.00273395e+00,\n",
              "        -2.03622079e+00,  1.83158755e+00, -3.23147535e-01,\n",
              "         2.06114247e-01,  8.09669793e-01, -4.82434094e-01,\n",
              "         3.87940359e+00,  3.24608922e+00,  2.22226334e+00,\n",
              "         1.81110919e+00, -5.20666897e-01, -2.69716382e-01,\n",
              "         2.17373109e+00, -2.64600039e+00, -2.02834606e-01,\n",
              "        -4.01502959e-02,  5.59139550e-01,  7.89839149e-01,\n",
              "        -1.88512087e+00,  1.63849390e+00, -1.89190805e-01,\n",
              "         8.97858083e-01, -2.16450548e+00, -3.29507142e-01,\n",
              "         1.71901929e+00,  1.40629923e+00,  2.61770606e-01,\n",
              "         5.08396864e-01,  7.72071004e-01,  2.05603504e+00,\n",
              "        -6.63735867e-01,  7.02454031e-01,  1.26959813e+00,\n",
              "        -8.95497873e-02,  7.23898113e-01,  5.28954268e-01,\n",
              "        -5.66358626e-01, -6.26998901e-01, -2.17704400e-01,\n",
              "        -1.36477470e+00,  1.11583340e+00,  1.01542628e+00,\n",
              "        -8.27964067e-01, -1.83376074e+00,  4.66949850e-01],\n",
              "       [-1.77441573e+00,  2.30358392e-01, -1.79382801e+00,\n",
              "         7.36893773e-01,  4.69538546e+00,  1.04337431e-01,\n",
              "         4.77706581e-01,  4.59670401e+00, -8.16451013e-02,\n",
              "        -1.28266358e+00,  4.89625645e+00,  1.51414990e+00,\n",
              "        -3.40572882e+00,  5.13215840e-01,  4.95487675e-02,\n",
              "         2.50896239e+00,  5.77053308e-01, -2.50737995e-01,\n",
              "        -1.16405714e+00, -1.05873060e+00,  6.13320172e-01,\n",
              "        -7.70511746e-01, -1.02875507e+00,  2.03087121e-01,\n",
              "        -1.70534924e-01, -9.93003845e-01, -1.87105358e+00,\n",
              "        -9.50285017e-01, -5.62308133e-01,  9.48492825e-01,\n",
              "         1.01802385e+00,  2.75174260e-01, -3.00908506e-01,\n",
              "        -1.73301899e+00, -2.74247599e+00, -8.46410334e-01,\n",
              "        -6.76535070e-01,  9.46680665e-01,  9.21302080e-01,\n",
              "         2.56568849e-01,  8.22811797e-02,  9.12205055e-02,\n",
              "        -3.58172767e-02,  7.71277249e-01, -1.74939406e+00,\n",
              "         1.33229530e+00,  4.63652283e-01, -1.42828631e+00,\n",
              "        -3.76575649e-01,  1.98067963e+00, -1.54511023e+00,\n",
              "         1.68918860e+00, -2.07561031e-01, -3.91817570e+00,\n",
              "        -2.87515432e-01,  6.28046393e-01, -3.44439298e-01,\n",
              "         8.58268738e-01,  8.39502156e-01, -4.01126146e-01,\n",
              "        -2.55778059e-03, -3.02962333e-01,  2.24372461e-01,\n",
              "        -1.28657246e+00,  2.68388677e+00,  1.55555522e+00,\n",
              "        -2.10575604e+00, -2.18779945e+00,  7.53072202e-01,\n",
              "         1.85572708e+00, -3.40671688e-02, -1.01934493e+00,\n",
              "        -1.91274035e+00,  5.24397016e-01, -6.43588543e-01,\n",
              "         1.09208250e+00, -2.57828856e+00,  2.07007122e+00,\n",
              "        -3.09696198e+00,  1.55027837e-01, -3.68908548e+00,\n",
              "        -1.02262437e-01,  6.28219485e-01,  4.82233584e-01,\n",
              "         2.23494601e+00,  3.06656629e-01, -2.34426856e+00,\n",
              "        -2.55199981e+00,  1.28348792e+00, -3.65777284e-01,\n",
              "        -1.22420132e+00,  3.47487956e-01,  1.65865064e+00,\n",
              "        -2.74923325e+00,  8.98213506e-01, -6.63551271e-01,\n",
              "         3.92964631e-01, -1.01501250e+00,  1.40778375e+00,\n",
              "         1.64107144e+00,  2.12082386e+00,  1.15869892e+00,\n",
              "         2.52966952e+00,  3.36501026e+00, -2.15091601e-01,\n",
              "         3.34715676e+00,  1.13441095e-01, -1.96822774e+00,\n",
              "        -4.63749409e-01, -2.57859182e+00,  4.58496481e-01,\n",
              "         5.60055554e-01, -1.49784219e+00,  5.34091294e-01,\n",
              "         5.57834208e-01,  7.99022377e-01, -7.28974521e-01,\n",
              "        -5.98738380e-02, -5.30332983e-01, -5.23156762e-01,\n",
              "        -4.51654375e-01, -2.94432330e+00,  1.06384325e+00,\n",
              "         5.25891602e-01, -1.02150500e+00, -3.28589392e+00,\n",
              "         1.03349566e+00, -1.41942215e+00,  2.50113058e+00,\n",
              "        -8.30071986e-01, -2.26066518e+00, -5.91209352e-01,\n",
              "         3.96799135e+00, -5.53184152e-01, -9.29222256e-02,\n",
              "         4.41172600e-01, -1.50522423e+00, -5.82251132e-01,\n",
              "         2.45606351e+00, -1.57832575e+00, -1.79589081e+00,\n",
              "        -6.28905416e-01,  4.85295802e-01,  1.40624750e+00,\n",
              "         7.76473820e-01,  6.17521763e-01, -3.60471201e+00,\n",
              "        -7.54183114e-01,  1.40380168e+00,  9.44319785e-01,\n",
              "         1.21037669e-01,  2.02681494e+00,  2.76004136e-01,\n",
              "         2.00587106e+00, -1.16644049e+00,  9.27494586e-01,\n",
              "         2.31120801e+00, -1.10350239e+00, -2.13969111e+00,\n",
              "        -1.53006744e+00, -2.91463017e-01, -2.09295464e+00,\n",
              "         6.39021754e-01,  2.14663792e+00, -2.33544016e+00,\n",
              "        -1.36750996e+00, -3.32060003e+00,  8.79446387e-01,\n",
              "        -9.32826772e-02,  8.47007155e-01,  9.35466528e-01,\n",
              "        -3.50063413e-01,  1.75060546e+00,  2.14504346e-01,\n",
              "         1.22998905e+00,  8.75508010e-01, -8.49315226e-02,\n",
              "        -1.70850918e-01, -2.29738307e+00, -1.45497704e+00,\n",
              "        -9.35617805e-01,  2.06324190e-01,  9.81099129e-01,\n",
              "         1.19751997e-01, -1.23143423e+00,  9.94683623e-01,\n",
              "        -1.56361818e+00,  2.03855217e-01,  8.58108699e-01,\n",
              "         1.69598234e+00,  8.96229297e-02, -1.53183246e+00,\n",
              "         9.81328636e-03, -1.18767583e+00, -6.81265220e-02,\n",
              "         4.60991204e-01, -2.96385336e+00, -6.02882326e-01,\n",
              "        -2.70298123e-01,  8.75856936e-01, -1.07525408e+00,\n",
              "        -1.90581477e+00, -1.51737377e-01, -2.24344492e+00,\n",
              "         3.00550818e+00,  7.61796713e-01, -2.38941526e+00,\n",
              "         1.41748333e+00,  2.59126946e-02, -6.59785792e-02,\n",
              "         1.26355135e+00,  9.67596889e-01, -1.18581736e+00,\n",
              "         1.53137755e+00,  9.96373415e-01,  2.15595007e+00,\n",
              "         1.05763423e+00, -1.93992126e+00, -5.82370043e-01,\n",
              "         3.77598703e-02, -1.83671963e+00,  1.00546432e+00,\n",
              "        -2.30259597e-01,  2.23297492e-01, -1.76899302e+00,\n",
              "        -1.16591668e+00,  4.16101903e-01,  2.35030866e+00,\n",
              "         1.18506253e+00,  7.11409032e-01,  2.39877224e+00,\n",
              "        -2.58219147e+00, -5.15397549e-01,  1.81159890e+00,\n",
              "         1.88187659e+00,  1.77760196e+00, -8.99708271e-01,\n",
              "         5.29147446e-01, -6.06716931e-01, -2.22605750e-01,\n",
              "        -3.76626730e-01,  3.35750550e-01,  1.15856242e+00,\n",
              "         4.90081072e-01, -7.74412811e-01,  1.39797616e+00,\n",
              "        -1.96028864e+00,  2.73280352e-01,  2.64338344e-01,\n",
              "         2.43218970e+00,  7.59133935e-01, -2.84384084e+00,\n",
              "        -4.58890676e+00, -6.03133917e-01,  5.71205080e-01,\n",
              "        -1.84086585e+00,  2.12932992e+00, -3.15483183e-01,\n",
              "         4.71391976e-01,  9.02556241e-01,  2.08810449e-01,\n",
              "         3.91671348e+00,  2.48008871e+00,  2.29119062e+00,\n",
              "         1.42664456e+00, -2.14253664e-01,  1.47743642e-01,\n",
              "         1.99432290e+00, -3.03615284e+00, -2.37627760e-01,\n",
              "         4.73884165e-01, -3.19982678e-01,  8.28775287e-01,\n",
              "        -1.98003364e+00,  4.64749843e-01, -8.55880007e-02,\n",
              "         1.10008252e+00, -1.59165287e+00, -8.82974863e-01,\n",
              "         2.05235243e+00,  1.81045949e+00,  2.57056266e-01,\n",
              "         4.81868386e-01,  9.78920877e-01,  2.25126982e+00,\n",
              "        -1.27615929e+00,  8.01339328e-01,  1.78986037e+00,\n",
              "        -1.51143813e+00, -3.96735489e-01,  3.76385033e-01,\n",
              "        -3.86254251e-01, -4.71502185e-01, -8.93651247e-02,\n",
              "        -9.95952606e-01,  1.63141513e+00,  6.96740568e-01,\n",
              "        -1.19689786e+00, -2.41291928e+00,  7.51379311e-01]], dtype=float32)"
            ]
          },
          "metadata": {},
          "execution_count": 17
        }
      ]
    },
    {
      "cell_type": "markdown",
      "source": [
        "**Note:** Here we have negative values which our multinomial classifier cannot understand so we will tackle these negative values with mix max scaling"
      ],
      "metadata": {
        "id": "6xg98WbNOqDa"
      }
    },
    {
      "cell_type": "code",
      "source": [
        "from sklearn.naive_bayes import MultinomialNB\n",
        "from sklearn.preprocessing import MinMaxScaler\n",
        "scaler=MinMaxScaler()\n",
        "scaled_train_embed=scaler.fit_transform(X_train_2d)\n",
        "scaled_test_embed=scaler.transform(X_test_2d)\n",
        "clf=MultinomialNB()\n",
        "clf.fit(scaled_train_embed,y_train)"
      ],
      "metadata": {
        "colab": {
          "base_uri": "https://localhost:8080/"
        },
        "id": "f9pGJlIHOfba",
        "outputId": "3f12cd7d-0979-4f1d-e045-5315bd7d5f95"
      },
      "execution_count": 19,
      "outputs": [
        {
          "output_type": "execute_result",
          "data": {
            "text/plain": [
              "MultinomialNB()"
            ]
          },
          "metadata": {},
          "execution_count": 19
        }
      ]
    },
    {
      "cell_type": "code",
      "source": [
        "from sklearn.metrics import classification_report\n",
        "y_pred=clf.predict(scaled_test_embed)\n",
        "print(classification_report(y_test,y_pred))"
      ],
      "metadata": {
        "colab": {
          "base_uri": "https://localhost:8080/"
        },
        "id": "1mDAS8fZQSFh",
        "outputId": "40060076-5f8c-4298-81bc-ec04fcaeb243"
      },
      "execution_count": 23,
      "outputs": [
        {
          "output_type": "stream",
          "name": "stdout",
          "text": [
            "              precision    recall  f1-score   support\n",
            "\n",
            "           0       0.95      0.94      0.95      1004\n",
            "           1       0.94      0.95      0.95       976\n",
            "\n",
            "    accuracy                           0.95      1980\n",
            "   macro avg       0.95      0.95      0.95      1980\n",
            "weighted avg       0.95      0.95      0.95      1980\n",
            "\n"
          ]
        }
      ]
    },
    {
      "cell_type": "markdown",
      "source": [
        "###Accuracy is improved"
      ],
      "metadata": {
        "id": "H0Wiqb0DULs2"
      }
    },
    {
      "cell_type": "code",
      "source": [
        "# using Another classifier\n",
        "from sklearn.neighbors import KNeighborsClassifier\n",
        "clf=KNeighborsClassifier(n_neighbors=5,metric='euclidean')\n",
        "clf.fit(X_train_2d,y_train)\n",
        "y_pred=clf.predict(X_test_2d)\n",
        "print(classification_report(y_test,y_pred))"
      ],
      "metadata": {
        "colab": {
          "base_uri": "https://localhost:8080/"
        },
        "id": "Psq-6HGjRpH7",
        "outputId": "28ce5f48-f984-4f2a-f0b3-372374f39cc7"
      },
      "execution_count": 24,
      "outputs": [
        {
          "output_type": "stream",
          "name": "stdout",
          "text": [
            "              precision    recall  f1-score   support\n",
            "\n",
            "           0       0.99      0.99      0.99      1004\n",
            "           1       0.99      0.99      0.99       976\n",
            "\n",
            "    accuracy                           0.99      1980\n",
            "   macro avg       0.99      0.99      0.99      1980\n",
            "weighted avg       0.99      0.99      0.99      1980\n",
            "\n"
          ]
        }
      ]
    },
    {
      "cell_type": "code",
      "source": [],
      "metadata": {
        "id": "MfxwUjTwUI4-"
      },
      "execution_count": null,
      "outputs": []
    }
  ]
}