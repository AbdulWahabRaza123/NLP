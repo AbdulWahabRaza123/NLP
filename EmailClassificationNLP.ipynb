{
  "nbformat": 4,
  "nbformat_minor": 0,
  "metadata": {
    "colab": {
      "provenance": [],
      "authorship_tag": "ABX9TyMp3vqr8KJykPRObsIkevz6",
      "include_colab_link": true
    },
    "kernelspec": {
      "name": "python3",
      "display_name": "Python 3"
    },
    "language_info": {
      "name": "python"
    }
  },
  "cells": [
    {
      "cell_type": "markdown",
      "metadata": {
        "id": "view-in-github",
        "colab_type": "text"
      },
      "source": [
        "<a href=\"https://colab.research.google.com/github/AbdulWahabRaza123/NLP/blob/main/EmailClassificationNLP.ipynb\" target=\"_parent\"><img src=\"https://colab.research.google.com/assets/colab-badge.svg\" alt=\"Open In Colab\"/></a>"
      ]
    },
    {
      "cell_type": "code",
      "execution_count": 3,
      "metadata": {
        "id": "vVeLlcp47UQG"
      },
      "outputs": [],
      "source": [
        "import pandas as pd\n",
        "import numpy as np"
      ]
    },
    {
      "cell_type": "markdown",
      "source": [
        "https://github.com/codebasics/nlp-tutorials/blob/main/9_bag_of_words/spam.csv"
      ],
      "metadata": {
        "id": "3hNS4Jk-UcDK"
      }
    },
    {
      "cell_type": "code",
      "source": [
        "df=pd.read_csv('/content/spam.csv')\n",
        "df.head()"
      ],
      "metadata": {
        "colab": {
          "base_uri": "https://localhost:8080/",
          "height": 206
        },
        "id": "C7qHS_49BVNy",
        "outputId": "715ad064-e38e-4efb-b257-03dea0b2eb24"
      },
      "execution_count": 4,
      "outputs": [
        {
          "output_type": "execute_result",
          "data": {
            "text/plain": [
              "  Category                                            Message\n",
              "0      ham  Go until jurong point, crazy.. Available only ...\n",
              "1      ham                      Ok lar... Joking wif u oni...\n",
              "2     spam  Free entry in 2 a wkly comp to win FA Cup fina...\n",
              "3      ham  U dun say so early hor... U c already then say...\n",
              "4      ham  Nah I don't think he goes to usf, he lives aro..."
            ],
            "text/html": [
              "\n",
              "  <div id=\"df-abd4d7ef-dcfd-4afe-9ff0-4ad59fb7ad1c\">\n",
              "    <div class=\"colab-df-container\">\n",
              "      <div>\n",
              "<style scoped>\n",
              "    .dataframe tbody tr th:only-of-type {\n",
              "        vertical-align: middle;\n",
              "    }\n",
              "\n",
              "    .dataframe tbody tr th {\n",
              "        vertical-align: top;\n",
              "    }\n",
              "\n",
              "    .dataframe thead th {\n",
              "        text-align: right;\n",
              "    }\n",
              "</style>\n",
              "<table border=\"1\" class=\"dataframe\">\n",
              "  <thead>\n",
              "    <tr style=\"text-align: right;\">\n",
              "      <th></th>\n",
              "      <th>Category</th>\n",
              "      <th>Message</th>\n",
              "    </tr>\n",
              "  </thead>\n",
              "  <tbody>\n",
              "    <tr>\n",
              "      <th>0</th>\n",
              "      <td>ham</td>\n",
              "      <td>Go until jurong point, crazy.. Available only ...</td>\n",
              "    </tr>\n",
              "    <tr>\n",
              "      <th>1</th>\n",
              "      <td>ham</td>\n",
              "      <td>Ok lar... Joking wif u oni...</td>\n",
              "    </tr>\n",
              "    <tr>\n",
              "      <th>2</th>\n",
              "      <td>spam</td>\n",
              "      <td>Free entry in 2 a wkly comp to win FA Cup fina...</td>\n",
              "    </tr>\n",
              "    <tr>\n",
              "      <th>3</th>\n",
              "      <td>ham</td>\n",
              "      <td>U dun say so early hor... U c already then say...</td>\n",
              "    </tr>\n",
              "    <tr>\n",
              "      <th>4</th>\n",
              "      <td>ham</td>\n",
              "      <td>Nah I don't think he goes to usf, he lives aro...</td>\n",
              "    </tr>\n",
              "  </tbody>\n",
              "</table>\n",
              "</div>\n",
              "      <button class=\"colab-df-convert\" onclick=\"convertToInteractive('df-abd4d7ef-dcfd-4afe-9ff0-4ad59fb7ad1c')\"\n",
              "              title=\"Convert this dataframe to an interactive table.\"\n",
              "              style=\"display:none;\">\n",
              "        \n",
              "  <svg xmlns=\"http://www.w3.org/2000/svg\" height=\"24px\"viewBox=\"0 0 24 24\"\n",
              "       width=\"24px\">\n",
              "    <path d=\"M0 0h24v24H0V0z\" fill=\"none\"/>\n",
              "    <path d=\"M18.56 5.44l.94 2.06.94-2.06 2.06-.94-2.06-.94-.94-2.06-.94 2.06-2.06.94zm-11 1L8.5 8.5l.94-2.06 2.06-.94-2.06-.94L8.5 2.5l-.94 2.06-2.06.94zm10 10l.94 2.06.94-2.06 2.06-.94-2.06-.94-.94-2.06-.94 2.06-2.06.94z\"/><path d=\"M17.41 7.96l-1.37-1.37c-.4-.4-.92-.59-1.43-.59-.52 0-1.04.2-1.43.59L10.3 9.45l-7.72 7.72c-.78.78-.78 2.05 0 2.83L4 21.41c.39.39.9.59 1.41.59.51 0 1.02-.2 1.41-.59l7.78-7.78 2.81-2.81c.8-.78.8-2.07 0-2.86zM5.41 20L4 18.59l7.72-7.72 1.47 1.35L5.41 20z\"/>\n",
              "  </svg>\n",
              "      </button>\n",
              "      \n",
              "  <style>\n",
              "    .colab-df-container {\n",
              "      display:flex;\n",
              "      flex-wrap:wrap;\n",
              "      gap: 12px;\n",
              "    }\n",
              "\n",
              "    .colab-df-convert {\n",
              "      background-color: #E8F0FE;\n",
              "      border: none;\n",
              "      border-radius: 50%;\n",
              "      cursor: pointer;\n",
              "      display: none;\n",
              "      fill: #1967D2;\n",
              "      height: 32px;\n",
              "      padding: 0 0 0 0;\n",
              "      width: 32px;\n",
              "    }\n",
              "\n",
              "    .colab-df-convert:hover {\n",
              "      background-color: #E2EBFA;\n",
              "      box-shadow: 0px 1px 2px rgba(60, 64, 67, 0.3), 0px 1px 3px 1px rgba(60, 64, 67, 0.15);\n",
              "      fill: #174EA6;\n",
              "    }\n",
              "\n",
              "    [theme=dark] .colab-df-convert {\n",
              "      background-color: #3B4455;\n",
              "      fill: #D2E3FC;\n",
              "    }\n",
              "\n",
              "    [theme=dark] .colab-df-convert:hover {\n",
              "      background-color: #434B5C;\n",
              "      box-shadow: 0px 1px 3px 1px rgba(0, 0, 0, 0.15);\n",
              "      filter: drop-shadow(0px 1px 2px rgba(0, 0, 0, 0.3));\n",
              "      fill: #FFFFFF;\n",
              "    }\n",
              "  </style>\n",
              "\n",
              "      <script>\n",
              "        const buttonEl =\n",
              "          document.querySelector('#df-abd4d7ef-dcfd-4afe-9ff0-4ad59fb7ad1c button.colab-df-convert');\n",
              "        buttonEl.style.display =\n",
              "          google.colab.kernel.accessAllowed ? 'block' : 'none';\n",
              "\n",
              "        async function convertToInteractive(key) {\n",
              "          const element = document.querySelector('#df-abd4d7ef-dcfd-4afe-9ff0-4ad59fb7ad1c');\n",
              "          const dataTable =\n",
              "            await google.colab.kernel.invokeFunction('convertToInteractive',\n",
              "                                                     [key], {});\n",
              "          if (!dataTable) return;\n",
              "\n",
              "          const docLinkHtml = 'Like what you see? Visit the ' +\n",
              "            '<a target=\"_blank\" href=https://colab.research.google.com/notebooks/data_table.ipynb>data table notebook</a>'\n",
              "            + ' to learn more about interactive tables.';\n",
              "          element.innerHTML = '';\n",
              "          dataTable['output_type'] = 'display_data';\n",
              "          await google.colab.output.renderOutput(dataTable, element);\n",
              "          const docLink = document.createElement('div');\n",
              "          docLink.innerHTML = docLinkHtml;\n",
              "          element.appendChild(docLink);\n",
              "        }\n",
              "      </script>\n",
              "    </div>\n",
              "  </div>\n",
              "  "
            ]
          },
          "metadata": {},
          "execution_count": 4
        }
      ]
    },
    {
      "cell_type": "code",
      "source": [
        "df.Category.value_counts()"
      ],
      "metadata": {
        "colab": {
          "base_uri": "https://localhost:8080/"
        },
        "id": "XWl-hyvjBjYG",
        "outputId": "adf2d2ea-7b08-42a6-a50c-a5f493b74610"
      },
      "execution_count": 6,
      "outputs": [
        {
          "output_type": "execute_result",
          "data": {
            "text/plain": [
              "ham     4825\n",
              "spam     747\n",
              "Name: Category, dtype: int64"
            ]
          },
          "metadata": {},
          "execution_count": 6
        }
      ]
    },
    {
      "cell_type": "code",
      "source": [
        "#Now making a new colum with name as spam to show spam emails in 0 and 1 format\n",
        "df['spam']=df['Category'].apply(lambda x: 1 if x=='spam' else 0)"
      ],
      "metadata": {
        "id": "EpZixXbuBuEY"
      },
      "execution_count": 9,
      "outputs": []
    },
    {
      "cell_type": "code",
      "source": [
        "df.head()"
      ],
      "metadata": {
        "colab": {
          "base_uri": "https://localhost:8080/",
          "height": 206
        },
        "id": "SyxWu4kZF_gC",
        "outputId": "e0d83060-37f7-434b-de5e-35feaa5d61c5"
      },
      "execution_count": 10,
      "outputs": [
        {
          "output_type": "execute_result",
          "data": {
            "text/plain": [
              "  Category                                            Message  spam\n",
              "0      ham  Go until jurong point, crazy.. Available only ...     0\n",
              "1      ham                      Ok lar... Joking wif u oni...     0\n",
              "2     spam  Free entry in 2 a wkly comp to win FA Cup fina...     1\n",
              "3      ham  U dun say so early hor... U c already then say...     0\n",
              "4      ham  Nah I don't think he goes to usf, he lives aro...     0"
            ],
            "text/html": [
              "\n",
              "  <div id=\"df-6793e200-bf0b-49ce-bf64-d2f02459bdae\">\n",
              "    <div class=\"colab-df-container\">\n",
              "      <div>\n",
              "<style scoped>\n",
              "    .dataframe tbody tr th:only-of-type {\n",
              "        vertical-align: middle;\n",
              "    }\n",
              "\n",
              "    .dataframe tbody tr th {\n",
              "        vertical-align: top;\n",
              "    }\n",
              "\n",
              "    .dataframe thead th {\n",
              "        text-align: right;\n",
              "    }\n",
              "</style>\n",
              "<table border=\"1\" class=\"dataframe\">\n",
              "  <thead>\n",
              "    <tr style=\"text-align: right;\">\n",
              "      <th></th>\n",
              "      <th>Category</th>\n",
              "      <th>Message</th>\n",
              "      <th>spam</th>\n",
              "    </tr>\n",
              "  </thead>\n",
              "  <tbody>\n",
              "    <tr>\n",
              "      <th>0</th>\n",
              "      <td>ham</td>\n",
              "      <td>Go until jurong point, crazy.. Available only ...</td>\n",
              "      <td>0</td>\n",
              "    </tr>\n",
              "    <tr>\n",
              "      <th>1</th>\n",
              "      <td>ham</td>\n",
              "      <td>Ok lar... Joking wif u oni...</td>\n",
              "      <td>0</td>\n",
              "    </tr>\n",
              "    <tr>\n",
              "      <th>2</th>\n",
              "      <td>spam</td>\n",
              "      <td>Free entry in 2 a wkly comp to win FA Cup fina...</td>\n",
              "      <td>1</td>\n",
              "    </tr>\n",
              "    <tr>\n",
              "      <th>3</th>\n",
              "      <td>ham</td>\n",
              "      <td>U dun say so early hor... U c already then say...</td>\n",
              "      <td>0</td>\n",
              "    </tr>\n",
              "    <tr>\n",
              "      <th>4</th>\n",
              "      <td>ham</td>\n",
              "      <td>Nah I don't think he goes to usf, he lives aro...</td>\n",
              "      <td>0</td>\n",
              "    </tr>\n",
              "  </tbody>\n",
              "</table>\n",
              "</div>\n",
              "      <button class=\"colab-df-convert\" onclick=\"convertToInteractive('df-6793e200-bf0b-49ce-bf64-d2f02459bdae')\"\n",
              "              title=\"Convert this dataframe to an interactive table.\"\n",
              "              style=\"display:none;\">\n",
              "        \n",
              "  <svg xmlns=\"http://www.w3.org/2000/svg\" height=\"24px\"viewBox=\"0 0 24 24\"\n",
              "       width=\"24px\">\n",
              "    <path d=\"M0 0h24v24H0V0z\" fill=\"none\"/>\n",
              "    <path d=\"M18.56 5.44l.94 2.06.94-2.06 2.06-.94-2.06-.94-.94-2.06-.94 2.06-2.06.94zm-11 1L8.5 8.5l.94-2.06 2.06-.94-2.06-.94L8.5 2.5l-.94 2.06-2.06.94zm10 10l.94 2.06.94-2.06 2.06-.94-2.06-.94-.94-2.06-.94 2.06-2.06.94z\"/><path d=\"M17.41 7.96l-1.37-1.37c-.4-.4-.92-.59-1.43-.59-.52 0-1.04.2-1.43.59L10.3 9.45l-7.72 7.72c-.78.78-.78 2.05 0 2.83L4 21.41c.39.39.9.59 1.41.59.51 0 1.02-.2 1.41-.59l7.78-7.78 2.81-2.81c.8-.78.8-2.07 0-2.86zM5.41 20L4 18.59l7.72-7.72 1.47 1.35L5.41 20z\"/>\n",
              "  </svg>\n",
              "      </button>\n",
              "      \n",
              "  <style>\n",
              "    .colab-df-container {\n",
              "      display:flex;\n",
              "      flex-wrap:wrap;\n",
              "      gap: 12px;\n",
              "    }\n",
              "\n",
              "    .colab-df-convert {\n",
              "      background-color: #E8F0FE;\n",
              "      border: none;\n",
              "      border-radius: 50%;\n",
              "      cursor: pointer;\n",
              "      display: none;\n",
              "      fill: #1967D2;\n",
              "      height: 32px;\n",
              "      padding: 0 0 0 0;\n",
              "      width: 32px;\n",
              "    }\n",
              "\n",
              "    .colab-df-convert:hover {\n",
              "      background-color: #E2EBFA;\n",
              "      box-shadow: 0px 1px 2px rgba(60, 64, 67, 0.3), 0px 1px 3px 1px rgba(60, 64, 67, 0.15);\n",
              "      fill: #174EA6;\n",
              "    }\n",
              "\n",
              "    [theme=dark] .colab-df-convert {\n",
              "      background-color: #3B4455;\n",
              "      fill: #D2E3FC;\n",
              "    }\n",
              "\n",
              "    [theme=dark] .colab-df-convert:hover {\n",
              "      background-color: #434B5C;\n",
              "      box-shadow: 0px 1px 3px 1px rgba(0, 0, 0, 0.15);\n",
              "      filter: drop-shadow(0px 1px 2px rgba(0, 0, 0, 0.3));\n",
              "      fill: #FFFFFF;\n",
              "    }\n",
              "  </style>\n",
              "\n",
              "      <script>\n",
              "        const buttonEl =\n",
              "          document.querySelector('#df-6793e200-bf0b-49ce-bf64-d2f02459bdae button.colab-df-convert');\n",
              "        buttonEl.style.display =\n",
              "          google.colab.kernel.accessAllowed ? 'block' : 'none';\n",
              "\n",
              "        async function convertToInteractive(key) {\n",
              "          const element = document.querySelector('#df-6793e200-bf0b-49ce-bf64-d2f02459bdae');\n",
              "          const dataTable =\n",
              "            await google.colab.kernel.invokeFunction('convertToInteractive',\n",
              "                                                     [key], {});\n",
              "          if (!dataTable) return;\n",
              "\n",
              "          const docLinkHtml = 'Like what you see? Visit the ' +\n",
              "            '<a target=\"_blank\" href=https://colab.research.google.com/notebooks/data_table.ipynb>data table notebook</a>'\n",
              "            + ' to learn more about interactive tables.';\n",
              "          element.innerHTML = '';\n",
              "          dataTable['output_type'] = 'display_data';\n",
              "          await google.colab.output.renderOutput(dataTable, element);\n",
              "          const docLink = document.createElement('div');\n",
              "          docLink.innerHTML = docLinkHtml;\n",
              "          element.appendChild(docLink);\n",
              "        }\n",
              "      </script>\n",
              "    </div>\n",
              "  </div>\n",
              "  "
            ]
          },
          "metadata": {},
          "execution_count": 10
        }
      ]
    },
    {
      "cell_type": "code",
      "source": [
        "df.shape"
      ],
      "metadata": {
        "colab": {
          "base_uri": "https://localhost:8080/"
        },
        "id": "bfwvQPsVL9WH",
        "outputId": "e8f5f774-bf24-42c8-8241-25e121273ead"
      },
      "execution_count": 14,
      "outputs": [
        {
          "output_type": "execute_result",
          "data": {
            "text/plain": [
              "(5572, 3)"
            ]
          },
          "metadata": {},
          "execution_count": 14
        }
      ]
    },
    {
      "cell_type": "code",
      "source": [
        "from sklearn.model_selection import train_test_split\n",
        "X_train,X_test,y_train,y_test=train_test_split(df.Message,df.spam,test_size=0.2)"
      ],
      "metadata": {
        "id": "JbdQeZdeLRds"
      },
      "execution_count": 13,
      "outputs": []
    },
    {
      "cell_type": "code",
      "source": [
        "X_train.shape,X_test.shape"
      ],
      "metadata": {
        "colab": {
          "base_uri": "https://localhost:8080/"
        },
        "id": "QvVhev-QLySi",
        "outputId": "bd3ece04-4d6f-4040-ab90-5eb41f93d060"
      },
      "execution_count": 15,
      "outputs": [
        {
          "output_type": "execute_result",
          "data": {
            "text/plain": [
              "((4457,), (1115,))"
            ]
          },
          "metadata": {},
          "execution_count": 15
        }
      ]
    },
    {
      "cell_type": "code",
      "source": [
        "type(X_train)"
      ],
      "metadata": {
        "colab": {
          "base_uri": "https://localhost:8080/"
        },
        "id": "zwd78wH3MC9t",
        "outputId": "a26e107f-ff05-49e5-af5a-4e4a86722c97"
      },
      "execution_count": 16,
      "outputs": [
        {
          "output_type": "execute_result",
          "data": {
            "text/plain": [
              "pandas.core.series.Series"
            ]
          },
          "metadata": {},
          "execution_count": 16
        }
      ]
    },
    {
      "cell_type": "code",
      "source": [
        "X_train[:4]"
      ],
      "metadata": {
        "colab": {
          "base_uri": "https://localhost:8080/"
        },
        "id": "rXFoR1KkMP8f",
        "outputId": "9669aaa2-2532-45be-e0e2-29f6eaa0f346"
      },
      "execution_count": 18,
      "outputs": [
        {
          "output_type": "execute_result",
          "data": {
            "text/plain": [
              "4212                               Oi when you gonna ring\n",
              "4516    That was random saw my old roomate on campus. ...\n",
              "3232                   No plm i will come da. On the way.\n",
              "2395    I don't run away frm u... I walk slowly &amp; ...\n",
              "Name: Message, dtype: object"
            ]
          },
          "metadata": {},
          "execution_count": 18
        }
      ]
    },
    {
      "cell_type": "code",
      "source": [
        "type(y_train)"
      ],
      "metadata": {
        "colab": {
          "base_uri": "https://localhost:8080/"
        },
        "id": "6cIt4qspMRPn",
        "outputId": "e5a78425-61e8-43c7-eb6b-a79325175028"
      },
      "execution_count": 19,
      "outputs": [
        {
          "output_type": "execute_result",
          "data": {
            "text/plain": [
              "pandas.core.series.Series"
            ]
          },
          "metadata": {},
          "execution_count": 19
        }
      ]
    },
    {
      "cell_type": "code",
      "source": [
        "y_train[:4]"
      ],
      "metadata": {
        "colab": {
          "base_uri": "https://localhost:8080/"
        },
        "id": "Xhp-smdXMl7R",
        "outputId": "3690560f-8db1-4059-c2c0-2f721ccd4933"
      },
      "execution_count": 20,
      "outputs": [
        {
          "output_type": "execute_result",
          "data": {
            "text/plain": [
              "4212    0\n",
              "4516    0\n",
              "3232    0\n",
              "2395    0\n",
              "Name: spam, dtype: int64"
            ]
          },
          "metadata": {},
          "execution_count": 20
        }
      ]
    },
    {
      "cell_type": "code",
      "source": [
        "type(X_train.values)"
      ],
      "metadata": {
        "colab": {
          "base_uri": "https://localhost:8080/"
        },
        "id": "6kmZj9NJNO31",
        "outputId": "fb496b88-9e35-4e56-e021-50dd4d1f600a"
      },
      "execution_count": 22,
      "outputs": [
        {
          "output_type": "execute_result",
          "data": {
            "text/plain": [
              "numpy.ndarray"
            ]
          },
          "metadata": {},
          "execution_count": 22
        }
      ]
    },
    {
      "cell_type": "code",
      "source": [
        "#we can import count vectorization from sklearn\n",
        "from sklearn.feature_extraction.text import CountVectorizer\n",
        "v=CountVectorizer()\n",
        "X_train_cv=v.fit_transform(X_train.values)\n",
        "X_train_cv"
      ],
      "metadata": {
        "colab": {
          "base_uri": "https://localhost:8080/"
        },
        "id": "qp8KIJrvMn19",
        "outputId": "bb1d87f0-2c7f-4fe4-d76f-03b8f7474dd8"
      },
      "execution_count": 32,
      "outputs": [
        {
          "output_type": "execute_result",
          "data": {
            "text/plain": [
              "<4457x7751 sparse matrix of type '<class 'numpy.int64'>'\n",
              "\twith 59206 stored elements in Compressed Sparse Row format>"
            ]
          },
          "metadata": {},
          "execution_count": 32
        }
      ]
    },
    {
      "cell_type": "code",
      "source": [
        "#toarray() helping us to convert the class into array and I am showing first elements\n",
        "X_train_cv.toarray()[0]"
      ],
      "metadata": {
        "colab": {
          "base_uri": "https://localhost:8080/"
        },
        "id": "u_ainxN6Nib6",
        "outputId": "ae6cbfea-a48e-458f-a229-541e4fb9e925"
      },
      "execution_count": 34,
      "outputs": [
        {
          "output_type": "execute_result",
          "data": {
            "text/plain": [
              "array([0, 0, 0, ..., 0, 0, 0])"
            ]
          },
          "metadata": {},
          "execution_count": 34
        }
      ]
    },
    {
      "cell_type": "code",
      "source": [
        "X_train_cv.shape"
      ],
      "metadata": {
        "colab": {
          "base_uri": "https://localhost:8080/"
        },
        "id": "6cNBK1i6OQBQ",
        "outputId": "4d805270-0769-4e06-8ad6-a2e912ff8010"
      },
      "execution_count": 35,
      "outputs": [
        {
          "output_type": "execute_result",
          "data": {
            "text/plain": [
              "(4457, 7751)"
            ]
          },
          "metadata": {},
          "execution_count": 35
        }
      ]
    },
    {
      "cell_type": "code",
      "source": [
        "# These are the words vocabilary has \n",
        "v.get_feature_names_out()[1000:1050]"
      ],
      "metadata": {
        "colab": {
          "base_uri": "https://localhost:8080/"
        },
        "id": "SUJp00RjOnvR",
        "outputId": "788bf60a-76a6-41f1-ecc1-9a0783c830d4"
      },
      "execution_count": 39,
      "outputs": [
        {
          "output_type": "execute_result",
          "data": {
            "text/plain": [
              "array(['anythiing', 'anythin', 'anything', 'anythingtomorrow', 'anytime',\n",
              "       'anyway', 'anyways', 'anywhere', 'aom', 'apart', 'apartment',\n",
              "       'apes', 'apeshit', 'apnt', 'apo', 'apologetic', 'apologise',\n",
              "       'apologize', 'apology', 'app', 'apparently', 'appeal', 'appear',\n",
              "       'appendix', 'applebees', 'apples', 'application', 'apply',\n",
              "       'applyed', 'applying', 'appointment', 'appointments', 'appreciate',\n",
              "       'appreciated', 'approaches', 'appropriate', 'approve', 'approx',\n",
              "       'apps', 'appt', 'appy', 'april', 'aproach', 'apt', 'aptitude',\n",
              "       'aquarius', 'ar', 'arab', 'arabian', 'arcade'], dtype=object)"
            ]
          },
          "metadata": {},
          "execution_count": 39
        }
      ]
    },
    {
      "cell_type": "code",
      "source": [
        "v.get_feature_names_out()"
      ],
      "metadata": {
        "colab": {
          "base_uri": "https://localhost:8080/"
        },
        "id": "AAcF7fDcOyb8",
        "outputId": "51ed2185-7306-4032-909b-246150c165ca"
      },
      "execution_count": 40,
      "outputs": [
        {
          "output_type": "execute_result",
          "data": {
            "text/plain": [
              "array(['00', '000', '000pes', ..., 'èn', 'ú1', '〨ud'], dtype=object)"
            ]
          },
          "metadata": {},
          "execution_count": 40
        }
      ]
    },
    {
      "cell_type": "code",
      "source": [
        "v.get_feature_names_out().shape"
      ],
      "metadata": {
        "colab": {
          "base_uri": "https://localhost:8080/"
        },
        "id": "h7b_VLFWPaSH",
        "outputId": "87b1841f-a636-420d-bba9-3e6c33432d98"
      },
      "execution_count": 41,
      "outputs": [
        {
          "output_type": "execute_result",
          "data": {
            "text/plain": [
              "(7751,)"
            ]
          },
          "metadata": {},
          "execution_count": 41
        }
      ]
    },
    {
      "cell_type": "code",
      "source": [
        "# to check all the methods\n",
        "dir(v)"
      ],
      "metadata": {
        "colab": {
          "base_uri": "https://localhost:8080/"
        },
        "id": "Qomx42MtPeq9",
        "outputId": "6e44f1df-2861-43de-f2e6-83b9c659aa21"
      },
      "execution_count": 42,
      "outputs": [
        {
          "output_type": "execute_result",
          "data": {
            "text/plain": [
              "['__class__',\n",
              " '__delattr__',\n",
              " '__dict__',\n",
              " '__dir__',\n",
              " '__doc__',\n",
              " '__eq__',\n",
              " '__format__',\n",
              " '__ge__',\n",
              " '__getattribute__',\n",
              " '__getstate__',\n",
              " '__gt__',\n",
              " '__hash__',\n",
              " '__init__',\n",
              " '__init_subclass__',\n",
              " '__le__',\n",
              " '__lt__',\n",
              " '__module__',\n",
              " '__ne__',\n",
              " '__new__',\n",
              " '__reduce__',\n",
              " '__reduce_ex__',\n",
              " '__repr__',\n",
              " '__setattr__',\n",
              " '__setstate__',\n",
              " '__sizeof__',\n",
              " '__str__',\n",
              " '__subclasshook__',\n",
              " '__weakref__',\n",
              " '_char_ngrams',\n",
              " '_char_wb_ngrams',\n",
              " '_check_feature_names',\n",
              " '_check_n_features',\n",
              " '_check_stop_words_consistency',\n",
              " '_check_vocabulary',\n",
              " '_count_vocab',\n",
              " '_get_param_names',\n",
              " '_get_tags',\n",
              " '_limit_features',\n",
              " '_more_tags',\n",
              " '_repr_html_',\n",
              " '_repr_html_inner',\n",
              " '_repr_mimebundle_',\n",
              " '_sort_features',\n",
              " '_stop_words_id',\n",
              " '_validate_data',\n",
              " '_validate_params',\n",
              " '_validate_vocabulary',\n",
              " '_warn_for_unused_params',\n",
              " '_white_spaces',\n",
              " '_word_ngrams',\n",
              " 'analyzer',\n",
              " 'binary',\n",
              " 'build_analyzer',\n",
              " 'build_preprocessor',\n",
              " 'build_tokenizer',\n",
              " 'decode',\n",
              " 'decode_error',\n",
              " 'dtype',\n",
              " 'encoding',\n",
              " 'fit',\n",
              " 'fit_transform',\n",
              " 'fixed_vocabulary_',\n",
              " 'get_feature_names',\n",
              " 'get_feature_names_out',\n",
              " 'get_params',\n",
              " 'get_stop_words',\n",
              " 'input',\n",
              " 'inverse_transform',\n",
              " 'lowercase',\n",
              " 'max_df',\n",
              " 'max_features',\n",
              " 'min_df',\n",
              " 'ngram_range',\n",
              " 'preprocessor',\n",
              " 'set_params',\n",
              " 'stop_words',\n",
              " 'stop_words_',\n",
              " 'strip_accents',\n",
              " 'token_pattern',\n",
              " 'tokenizer',\n",
              " 'transform',\n",
              " 'vocabulary',\n",
              " 'vocabulary_']"
            ]
          },
          "metadata": {},
          "execution_count": 42
        }
      ]
    },
    {
      "cell_type": "code",
      "source": [
        "v.vocabulary_"
      ],
      "metadata": {
        "colab": {
          "base_uri": "https://localhost:8080/"
        },
        "id": "LA2RjaqlPjWt",
        "outputId": "70e9fded-be6e-49c8-9aa2-1abc58ed2109"
      },
      "execution_count": 43,
      "outputs": [
        {
          "output_type": "execute_result",
          "data": {
            "text/plain": [
              "{'oi': 4913,\n",
              " 'when': 7482,\n",
              " 'you': 7711,\n",
              " 'gonna': 3193,\n",
              " 'ring': 5791,\n",
              " 'that': 6828,\n",
              " 'was': 7396,\n",
              " 'random': 5571,\n",
              " 'saw': 5928,\n",
              " 'my': 4684,\n",
              " 'old': 4930,\n",
              " 'roomate': 5822,\n",
              " 'on': 4938,\n",
              " 'campus': 1634,\n",
              " 'he': 3380,\n",
              " 'graduated': 3227,\n",
              " 'no': 4804,\n",
              " 'plm': 5263,\n",
              " 'will': 7519,\n",
              " 'come': 1915,\n",
              " 'da': 2150,\n",
              " 'the': 6832,\n",
              " 'way': 7416,\n",
              " 'don': 2412,\n",
              " 'run': 5857,\n",
              " 'away': 1175,\n",
              " 'frm': 3019,\n",
              " 'walk': 7368,\n",
              " 'slowly': 6250,\n",
              " 'amp': 949,\n",
              " 'it': 3771,\n",
              " 'kills': 3955,\n",
              " 'me': 4427,\n",
              " 'care': 1661,\n",
              " 'enough': 2610,\n",
              " 'to': 6950,\n",
              " 'stop': 6506,\n",
              " 'as': 1091,\n",
              " 'valued': 7261,\n",
              " 'customer': 2135,\n",
              " 'am': 934,\n",
              " 'pleased': 5258,\n",
              " 'advise': 837,\n",
              " 'following': 2935,\n",
              " 'recent': 5633,\n",
              " 'review': 5773,\n",
              " 'of': 4893,\n",
              " 'your': 7716,\n",
              " 'mob': 4561,\n",
              " 'are': 1052,\n",
              " 'awarded': 1174,\n",
              " 'with': 7549,\n",
              " '1500': 305,\n",
              " 'bonus': 1433,\n",
              " 'prize': 5425,\n",
              " 'call': 1612,\n",
              " '09066364589': 229,\n",
              " 'sorry': 6343,\n",
              " 'll': 4176,\n",
              " 'later': 4044,\n",
              " 'oooh': 4955,\n",
              " 'bed': 1295,\n",
              " 'ridden': 5785,\n",
              " 'ey': 2739,\n",
              " 'what': 7475,\n",
              " 'thinking': 6865,\n",
              " 'planning': 5245,\n",
              " 'chennai': 1776,\n",
              " 'ok': 4917,\n",
              " 'wif': 7510,\n",
              " 'cos': 2027,\n",
              " 'like': 4131,\n",
              " 'try': 7079,\n",
              " 'new': 4771,\n",
              " 'things': 6861,\n",
              " 'but': 1580,\n",
              " 'scared': 5936,\n",
              " 'dun': 2491,\n",
              " 'mah': 4332,\n",
              " 'said': 5882,\n",
              " 'not': 4834,\n",
              " 'too': 6990,\n",
              " 'loud': 4240,\n",
              " 'edison': 2534,\n",
              " 'has': 3359,\n",
              " 'rightly': 5789,\n",
              " 'fool': 2942,\n",
              " 'can': 1636,\n",
              " 'ask': 1101,\n",
              " 'more': 4599,\n",
              " 'questions': 5533,\n",
              " 'than': 6816,\n",
              " 'wise': 7540,\n",
              " 'man': 4354,\n",
              " 'answer': 984,\n",
              " 'now': 4848,\n",
              " 'know': 3974,\n",
              " 'why': 7505,\n",
              " 'all': 912,\n",
              " 'us': 7229,\n",
              " 'speechless': 6379,\n",
              " 'during': 2497,\n",
              " 'viva': 7321,\n",
              " 'gm': 3168,\n",
              " 'gn': 3170,\n",
              " 'ge': 3108,\n",
              " 'gnt': 3171,\n",
              " 'rt': 5840,\n",
              " 'king': 3959,\n",
              " 'pro': 5429,\n",
              " 'video': 7293,\n",
              " 'club': 1866,\n",
              " 'need': 4740,\n",
              " 'help': 3415,\n",
              " 'info': 3687,\n",
              " 'ringtoneking': 5795,\n",
              " 'co': 1877,\n",
              " 'uk': 7136,\n",
              " 'or': 4978,\n",
              " '08701237397': 76,\n",
              " 'must': 4677,\n",
              " 'be': 1280,\n",
              " '16': 317,\n",
              " 'credits': 2079,\n",
              " 'redeemable': 5648,\n",
              " 'at': 1123,\n",
              " 'www': 7643,\n",
              " 'enjoy': 2605,\n",
              " 'daddy': 2154,\n",
              " 'shu': 6146,\n",
              " 'is': 3760,\n",
              " 'looking': 4216,\n",
              " 'wan': 7377,\n",
              " 'tell': 6772,\n",
              " 'him': 3449,\n",
              " 're': 5593,\n",
              " 'in': 3656,\n",
              " 'singapore': 6184,\n",
              " 'wat': 7400,\n",
              " 'means': 4434,\n",
              " 'could': 2038,\n",
              " 'keep': 3924,\n",
              " 'ur': 7215,\n",
              " 'words': 7593,\n",
              " 'were': 7463,\n",
              " 'go': 3172,\n",
              " 'get': 3129,\n",
              " 'some': 6308,\n",
              " 'tacos': 6701,\n",
              " 'honestly': 3490,\n",
              " 've': 7273,\n",
              " 'just': 3891,\n",
              " 'made': 4321,\n",
              " 'lovely': 4247,\n",
              " 'cup': 2125,\n",
              " 'tea': 6750,\n",
              " 'and': 962,\n",
              " 'promptly': 5460,\n",
              " 'dropped': 2467,\n",
              " 'keys': 3937,\n",
              " 'then': 6844,\n",
              " 'burnt': 1571,\n",
              " 'fingers': 2865,\n",
              " 'getting': 3137,\n",
              " 'them': 6841,\n",
              " 'out': 5013,\n",
              " 'desires': 2274,\n",
              " 'going': 3185,\n",
              " 'doctor': 2386,\n",
              " 'liver': 4170,\n",
              " 'bit': 1381,\n",
              " 'stylish': 6564,\n",
              " 'hair': 3312,\n",
              " 'managed': 4357,\n",
              " 'thats': 6831,\n",
              " 'hmph': 3469,\n",
              " 'head': 3381,\n",
              " 'big': 1361,\n",
              " 'baller': 1216,\n",
              " 'oh': 4912,\n",
              " 'prob': 5430,\n",
              " 'might': 4495,\n",
              " 'sch': 5940,\n",
              " 'yar': 7676,\n",
              " 'salon': 5892,\n",
              " 'boring': 1447,\n",
              " 'hahaha': 3309,\n",
              " 'use': 7233,\n",
              " 'brain': 1483,\n",
              " 'dear': 2202,\n",
              " 'happen': 3342,\n",
              " 'behave': 1316,\n",
              " 'this': 6870,\n",
              " 'goodmorning': 3199,\n",
              " 'grandfather': 3232,\n",
              " 'expired': 2724,\n",
              " 'so': 6295,\n",
              " 'leave': 4079,\n",
              " 'today': 6956,\n",
              " 'its': 3779,\n",
              " 'most': 4607,\n",
              " 'likely': 4133,\n",
              " 'called': 1619,\n",
              " 'mittelschmertz': 4544,\n",
              " 'google': 3206,\n",
              " 'if': 3613,\n",
              " 'dont': 2416,\n",
              " 'have': 3369,\n",
              " 'paracetamol': 5076,\n",
              " 'worry': 7606,\n",
              " 'fancy': 2778,\n",
              " 'shag': 6059,\n",
              " 'do': 2379,\n",
              " 'interested': 3720,\n",
              " 'sextextuk': 6049,\n",
              " 'com': 1910,\n",
              " 'txt': 7113,\n",
              " 'xxuk': 7658,\n",
              " 'suzy': 6656,\n",
              " '69876': 600,\n",
              " 'txts': 7120,\n",
              " 'cost': 2029,\n",
              " '50': 536,\n",
              " 'per': 5149,\n",
              " 'msg': 4634,\n",
              " 'tncs': 6949,\n",
              " 'website': 7432,\n",
              " 'they': 6856,\n",
              " 'put': 5514,\n",
              " 'stuff': 6555,\n",
              " 'roads': 5805,\n",
              " 'from': 3028,\n",
              " 'slippery': 6242,\n",
              " 'over': 5028,\n",
              " 'there': 6849,\n",
              " 'hot': 3522,\n",
              " 'live': 4168,\n",
              " 'fantasies': 2780,\n",
              " '08707509020': 90,\n",
              " '20p': 356,\n",
              " 'min': 4505,\n",
              " 'ntt': 4854,\n",
              " 'ltd': 4268,\n",
              " 'po': 5273,\n",
              " 'box': 1462,\n",
              " '1327': 294,\n",
              " 'croydon': 2094,\n",
              " 'cr9': 2058,\n",
              " '5wb': 568,\n",
              " '0870': 72,\n",
              " 'national': 4721,\n",
              " 'rate': 5580,\n",
              " 'we': 7420,\n",
              " 'got': 3211,\n",
              " 'divorce': 2372,\n",
              " 'lol': 4202,\n",
              " 'she': 6080,\n",
              " 'here': 3428,\n",
              " 'sms': 6275,\n",
              " 'services': 6037,\n",
              " 'for': 2949,\n",
              " 'inclusive': 3666,\n",
              " 'text': 6804,\n",
              " 'pls': 5265,\n",
              " 'goto': 3215,\n",
              " 'comuk': 1953,\n",
              " 'net': 4757,\n",
              " 'login': 4196,\n",
              " '3qxj9': 470,\n",
              " 'unsubscribe': 7193,\n",
              " 'extra': 2736,\n",
              " 'charge': 1741,\n",
              " '08702840625': 83,\n",
              " '220': 361,\n",
              " 'cm2': 1872,\n",
              " '9ae': 743,\n",
              " 'hey': 3437,\n",
              " 'pple': 5361,\n",
              " '700': 616,\n",
              " '900': 731,\n",
              " 'nights': 4790,\n",
              " 'excellent': 2698,\n",
              " 'location': 4187,\n",
              " 'breakfast': 1498,\n",
              " 'hamper': 3324,\n",
              " 'baaaaaaaabe': 1191,\n",
              " 'wake': 7364,\n",
              " 'up': 7198,\n",
              " 'miss': 4530,\n",
              " 'crave': 2067,\n",
              " 'urgent': 7218,\n",
              " 'mobile': 4562,\n",
              " 'number': 4860,\n",
              " 'been': 1302,\n",
              " '2000': 349,\n",
              " 'guaranteed': 3275,\n",
              " '09061790126': 202,\n",
              " 'land': 4020,\n",
              " 'line': 4143,\n",
              " 'claim': 1830,\n",
              " '3030': 432,\n",
              " 'valid': 7257,\n",
              " '12hrs': 290,\n",
              " 'only': 4948,\n",
              " '150ppm': 310,\n",
              " 'how': 3535,\n",
              " 'much': 4652,\n",
              " 'blackberry': 1388,\n",
              " 'bold2': 1429,\n",
              " 'nigeria': 4785,\n",
              " 'take': 6711,\n",
              " 'had': 3305,\n",
              " 'askd': 1102,\n",
              " 'question': 5531,\n",
              " 'hours': 3530,\n",
              " 'before': 1307,\n",
              " 'won': 7577,\n",
              " '000': 1,\n",
              " 'cash': 1684,\n",
              " 'call09050000327': 1613,\n",
              " 'rstm': 5839,\n",
              " 'sw7': 6658,\n",
              " '3ss': 472,\n",
              " 'ic': 3594,\n",
              " 'lotta': 4236,\n",
              " 'childporn': 1792,\n",
              " 'cars': 1680,\n",
              " 'guess': 3279,\n",
              " 'lt': 4267,\n",
              " 'gt': 3271,\n",
              " 'creep': 2080,\n",
              " '200': 348,\n",
              " 'award': 1173,\n",
              " 'even': 2664,\n",
              " '1000': 255,\n",
              " 'cashto': 1685,\n",
              " 'free': 2993,\n",
              " '08000407165': 48,\n",
              " '18': 322,\n",
              " 'getstop': 3135,\n",
              " '88222': 711,\n",
              " 'php': 5202,\n",
              " 'im': 3629,\n",
              " 'gloucesterroad': 3167,\n",
              " 'uup': 7247,\n",
              " 'forgot': 2962,\n",
              " 'smth': 6280,\n",
              " 'sections': 5985,\n",
              " 'clearer': 1846,\n",
              " 'approx': 1037,\n",
              " 'month': 4593,\n",
              " 'network': 4763,\n",
              " 'urgnt': 7221,\n",
              " 'wot': 7612,\n",
              " 'squeeeeeze': 6431,\n",
              " 'christmas': 1819,\n",
              " 'hug': 3552,\n",
              " 'lik': 4130,\n",
              " 'frndshp': 3023,\n",
              " 'den': 2251,\n",
              " 'back': 1201,\n",
              " 'cute': 2140,\n",
              " 'luvd': 4284,\n",
              " 'lucky': 4273,\n",
              " 'none': 4817,\n",
              " 'people': 5147,\n",
              " 'hate': 3363,\n",
              " 'chance': 1730,\n",
              " 'win': 7522,\n",
              " '250': 368,\n",
              " 'every': 2670,\n",
              " 'wk': 7557,\n",
              " 'action': 801,\n",
              " '80608': 655,\n",
              " 'movietrivia': 4625,\n",
              " 'tv': 7105,\n",
              " 'custcare': 2133,\n",
              " '08712405022': 112,\n",
              " '1x150p': 345,\n",
              " 'please': 5257,\n",
              " '09061743811': 197,\n",
              " 'landline': 4022,\n",
              " 'abta': 769,\n",
              " 'complimentary': 1945,\n",
              " 'tenerife': 6785,\n",
              " 'holiday': 3481,\n",
              " '5000': 538,\n",
              " 'await': 1170,\n",
              " 'collection': 1904,\n",
              " 'sae': 5875,\n",
              " 'cs': 2103,\n",
              " '326': 443,\n",
              " 'cw25wx': 2145,\n",
              " 'yes': 7695,\n",
              " 'cheesy': 1773,\n",
              " 'songs': 6329,\n",
              " 'frosty': 3031,\n",
              " 'snowman': 6293,\n",
              " 'well': 7455,\n",
              " 'pain': 5055,\n",
              " 'catch': 1691,\n",
              " 'talking': 6719,\n",
              " 'an': 957,\n",
              " 'alian': 909,\n",
              " 'half': 3317,\n",
              " 'years': 7686,\n",
              " 'missed': 4532,\n",
              " 'friendship': 3016,\n",
              " 'quite': 5538,\n",
              " 'still': 6495,\n",
              " 'hold': 3477,\n",
              " 'anyone': 998,\n",
              " 'cud': 2116,\n",
              " 'pick': 5208,\n",
              " 'bout': 1458,\n",
              " '30pm': 434,\n",
              " 'see': 5989,\n",
              " 'pub': 5489,\n",
              " 'did': 2310,\n",
              " 'message': 4477,\n",
              " 'town': 7020,\n",
              " 'jus': 3890,\n",
              " 'mrt': 4632,\n",
              " 'down': 2435,\n",
              " 'taking': 6715,\n",
              " 'italian': 3772,\n",
              " 'food': 2941,\n",
              " 'about': 762,\n",
              " 'pretty': 5402,\n",
              " 'dress': 2453,\n",
              " 'panties': 5070,\n",
              " 'area': 1053,\n",
              " 'restaurant': 5751,\n",
              " 'ill': 3625,\n",
              " 'soon': 6333,\n",
              " 'recieve': 5638,\n",
              " 'tone': 6978,\n",
              " 'within': 7551,\n",
              " 'next': 4778,\n",
              " '24hrs': 364,\n",
              " 'terms': 6791,\n",
              " 'conditions': 1961,\n",
              " 'channel': 1736,\n",
              " 'teletext': 6771,\n",
              " 'pg': 5182,\n",
              " '750': 624,\n",
              " 'trip': 7060,\n",
              " 'tiring': 6926,\n",
              " 'lor': 4223,\n",
              " 'uni': 7173,\n",
              " 'starts': 6462,\n",
              " 'any': 994,\n",
              " 'modules': 4576,\n",
              " 'concentrating': 1956,\n",
              " 'final': 2855,\n",
              " 'yr': 7725,\n",
              " 'project': 5449,\n",
              " 'shopping': 6117,\n",
              " 'paid': 5054,\n",
              " 'babe': 1193,\n",
              " 'aight': 879,\n",
              " 'few': 2826,\n",
              " 'roommates': 5824,\n",
              " 'exam': 2696,\n",
              " 'february': 2808,\n",
              " 'wish': 7541,\n",
              " 'great': 3246,\n",
              " 'day': 2190,\n",
              " 'should': 6127,\n",
              " 'stay': 6472,\n",
              " 'right': 5787,\n",
              " 'ahmad': 875,\n",
              " 'nelson': 4753,\n",
              " 'bb': 1264,\n",
              " 'longer': 4209,\n",
              " 'comin': 1919,\n",
              " 'money': 4588,\n",
              " 'expecting': 2717,\n",
              " 'aint': 881,\n",
              " 'coming': 1920,\n",
              " 'yesterday': 7697,\n",
              " 'home': 3486,\n",
              " 'th': 6815,\n",
              " 'gower': 3220,\n",
              " 'mate': 4400,\n",
              " 'which': 7491,\n",
              " 'where': 7486,\n",
              " 'good': 3195,\n",
              " 'wales': 7366,\n",
              " 'morrow': 4605,\n",
              " 'who': 7497,\n",
              " 'yetunde': 7700,\n",
              " 'hasn': 3361,\n",
              " 'sent': 6023,\n",
              " 'yet': 7698,\n",
              " 'her': 3427,\n",
              " 'bother': 1454,\n",
              " 'sending': 6015,\n",
              " 'involve': 3741,\n",
              " 'yourself': 7721,\n",
              " 'anything': 1002,\n",
              " 'shouldn': 6129,\n",
              " 'imposed': 3646,\n",
              " 'first': 2877,\n",
              " 'place': 5236,\n",
              " 'apologise': 1016,\n",
              " 'gals': 3075,\n",
              " 'driving': 2464,\n",
              " 'centre': 1717,\n",
              " 'tmr': 6944,\n",
              " 'messages': 4479,\n",
              " 'de': 2196,\n",
              " 'job': 3847,\n",
              " 'aha': 871,\n",
              " 'gain': 3071,\n",
              " 'rights': 5790,\n",
              " 'wife': 7511,\n",
              " 'demand': 2250,\n",
              " 'trying': 7081,\n",
              " 'husband': 3575,\n",
              " 'lets': 4106,\n",
              " 'mail': 4337,\n",
              " 'panren': 5068,\n",
              " 'paru': 5097,\n",
              " 'want': 7382,\n",
              " 'laid': 4016,\n",
              " 'tonight': 6985,\n",
              " 'real': 5604,\n",
              " 'dogging': 2397,\n",
              " 'locations': 4188,\n",
              " 'direct': 2340,\n",
              " 'join': 3853,\n",
              " 'largest': 4038,\n",
              " 'bt': 1545,\n",
              " 'txting': 7118,\n",
              " 'gravel': 3240,\n",
              " '69888': 601,\n",
              " 'nt': 4853,\n",
              " 'ec2a': 2526,\n",
              " '31p': 439,\n",
              " '150p': 306,\n",
              " 'lot': 4231,\n",
              " 'happening': 3345,\n",
              " 'lindsay': 4142,\n",
              " 'sighs': 6160,\n",
              " 'bars': 1244,\n",
              " 'ptbo': 5487,\n",
              " 'blue': 1415,\n",
              " 'heron': 3431,\n",
              " 'something': 6316,\n",
              " 'drug': 2470,\n",
              " 'dealer': 2199,\n",
              " 'impatient': 3641,\n",
              " 'meeting': 4448,\n",
              " 'thing': 6860,\n",
              " 'related': 5674,\n",
              " 'trade': 7026,\n",
              " 'arul': 1089,\n",
              " 'aaooooright': 751,\n",
              " 'work': 7594,\n",
              " 'reach': 5594,\n",
              " 'minutes': 4521,\n",
              " 'picking': 5210,\n",
              " 'various': 7265,\n",
              " 'points': 5296,\n",
              " 'yeovil': 7692,\n",
              " 'motor': 4614,\n",
              " '12': 279,\n",
              " '30': 426,\n",
              " 'max': 4414,\n",
              " 'very': 7284,\n",
              " 'easy': 2520,\n",
              " 'little': 4167,\n",
              " 'darlings': 2176,\n",
              " 'far': 2783,\n",
              " 'week': 7440,\n",
              " 'coffee': 1888,\n",
              " 'tomo': 6974,\n",
              " 'believe': 1320,\n",
              " 'time': 6917,\n",
              " 'already': 924,\n",
              " 'talk': 6717,\n",
              " 'atleast': 1129,\n",
              " 'once': 4940,\n",
              " 'otherwise': 5006,\n",
              " 'best': 1339,\n",
              " 'friend': 3013,\n",
              " 'world': 7601,\n",
              " 'shakespeare': 6065,\n",
              " 'shesil': 6089,\n",
              " 'by': 1595,\n",
              " 'monday': 4586,\n",
              " 'give': 3157,\n",
              " 'full': 3047,\n",
              " 'gist': 3155,\n",
              " 'ignoring': 3619,\n",
              " 'reaching': 5597,\n",
              " 'another': 981,\n",
              " 'stops': 6510,\n",
              " 'smile': 6264,\n",
              " 'wonder': 7580,\n",
              " 'smiling': 6268,\n",
              " 'think': 6862,\n",
              " 'crazy': 2070,\n",
              " 'grins': 3256,\n",
              " 'lanre': 4031,\n",
              " 'fakeye': 2765,\n",
              " 'eckankar': 2528,\n",
              " 'details': 2283,\n",
              " 'haf': 3307,\n",
              " 'msn': 4641,\n",
              " 'yijue': 7703,\n",
              " 'hotmail': 3525,\n",
              " 'glad': 3161,\n",
              " 'dreams': 2452,\n",
              " 'mum': 4661,\n",
              " 'lookin': 4215,\n",
              " 'strong': 6537,\n",
              " 'nothing': 4838,\n",
              " 'ever': 2669,\n",
              " 'reason': 5617,\n",
              " 'risk': 5800,\n",
              " 'life': 4119,\n",
              " 'love': 4245,\n",
              " 'doin': 2400,\n",
              " '2nite': 410,\n",
              " 'annie': 974,\n",
              " 'speak': 6369,\n",
              " 'hmm': 3465,\n",
              " 'email': 2575,\n",
              " 'hard': 3352,\n",
              " 'say': 5929,\n",
              " 'lie': 4117,\n",
              " 'twice': 7109,\n",
              " 'saying': 5930,\n",
              " 'finish': 2866,\n",
              " 'office': 4902,\n",
              " '11mths': 277,\n",
              " 'update': 7203,\n",
              " 'oranges': 4982,\n",
              " 'latest': 4045,\n",
              " 'colour': 1907,\n",
              " 'camera': 1632,\n",
              " 'mobiles': 4563,\n",
              " 'unlimited': 7185,\n",
              " 'weekend': 7441,\n",
              " 'calls': 1627,\n",
              " 'upd8': 7201,\n",
              " 'freefone': 2997,\n",
              " '08000839402': 50,\n",
              " '2stoptxt': 417,\n",
              " 'didnt': 2312,\n",
              " 'meant': 4435,\n",
              " 'yep': 7693,\n",
              " 'baby': 1196,\n",
              " 'jontin': 3864,\n",
              " 'nxt': 4872,\n",
              " 'vl': 7323,\n",
              " 'completing': 1943,\n",
              " 'remember': 5688,\n",
              " 'commercial': 1924,\n",
              " 'probably': 5431,\n",
              " 'bookedthe': 1438,\n",
              " 'hut': 3577,\n",
              " 'also': 927,\n",
              " 'off': 4895,\n",
              " 'fyi': 3064,\n",
              " 'ride': 5786,\n",
              " 'early': 2511,\n",
              " 'tomorrow': 6976,\n",
              " 'morning': 4603,\n",
              " 'crashing': 2066,\n",
              " 'our': 5011,\n",
              " 'after': 852,\n",
              " 'hour': 3528,\n",
              " 'single': 6186,\n",
              " 'meaning': 4431,\n",
              " 'gud': 3276,\n",
              " 'nyt': 4876,\n",
              " 'problem': 5432,\n",
              " 'doing': 2402,\n",
              " 'playng': 5254,\n",
              " 'doors': 2423,\n",
              " 'game': 3077,\n",
              " 'racing': 5547,\n",
              " 'phone': 5194,\n",
              " 'jolly': 3861,\n",
              " 'tickets': 6908,\n",
              " 'sat': 5914,\n",
              " 'eve': 2663,\n",
              " 'yeah': 7684,\n",
              " 'goes': 3180,\n",
              " 'friends': 3014,\n",
              " 'imma': 3636,\n",
              " 'flip': 2905,\n",
              " 'shit': 6103,\n",
              " 'online': 4946,\n",
              " 'finished': 2867,\n",
              " 'formatting': 2968,\n",
              " 'lifted': 4125,\n",
              " 'hopes': 3506,\n",
              " 'offer': 4899,\n",
              " 'especially': 2649,\n",
              " 'end': 2590,\n",
              " 'approaches': 1034,\n",
              " 'hurts': 3574,\n",
              " 'studying': 6553,\n",
              " 'anyways': 1006,\n",
              " 'gr8': 3223,\n",
              " 'reality': 5609,\n",
              " 'fantasy': 2782,\n",
              " 'show': 6133,\n",
              " 'orchard': 4984,\n",
              " 'laready': 4036,\n",
              " 'send': 6013,\n",
              " 'chat': 1751,\n",
              " '86688': 698,\n",
              " 'let': 4105,\n",
              " 'find': 2860,\n",
              " 'each': 2506,\n",
              " 'other': 5004,\n",
              " 'rcvd': 5590,\n",
              " 'hg': 3438,\n",
              " 'suite342': 6607,\n",
              " '2lands': 398,\n",
              " 'row': 5834,\n",
              " 'w1j6hl': 7346,\n",
              " 'ldn': 4066,\n",
              " 'sure': 6643,\n",
              " 'couple': 2046,\n",
              " 'track': 7024,\n",
              " 'wallet': 7373,\n",
              " 'part': 5089,\n",
              " 'mmm': 4551,\n",
              " 'yummy': 7730,\n",
              " 'nice': 4782,\n",
              " 'jolt': 3862,\n",
              " 'vikky': 7300,\n",
              " 'around': 1074,\n",
              " 'hello': 3412,\n",
              " 'mom': 4581,\n",
              " 'setting': 6041,\n",
              " 'computer': 1950,\n",
              " 'filling': 2849,\n",
              " 'belly': 1325,\n",
              " 'loverboy': 4250,\n",
              " 'greetings': 3253,\n",
              " 'consider': 1981,\n",
              " 'excused': 2703,\n",
              " '4mths': 523,\n",
              " 'price': 5407,\n",
              " 'orange': 4981,\n",
              " 'rental': 5705,\n",
              " 'phones': 5198,\n",
              " 'mobilesdirect': 4564,\n",
              " '08000938767': 52,\n",
              " 'or2stoptxt': 4980,\n",
              " 'nah': 4698,\n",
              " 'wednesday': 7436,\n",
              " 'bring': 1515,\n",
              " 'mini': 4511,\n",
              " 'cheetos': 1774,\n",
              " 'bag': 1208,\n",
              " 'both': 1453,\n",
              " 'fine': 2863,\n",
              " 'thanks': 6820,\n",
              " 'hi': 3440,\n",
              " 'dollar': 2407,\n",
              " 'loan': 4184,\n",
              " 'pay': 5120,\n",
              " 'mid': 4491,\n",
              " 'adult': 831,\n",
              " 'content': 1990,\n",
              " 'shortly': 6124,\n",
              " 'noe': 4807,\n",
              " 'specify': 6377,\n",
              " 'domain': 2411,\n",
              " 'nusstu': 4865,\n",
              " 'request': 5723,\n",
              " 'maangalyam': 4307,\n",
              " 'alaipayuthe': 895,\n",
              " 'set': 6040,\n",
              " 'callertune': 1622,\n",
              " 'callers': 1621,\n",
              " 'press': 5397,\n",
              " 'copy': 2018,\n",
              " 'anyway': 1005,\n",
              " 'own': 5039,\n",
              " 'sis': 6194,\n",
              " 'done': 2414,\n",
              " 'disturb': 2367,\n",
              " 'liao': 4112,\n",
              " 'gym': 3297,\n",
              " 'really': 5613,\n",
              " 'meet': 4446,\n",
              " 'night': 4787,\n",
              " 'spent': 6389,\n",
              " 'late': 4042,\n",
              " 'afternoon': 854,\n",
              " 'casualty': 1689,\n",
              " 'haven': 3371,\n",
              " 'stuff42moro': 6556,\n",
              " 'includes': 3664,\n",
              " 'sheets': 6082,\n",
              " 'dnt': 2378,\n",
              " 'ice': 3596,\n",
              " 'pieces': 5217,\n",
              " 'cloth': 1863,\n",
              " 'pack': 5048,\n",
              " 'tablets': 6699,\n",
              " 'cool': 2011,\n",
              " 'ish': 3763,\n",
              " 'neither': 4752,\n",
              " 'sterm': 6487,\n",
              " 'voice': 7327,\n",
              " 'resolved': 5739,\n",
              " 'tho': 6876,\n",
              " 'fab': 2745,\n",
              " 'hols': 3484,\n",
              " 'his': 3453,\n",
              " 'frens': 3005,\n",
              " 'alone': 921,\n",
              " 'certainly': 1721,\n",
              " 'puts': 5515,\n",
              " 'into': 3730,\n",
              " 'perspective': 5173,\n",
              " 'happens': 3346,\n",
              " 'chikku': 1789,\n",
              " 'room': 5821,\n",
              " 'nw': 4871,\n",
              " 'bus': 1573,\n",
              " 'objection': 4882,\n",
              " 'bf': 1352,\n",
              " 'ended': 2591,\n",
              " 'special': 6371,\n",
              " 'may': 4418,\n",
              " 'sunny': 6623,\n",
              " 'rays': 5585,\n",
              " 'leaves': 4080,\n",
              " 'worries': 7605,\n",
              " 'bay': 1263,\n",
              " 'different': 2321,\n",
              " 'styles': 6562,\n",
              " 'worried': 7604,\n",
              " 'wonderful': 7581,\n",
              " 'caring': 1670,\n",
              " 'person': 5167,\n",
              " 'god': 3178,\n",
              " 'yours': 7720,\n",
              " '1st': 338,\n",
              " 'no1': 4805,\n",
              " 'nokia': 4811,\n",
              " '8007': 646,\n",
              " 'mates': 4401,\n",
              " 'getzed': 3138,\n",
              " 'pobox': 5275,\n",
              " '36504': 450,\n",
              " 'w45wq': 7349,\n",
              " 'norm150p': 4827,\n",
              " 'registered': 5668,\n",
              " 'optin': 4975,\n",
              " 'subscriber': 6577,\n",
              " 'draw': 2449,\n",
              " '100': 254,\n",
              " 'gift': 3144,\n",
              " 'voucher': 7336,\n",
              " 'entered': 2612,\n",
              " 'receipt': 5627,\n",
              " 'correct': 2023,\n",
              " 'ans': 982,\n",
              " '80062': 645,\n",
              " 'whats': 7477,\n",
              " 'bbc': 1265,\n",
              " 'charts': 1748,\n",
              " 'sunshine': 6625,\n",
              " 'quiz': 5541,\n",
              " 'super': 6628,\n",
              " 'sony': 6330,\n",
              " 'dvd': 2501,\n",
              " 'recorder': 5643,\n",
              " 'canname': 1646,\n",
              " 'capital': 1652,\n",
              " 'australia': 1154,\n",
              " 'mquiz': 4628,\n",
              " '82277': 665,\n",
              " 'mids': 4494,\n",
              " 'december': 2209,\n",
              " 'entitled': 2619,\n",
              " '08002986906': 56,\n",
              " 'thought': 6880,\n",
              " 'praps': 5369,\n",
              " 'one': 4942,\n",
              " 'goodo': 3203,\n",
              " 'look': 4212,\n",
              " 'hope': 3501,\n",
              " 'having': 3375,\n",
              " 'hoping': 3509,\n",
              " 'meets': 4450,\n",
              " 'abiola': 758,\n",
              " 'service': 6036,\n",
              " 'representative': 5722,\n",
              " '0800': 47,\n",
              " '169': 320,\n",
              " '6031': 575,\n",
              " 'between': 1347,\n",
              " '10am': 263,\n",
              " '9pm': 746,\n",
              " 'times': 6918,\n",
              " 'hypertension': 3584,\n",
              " 'whom': 7500,\n",
              " 'waited': 7361,\n",
              " 'spook': 6413,\n",
              " 'halloween': 3322,\n",
              " 'logo': 4197,\n",
              " 'pic': 5207,\n",
              " 'plus': 5268,\n",
              " 'eerie': 2545,\n",
              " 'card': 1657,\n",
              " 'zed': 7739,\n",
              " '08701417012150p': 77,\n",
              " 'storming': 6515,\n",
              " 'wen': 7458,\n",
              " 'lift': 4124,\n",
              " 'phne': 5192,\n",
              " 'knw': 3978,\n",
              " 'wt': 7634,\n",
              " 'name': 4703,\n",
              " 'girl': 3151,\n",
              " 'dat': 2180,\n",
              " 'margaret': 4377,\n",
              " 'girlfrnd': 3152,\n",
              " 'grahmbell': 3228,\n",
              " 'invnted': 3739,\n",
              " 'telphone': 6777,\n",
              " 'moral': 4598,\n",
              " '4get': 516,\n",
              " 'cause': 1696,\n",
              " 'freaky': 2991,\n",
              " 'secure': 5986,\n",
              " 'lemme': 4094,\n",
              " 'drive': 2461,\n",
              " 'south': 6359,\n",
              " 'chill': 1795,\n",
              " 'relaxing': 5678,\n",
              " '7am': 634,\n",
              " 'party': 5096,\n",
              " '5ish': 561,\n",
              " 'minor': 4517,\n",
              " 'shindig': 6095,\n",
              " 'polyphonic': 5309,\n",
              " 'ringtone': 5794,\n",
              " '87131': 703,\n",
              " 'poly': 5304,\n",
              " 'sn': 6281,\n",
              " 'pobox202': 5280,\n",
              " 'nr31': 4851,\n",
              " '7zs': 642,\n",
              " 'subscription': 6579,\n",
              " '450pw': 501,\n",
              " 'calling': 1625,\n",
              " 'lil': 4137,\n",
              " 'busy': 1579,\n",
              " 'noon': 4819,\n",
              " 'happened': 3344,\n",
              " 'cruise': 2098,\n",
              " 'career': 1664,\n",
              " 'tel': 6767,\n",
              " 'added': 811,\n",
              " 'contact': 1986,\n",
              " 'indyarocks': 3682,\n",
              " 'remove': 5698,\n",
              " 'phonebook': 5196,\n",
              " 'hows': 3539,\n",
              " 'until': 7196,\n",
              " 'buy': 1584,\n",
              " 'ericsson': 2635,\n",
              " 'oso': 5002,\n",
              " 'cannot': 1647,\n",
              " 'oredi': 4989,\n",
              " 'lar': 4035,\n",
              " 'takes': 6713,\n",
              " 'wrc': 7621,\n",
              " 'rally': 5566,\n",
              " 'oz': 5045,\n",
              " 'lucozade': 4274,\n",
              " 'energy': 2597,\n",
              " 'le': 4068,\n",
              " '61200': 579,\n",
              " '25p': 371,\n",
              " 'packs': 5050,\n",
              " 'itcould': 3773,\n",
              " 'ard': 1051,\n",
              " '515': 549,\n",
              " 'openings': 4962,\n",
              " 'til': 6915,\n",
              " 'thanksgiving': 6822,\n",
              " 'without': 7552,\n",
              " 'upcharge': 7200,\n",
              " 'important': 3644,\n",
              " 'information': 3689,\n",
              " ...}"
            ]
          },
          "metadata": {},
          "execution_count": 43
        }
      ]
    },
    {
      "cell_type": "code",
      "source": [
        "# lets play a bit\n",
        "X_train_np=X_train_cv.toarray()\n",
        "# showing first email \n",
        "X_train_np[0]"
      ],
      "metadata": {
        "colab": {
          "base_uri": "https://localhost:8080/"
        },
        "id": "vdZjx8naPsUE",
        "outputId": "e105f9a6-d38d-45dd-d1df-ae9d3bbadb64"
      },
      "execution_count": 45,
      "outputs": [
        {
          "output_type": "execute_result",
          "data": {
            "text/plain": [
              "array([0, 0, 0, ..., 0, 0, 0])"
            ]
          },
          "metadata": {},
          "execution_count": 45
        }
      ]
    },
    {
      "cell_type": "code",
      "source": [
        "np.where(X_train_np[0]!=0)"
      ],
      "metadata": {
        "colab": {
          "base_uri": "https://localhost:8080/"
        },
        "id": "3riVVcQ1RHb0",
        "outputId": "676f0da1-e3f6-409e-83c0-bb8b61269b4d"
      },
      "execution_count": 57,
      "outputs": [
        {
          "output_type": "execute_result",
          "data": {
            "text/plain": [
              "(array([3193, 4913, 5791, 7482, 7711]),)"
            ]
          },
          "metadata": {},
          "execution_count": 57
        }
      ]
    },
    {
      "cell_type": "code",
      "source": [
        "X_train[:4]"
      ],
      "metadata": {
        "colab": {
          "base_uri": "https://localhost:8080/"
        },
        "id": "6tcvKmpBQHVm",
        "outputId": "5d63d153-4419-4074-e471-f9801ad65f3b"
      },
      "execution_count": 46,
      "outputs": [
        {
          "output_type": "execute_result",
          "data": {
            "text/plain": [
              "4212                               Oi when you gonna ring\n",
              "4516    That was random saw my old roomate on campus. ...\n",
              "3232                   No plm i will come da. On the way.\n",
              "2395    I don't run away frm u... I walk slowly &amp; ...\n",
              "Name: Message, dtype: object"
            ]
          },
          "metadata": {},
          "execution_count": 46
        }
      ]
    },
    {
      "cell_type": "code",
      "source": [
        "X_train[0]"
      ],
      "metadata": {
        "colab": {
          "base_uri": "https://localhost:8080/",
          "height": 36
        },
        "id": "48KYQUzlQarL",
        "outputId": "73b5d632-7868-473b-9d50-54ca7ee67f59"
      },
      "execution_count": 62,
      "outputs": [
        {
          "output_type": "execute_result",
          "data": {
            "text/plain": [
              "'Go until jurong point, crazy.. Available only in bugis n great world la e buffet... Cine there got amore wat...'"
            ],
            "application/vnd.google.colaboratory.intrinsic+json": {
              "type": "string"
            }
          },
          "metadata": {},
          "execution_count": 62
        }
      ]
    },
    {
      "cell_type": "code",
      "source": [
        "X_train_np[0][3193]"
      ],
      "metadata": {
        "colab": {
          "base_uri": "https://localhost:8080/"
        },
        "id": "XmL9MYwvQeHH",
        "outputId": "2b95a3f2-845b-491e-e986-e590cecd5d2b"
      },
      "execution_count": 63,
      "outputs": [
        {
          "output_type": "execute_result",
          "data": {
            "text/plain": [
              "1"
            ]
          },
          "metadata": {},
          "execution_count": 63
        }
      ]
    },
    {
      "cell_type": "code",
      "source": [
        "v.get_feature_names_out()[3193]"
      ],
      "metadata": {
        "colab": {
          "base_uri": "https://localhost:8080/",
          "height": 36
        },
        "id": "2Y3AHae-QlxM",
        "outputId": "31fbe9da-7e0c-4c26-e162-9c3907cb79f2"
      },
      "execution_count": 64,
      "outputs": [
        {
          "output_type": "execute_result",
          "data": {
            "text/plain": [
              "'gonna'"
            ],
            "application/vnd.google.colaboratory.intrinsic+json": {
              "type": "string"
            }
          },
          "metadata": {},
          "execution_count": 64
        }
      ]
    },
    {
      "cell_type": "code",
      "source": [
        "#Importing model\n",
        "from sklearn.naive_bayes import MultinomialNB\n",
        "model=MultinomialNB()\n",
        "model.fit(X_train_cv,y_train)"
      ],
      "metadata": {
        "colab": {
          "base_uri": "https://localhost:8080/"
        },
        "id": "XIFyX6x0Rr66",
        "outputId": "0d5438fa-5484-44c4-9ea0-6df500f09b9b"
      },
      "execution_count": 65,
      "outputs": [
        {
          "output_type": "execute_result",
          "data": {
            "text/plain": [
              "MultinomialNB()"
            ]
          },
          "metadata": {},
          "execution_count": 65
        }
      ]
    },
    {
      "cell_type": "code",
      "source": [
        "X_test_cv=v.transform(X_test)"
      ],
      "metadata": {
        "id": "TBKDTLVESk3X"
      },
      "execution_count": 66,
      "outputs": []
    },
    {
      "cell_type": "code",
      "source": [
        "from sklearn.metrics import classification_report\n",
        "y_pred=model.predict(X_test_cv)\n",
        "print(classification_report(y_test,y_pred))"
      ],
      "metadata": {
        "colab": {
          "base_uri": "https://localhost:8080/"
        },
        "id": "zidJ-DA9Sxcc",
        "outputId": "77ec2d39-b5df-4aca-fe43-2938c2b33c95"
      },
      "execution_count": 67,
      "outputs": [
        {
          "output_type": "stream",
          "name": "stdout",
          "text": [
            "              precision    recall  f1-score   support\n",
            "\n",
            "           0       0.99      0.99      0.99       966\n",
            "           1       0.97      0.96      0.96       149\n",
            "\n",
            "    accuracy                           0.99      1115\n",
            "   macro avg       0.98      0.98      0.98      1115\n",
            "weighted avg       0.99      0.99      0.99      1115\n",
            "\n"
          ]
        }
      ]
    },
    {
      "cell_type": "code",
      "source": [
        "emails = [\n",
        "    'Hey mohan, can we get together to watch footbal game tomorrow?',\n",
        "    'Upto 20% discount on parking, exclusive offer just for you. Dont miss this reward!'\n",
        "]\n",
        "\n",
        "emails_count = v.transform(emails)\n",
        "model.predict(emails_count)"
      ],
      "metadata": {
        "colab": {
          "base_uri": "https://localhost:8080/"
        },
        "id": "OZVpTDpHTL_x",
        "outputId": "bbbe0dd4-6a00-48fb-e8d2-f23f38d1748a"
      },
      "execution_count": 68,
      "outputs": [
        {
          "output_type": "execute_result",
          "data": {
            "text/plain": [
              "array([0, 1])"
            ]
          },
          "metadata": {},
          "execution_count": 68
        }
      ]
    },
    {
      "cell_type": "markdown",
      "source": [
        "##More Easier Way of Doing This"
      ],
      "metadata": {
        "id": "GbdIcx_mTq22"
      }
    },
    {
      "cell_type": "code",
      "source": [
        "from sklearn.pipeline import Pipeline\n",
        "\n",
        "clf = Pipeline([\n",
        "    ('vectorizer', CountVectorizer()),\n",
        "    ('nb', MultinomialNB())\n",
        "])"
      ],
      "metadata": {
        "id": "VZSQOpkDTe3k"
      },
      "execution_count": 69,
      "outputs": []
    },
    {
      "cell_type": "code",
      "source": [
        "clf.fit(X_train, y_train)"
      ],
      "metadata": {
        "colab": {
          "base_uri": "https://localhost:8080/"
        },
        "id": "lAV4FjnSTu57",
        "outputId": "5a9cfba1-7dba-4c19-cada-329cdbf53089"
      },
      "execution_count": 70,
      "outputs": [
        {
          "output_type": "execute_result",
          "data": {
            "text/plain": [
              "Pipeline(steps=[('vectorizer', CountVectorizer()), ('nb', MultinomialNB())])"
            ]
          },
          "metadata": {},
          "execution_count": 70
        }
      ]
    },
    {
      "cell_type": "code",
      "source": [
        "y_pred = clf.predict(X_test)\n",
        "\n",
        "print(classification_report(y_test, y_pred))"
      ],
      "metadata": {
        "colab": {
          "base_uri": "https://localhost:8080/"
        },
        "id": "dReBsBwPTwkl",
        "outputId": "229ce4d1-4678-4fa5-e57e-2e1e05e4ba8c"
      },
      "execution_count": 71,
      "outputs": [
        {
          "output_type": "stream",
          "name": "stdout",
          "text": [
            "              precision    recall  f1-score   support\n",
            "\n",
            "           0       0.99      0.99      0.99       966\n",
            "           1       0.97      0.96      0.96       149\n",
            "\n",
            "    accuracy                           0.99      1115\n",
            "   macro avg       0.98      0.98      0.98      1115\n",
            "weighted avg       0.99      0.99      0.99      1115\n",
            "\n"
          ]
        }
      ]
    },
    {
      "cell_type": "code",
      "source": [],
      "metadata": {
        "id": "n9wXUVgXT1z-"
      },
      "execution_count": null,
      "outputs": []
    }
  ]
}