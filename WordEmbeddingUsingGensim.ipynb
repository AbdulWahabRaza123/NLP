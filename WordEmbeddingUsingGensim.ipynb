{
  "nbformat": 4,
  "nbformat_minor": 0,
  "metadata": {
    "colab": {
      "provenance": [],
      "authorship_tag": "ABX9TyP/ooQPODCU1v8BaM3i2TpF",
      "include_colab_link": true
    },
    "kernelspec": {
      "name": "python3",
      "display_name": "Python 3"
    },
    "language_info": {
      "name": "python"
    }
  },
  "cells": [
    {
      "cell_type": "markdown",
      "metadata": {
        "id": "view-in-github",
        "colab_type": "text"
      },
      "source": [
        "<a href=\"https://colab.research.google.com/github/AbdulWahabRaza123/NLP/blob/main/WordEmbeddingUsingGensim.ipynb\" target=\"_parent\"><img src=\"https://colab.research.google.com/assets/colab-badge.svg\" alt=\"Open In Colab\"/></a>"
      ]
    },
    {
      "cell_type": "code",
      "execution_count": 2,
      "metadata": {
        "id": "HJ3pF_BLWVL1"
      },
      "outputs": [],
      "source": [
        "import gensim.downloader as api\n",
        "wv=api.load(\"word2vec-google-news-300\")"
      ]
    },
    {
      "cell_type": "code",
      "source": [
        "wv.similarity(w1=\"great\",w2=\"good\")"
      ],
      "metadata": {
        "colab": {
          "base_uri": "https://localhost:8080/"
        },
        "id": "vTy5P3T8pBVt",
        "outputId": "32166ed1-6c82-4680-ea47-9719d9dc88b3"
      },
      "execution_count": 3,
      "outputs": [
        {
          "output_type": "execute_result",
          "data": {
            "text/plain": [
              "0.729151"
            ]
          },
          "metadata": {},
          "execution_count": 3
        }
      ]
    },
    {
      "cell_type": "code",
      "source": [
        "wv.similarity(w1=\"profit\",w2=\"gain\")"
      ],
      "metadata": {
        "colab": {
          "base_uri": "https://localhost:8080/"
        },
        "id": "gRumVI9WphZd",
        "outputId": "53801851-25b9-49f1-bcd4-bf831c6600a7"
      },
      "execution_count": 4,
      "outputs": [
        {
          "output_type": "execute_result",
          "data": {
            "text/plain": [
              "0.28772825"
            ]
          },
          "metadata": {},
          "execution_count": 4
        }
      ]
    },
    {
      "cell_type": "code",
      "source": [
        "#this will give us the similarity according to the contxet of the word\n",
        "wv.most_similar(\"good\")"
      ],
      "metadata": {
        "colab": {
          "base_uri": "https://localhost:8080/"
        },
        "id": "T2amh1i_psxz",
        "outputId": "00a06f19-97e0-4268-e93b-f36745cc459e"
      },
      "execution_count": 5,
      "outputs": [
        {
          "output_type": "execute_result",
          "data": {
            "text/plain": [
              "[('great', 0.7291510105133057),\n",
              " ('bad', 0.7190051078796387),\n",
              " ('terrific', 0.6889115571975708),\n",
              " ('decent', 0.6837348937988281),\n",
              " ('nice', 0.6836092472076416),\n",
              " ('excellent', 0.644292950630188),\n",
              " ('fantastic', 0.6407778263092041),\n",
              " ('better', 0.6120728254318237),\n",
              " ('solid', 0.5806034803390503),\n",
              " ('lousy', 0.5764201879501343)]"
            ]
          },
          "metadata": {},
          "execution_count": 5
        }
      ]
    },
    {
      "cell_type": "code",
      "source": [
        "#in spacy you cannt solve the equations but here in gensim you can do this easily like\n",
        "# King- Man+ Women= Queen\n",
        "# France- Paris+ Berlin= Germany\n",
        "wv.most_similar(positive=[\"france\",\"berlin\"],negative=[\"paris\"])"
      ],
      "metadata": {
        "colab": {
          "base_uri": "https://localhost:8080/"
        },
        "id": "lPqXqXncpymp",
        "outputId": "955e5d76-bc79-4e19-a273-60e225e95fd0"
      },
      "execution_count": 6,
      "outputs": [
        {
          "output_type": "execute_result",
          "data": {
            "text/plain": [
              "[('germany', 0.5094344019889832),\n",
              " ('european', 0.4865044951438904),\n",
              " ('german', 0.4714890718460083),\n",
              " ('austria', 0.46964019536972046),\n",
              " ('swedish', 0.46451830863952637),\n",
              " ('Wissenschaft', 0.45328807830810547),\n",
              " ('denmark', 0.4477354884147644),\n",
              " ('München', 0.4438532590866089),\n",
              " ('europe', 0.44206199049949646),\n",
              " ('belgium', 0.43769747018814087)]"
            ]
          },
          "metadata": {},
          "execution_count": 6
        }
      ]
    },
    {
      "cell_type": "code",
      "source": [
        "wv.most_similar(positive=[\"king\",\"women\"],negative=[\"man\"])"
      ],
      "metadata": {
        "colab": {
          "base_uri": "https://localhost:8080/"
        },
        "id": "iBzq20kYrgyV",
        "outputId": "34414f33-4a9f-4346-ecbf-fec0bc85809c"
      },
      "execution_count": 7,
      "outputs": [
        {
          "output_type": "execute_result",
          "data": {
            "text/plain": [
              "[('queen', 0.4827326238155365),\n",
              " ('queens', 0.466781347990036),\n",
              " ('kumaris', 0.4653734266757965),\n",
              " ('kings', 0.4558638632297516),\n",
              " ('womens', 0.422832190990448),\n",
              " ('princes', 0.4176960587501526),\n",
              " ('Al_Anqari', 0.4172550439834595),\n",
              " ('concubines', 0.4011078178882599),\n",
              " ('monarch', 0.39624831080436707),\n",
              " ('monarchy', 0.39430153369903564)]"
            ]
          },
          "metadata": {},
          "execution_count": 7
        }
      ]
    },
    {
      "cell_type": "code",
      "source": [
        "#there is also a function which can tell you those words which are not matching the majourity\n",
        "wv.doesnt_match([\"facebook\",\"cat\",\"google\",\"microsoft\"])"
      ],
      "metadata": {
        "colab": {
          "base_uri": "https://localhost:8080/",
          "height": 93
        },
        "id": "BPA4mZJJsatr",
        "outputId": "8ddaa2f0-bda9-4129-d86d-5d286178ed1d"
      },
      "execution_count": 12,
      "outputs": [
        {
          "output_type": "stream",
          "name": "stderr",
          "text": [
            "/usr/local/lib/python3.8/dist-packages/gensim/models/keyedvectors.py:895: FutureWarning: arrays to stack must be passed as a \"sequence\" type such as list or tuple. Support for non-sequence iterables such as generators is deprecated as of NumPy 1.16 and will raise an error in the future.\n",
            "  vectors = vstack(self.word_vec(word, use_norm=True) for word in used_words).astype(REAL)\n"
          ]
        },
        {
          "output_type": "execute_result",
          "data": {
            "text/plain": [
              "'cat'"
            ],
            "application/vnd.google.colaboratory.intrinsic+json": {
              "type": "string"
            }
          },
          "metadata": {},
          "execution_count": 12
        }
      ]
    },
    {
      "cell_type": "code",
      "source": [],
      "metadata": {
        "id": "n_TECQEewF4l"
      },
      "execution_count": null,
      "outputs": []
    }
  ]
}