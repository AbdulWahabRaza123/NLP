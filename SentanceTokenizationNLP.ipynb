{
  "nbformat": 4,
  "nbformat_minor": 0,
  "metadata": {
    "colab": {
      "provenance": [],
      "authorship_tag": "ABX9TyNZXSfchoujTMECQwXf12wF",
      "include_colab_link": true
    },
    "kernelspec": {
      "name": "python3",
      "display_name": "Python 3"
    },
    "language_info": {
      "name": "python"
    }
  },
  "cells": [
    {
      "cell_type": "markdown",
      "metadata": {
        "id": "view-in-github",
        "colab_type": "text"
      },
      "source": [
        "<a href=\"https://colab.research.google.com/github/AbdulWahabRaza123/NLP/blob/main/SentanceTokenizationNLP.ipynb\" target=\"_parent\"><img src=\"https://colab.research.google.com/assets/colab-badge.svg\" alt=\"Open In Colab\"/></a>"
      ]
    },
    {
      "cell_type": "markdown",
      "source": [
        "🟢Note:  Spacy is Object Oriented. It is NLP algorithm for a given task. If you care about the end result. Go with Spacy (good app development or web development)"
      ],
      "metadata": {
        "id": "SzKKmDBPZxhv"
      }
    },
    {
      "cell_type": "code",
      "execution_count": 1,
      "metadata": {
        "id": "r72CLBHMQjCc",
        "colab": {
          "base_uri": "https://localhost:8080/"
        },
        "outputId": "eccfae49-ea5e-4239-ae2d-b4ddb667b18f"
      },
      "outputs": [
        {
          "output_type": "stream",
          "name": "stderr",
          "text": [
            "/usr/local/lib/python3.8/dist-packages/torch/cuda/__init__.py:497: UserWarning: Can't initialize NVML\n",
            "  warnings.warn(\"Can't initialize NVML\")\n"
          ]
        }
      ],
      "source": [
        "import spacy"
      ]
    },
    {
      "cell_type": "code",
      "source": [
        "nlp=spacy.load(\"en_core_web_sm\")\n",
        "doc=nlp(\"Dr. strenge like haseeb bhai of Gujranwala. Hulk like adil of Sialkot\")"
      ],
      "metadata": {
        "id": "47v7D7eoYLpv"
      },
      "execution_count": 11,
      "outputs": []
    },
    {
      "cell_type": "code",
      "source": [
        "for sentances in doc.sents:\n",
        "  print(sentances)"
      ],
      "metadata": {
        "colab": {
          "base_uri": "https://localhost:8080/"
        },
        "id": "u_AXXQj8Y6Q-",
        "outputId": "f942fa3c-d9ba-4105-eb0f-4243cc414e43"
      },
      "execution_count": 12,
      "outputs": [
        {
          "output_type": "stream",
          "name": "stdout",
          "text": [
            "Dr. strenge like haseeb bhai of Gujranwala.\n",
            "Hulk like adil of Sialkot\n"
          ]
        }
      ]
    },
    {
      "cell_type": "code",
      "source": [
        "for sentances in doc.sents:\n",
        "  for words in sentances:\n",
        "    print(words)"
      ],
      "metadata": {
        "colab": {
          "base_uri": "https://localhost:8080/"
        },
        "id": "Q97CtP8eZC0n",
        "outputId": "761cbf44-d2d0-4549-a96a-6d1d6ff3b106"
      },
      "execution_count": 13,
      "outputs": [
        {
          "output_type": "stream",
          "name": "stdout",
          "text": [
            "Dr.\n",
            "strenge\n",
            "like\n",
            "haseeb\n",
            "bhai\n",
            "of\n",
            "Gujranwala\n",
            ".\n",
            "Hulk\n",
            "like\n",
            "adil\n",
            "of\n",
            "Sialkot\n"
          ]
        }
      ]
    },
    {
      "cell_type": "markdown",
      "source": [
        "🟢Note: NLTK has many algorithm for tokenization. If you need customization then go with NLTK\n",
        "(good for researchers)"
      ],
      "metadata": {
        "id": "ktD46aKpaMo-"
      }
    },
    {
      "cell_type": "code",
      "source": [
        "import nltk\n",
        "nltk.download('punkt')"
      ],
      "metadata": {
        "colab": {
          "base_uri": "https://localhost:8080/"
        },
        "id": "_l0Y5QxnZcg3",
        "outputId": "abe2c691-7fab-4393-e4b0-45fa10f02034"
      },
      "execution_count": 14,
      "outputs": [
        {
          "output_type": "stream",
          "name": "stderr",
          "text": [
            "[nltk_data] Downloading package punkt to /root/nltk_data...\n",
            "[nltk_data]   Package punkt is already up-to-date!\n"
          ]
        },
        {
          "output_type": "execute_result",
          "data": {
            "text/plain": [
              "True"
            ]
          },
          "metadata": {},
          "execution_count": 14
        }
      ]
    },
    {
      "cell_type": "code",
      "source": [
        "#there are lot of the tokenizers\n",
        "from nltk.tokenize import sent_tokenize"
      ],
      "metadata": {
        "id": "lvx_3W6qagzS"
      },
      "execution_count": 15,
      "outputs": []
    },
    {
      "cell_type": "code",
      "source": [
        "# we have to customize it if we want it in customize way (therefore here it is not working well)\n",
        "sent_tokenize(\"Dr. strenge like haseeb bhai of Gujranwala. Hulk like adil of Sialkot\")"
      ],
      "metadata": {
        "colab": {
          "base_uri": "https://localhost:8080/"
        },
        "id": "bsPHfhecattj",
        "outputId": "3c858885-9fa2-4ba6-c324-079605532d98"
      },
      "execution_count": 18,
      "outputs": [
        {
          "output_type": "execute_result",
          "data": {
            "text/plain": [
              "['Dr. strenge like haseeb bhai of Gujranwala.', 'Hulk like adil of Sialkot']"
            ]
          },
          "metadata": {},
          "execution_count": 18
        }
      ]
    },
    {
      "cell_type": "code",
      "source": [
        "# for word tokenization (this is not working well because we did not using it properly)\n",
        "from nltk.tokenize import word_tokenize\n",
        "word_tokenize(\"Dr. strenge like haseeb bhai of Gujranwala. Hulk like adil of Sialkot\")"
      ],
      "metadata": {
        "colab": {
          "base_uri": "https://localhost:8080/"
        },
        "id": "bO-wwecja0Af",
        "outputId": "b4c1d304-ecda-4661-ede6-54e18e98b770"
      },
      "execution_count": 19,
      "outputs": [
        {
          "output_type": "execute_result",
          "data": {
            "text/plain": [
              "['Dr.',\n",
              " 'strenge',\n",
              " 'like',\n",
              " 'haseeb',\n",
              " 'bhai',\n",
              " 'of',\n",
              " 'Gujranwala',\n",
              " '.',\n",
              " 'Hulk',\n",
              " 'like',\n",
              " 'adil',\n",
              " 'of',\n",
              " 'Sialkot']"
            ]
          },
          "metadata": {},
          "execution_count": 19
        }
      ]
    },
    {
      "cell_type": "code",
      "source": [],
      "metadata": {
        "id": "tzkiNy1Ob0FU"
      },
      "execution_count": null,
      "outputs": []
    }
  ]
}