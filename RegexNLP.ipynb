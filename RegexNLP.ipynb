{
  "nbformat": 4,
  "nbformat_minor": 0,
  "metadata": {
    "colab": {
      "provenance": [],
      "authorship_tag": "ABX9TyOzMdrIbjaevA8G8H5bo/6C",
      "include_colab_link": true
    },
    "kernelspec": {
      "name": "python3",
      "display_name": "Python 3"
    },
    "language_info": {
      "name": "python"
    }
  },
  "cells": [
    {
      "cell_type": "markdown",
      "metadata": {
        "id": "view-in-github",
        "colab_type": "text"
      },
      "source": [
        "<a href=\"https://colab.research.google.com/github/AbdulWahabRaza123/NLP/blob/main/RegexNLP.ipynb\" target=\"_parent\"><img src=\"https://colab.research.google.com/assets/colab-badge.svg\" alt=\"Open In Colab\"/></a>"
      ]
    },
    {
      "cell_type": "code",
      "source": [
        "import re"
      ],
      "metadata": {
        "id": "O0r_5XLQpnEc"
      },
      "execution_count": 5,
      "outputs": []
    },
    {
      "cell_type": "code",
      "source": [
        "chat1='codebasics: Hello, I am having an issue with my order # 412889912 and order # 412349912'\n",
        "chat2='codebasics: I have a problem with my order number 412889912'\n",
        "chat3='codebasics: My order 412889912 is having an issue, I was charged 300$ when online it says 280$'"
      ],
      "metadata": {
        "id": "zX68T1kWACiQ"
      },
      "execution_count": 9,
      "outputs": []
    },
    {
      "cell_type": "code",
      "source": [
        " #to match the order number I made regular express `order[^\\d]*(\\d*)`\n",
        " #Here () putting to get the exact output\n",
        " pattern='order[^\\d]*(\\d*)'\n",
        " matches=re.findall(pattern,chat1)\n",
        " matches"
      ],
      "metadata": {
        "colab": {
          "base_uri": "https://localhost:8080/"
        },
        "id": "5HpCQH4ZK3_x",
        "outputId": "9e3f3c95-37e4-4b42-d735-b85b747da396"
      },
      "execution_count": 17,
      "outputs": [
        {
          "output_type": "execute_result",
          "data": {
            "text/plain": [
              "['412889912', '412349912']"
            ]
          },
          "metadata": {},
          "execution_count": 17
        }
      ]
    },
    {
      "cell_type": "code",
      "source": [
        "# Here \\d meand selecting digits and {number} means consective 10 digits \n",
        "pattern='\\d{9}'\n",
        "matches=re.findall(pattern,chat2)\n",
        "matches"
      ],
      "metadata": {
        "colab": {
          "base_uri": "https://localhost:8080/"
        },
        "id": "YtokHcUNCDn4",
        "outputId": "8909ae56-4480-43a6-9b79-85175ff87842"
      },
      "execution_count": 11,
      "outputs": [
        {
          "output_type": "execute_result",
          "data": {
            "text/plain": [
              "['412889912']"
            ]
          },
          "metadata": {},
          "execution_count": 11
        }
      ]
    },
    {
      "cell_type": "markdown",
      "source": [
        "##Phone Number:\n",
        "\n",
        "I made this regular expression for three types of phone numbers\n",
        "\n",
        "`(\\(\\d{3}\\)-\\d{8})|(\\d{11})|(\\+\\d{2}\\-\\d{10})`\n",
        "\n",
        "(here \\ uses for those things which causes error like (), \\d means digit {number} means consective numbers)\n",
        "\n",
        "e.g:\n",
        "\n",
        "(042)-37498289  \n",
        "\n",
        "03117851141 \n",
        "\n",
        "+92-3117851141"
      ],
      "metadata": {
        "id": "a1X494t-Hnto"
      }
    },
    {
      "cell_type": "markdown",
      "source": [
        "##Email\n",
        "\n",
        "I made regular expression to match the emial\n",
        "\n",
        "`[a-z0-9A-z_]*@[a-zA-Z0-9]*\\.[a-zA-Z]*`"
      ],
      "metadata": {
        "id": "OCrz-5jEKBEG"
      }
    },
    {
      "cell_type": "code",
      "source": [
        "emailFind=\"Contact Us For any queries related to Fresh Graduate Hiring email us at freshgradhiring@arbisoft.com or call us at (042)-37498289 as well as 03117851141 or +92-3117851141\"\n",
        "regex='[a-z0-9A-z_]*@[a-zA-Z0-9]*\\.[a-zA-Z]*'\n",
        "find=re.findall(regex,emailFind)"
      ],
      "metadata": {
        "id": "z80ov2k5CpaR"
      },
      "execution_count": 14,
      "outputs": []
    },
    {
      "cell_type": "code",
      "source": [
        "find"
      ],
      "metadata": {
        "colab": {
          "base_uri": "https://localhost:8080/"
        },
        "id": "YGGOMJN_KP3i",
        "outputId": "d058afcd-2743-4204-ac52-245e49ff41a2"
      },
      "execution_count": 15,
      "outputs": [
        {
          "output_type": "execute_result",
          "data": {
            "text/plain": [
              "['freshgradhiring@arbisoft.com']"
            ]
          },
          "metadata": {},
          "execution_count": 15
        }
      ]
    },
    {
      "cell_type": "code",
      "source": [
        "text='''\n",
        "Born\tElon Reeve Musk\n",
        "June 28, 1971 (age 50)\n",
        "Pretoria, Transvaal, South Africa\n",
        "Citizenship\t\n",
        "South Africa (1971–present)\n",
        "Canada (1971–present)\n",
        "United States (2002–present)\n",
        "Education\tUniversity of Pennsylvania (BS, BA)\n",
        "Title\t\n",
        "Founder, CEO and Chief Engineer of SpaceX\n",
        "CEO and product architect of Tesla, Inc.\n",
        "Founder of The Boring Company and X.com (now part of PayPal)\n",
        "Co-founder of Neuralink, OpenAI, and Zip2\n",
        "Spouse(s)\t\n",
        "Justine Wilson\n",
        "​\n",
        "​(m. 2000; div. 2008)​\n",
        "Talulah Riley\n",
        "​\n",
        "​(m. 2010; div. 2012)​\n",
        "​\n",
        "​(m. 2013; div. 2016)\n",
        "'''"
      ],
      "metadata": {
        "id": "enn0JOFAKnj8"
      },
      "execution_count": 19,
      "outputs": []
    },
    {
      "cell_type": "code",
      "source": [
        "# finding age \n",
        "ageExp='age (\\d+)'\n",
        "out=re.findall(ageExp,text)\n",
        "out"
      ],
      "metadata": {
        "colab": {
          "base_uri": "https://localhost:8080/"
        },
        "id": "ng5WVYAWM6-_",
        "outputId": "5169251d-4f93-4b83-8102-ef2a9ceb1c42"
      },
      "execution_count": 21,
      "outputs": [
        {
          "output_type": "execute_result",
          "data": {
            "text/plain": [
              "['50']"
            ]
          },
          "metadata": {},
          "execution_count": 21
        }
      ]
    },
    {
      "cell_type": "code",
      "source": [
        "name='Born(.*)'\n",
        "out=re.findall(name,text)\n",
        "out[0].strip()"
      ],
      "metadata": {
        "colab": {
          "base_uri": "https://localhost:8080/",
          "height": 36
        },
        "id": "zzvsoRAqNJx0",
        "outputId": "c73f3ae9-fa6f-4e1c-8600-c8026c052014"
      },
      "execution_count": 23,
      "outputs": [
        {
          "output_type": "execute_result",
          "data": {
            "text/plain": [
              "'Elon Reeve Musk'"
            ],
            "application/vnd.google.colaboratory.intrinsic+json": {
              "type": "string"
            }
          },
          "metadata": {},
          "execution_count": 23
        }
      ]
    },
    {
      "cell_type": "code",
      "source": [
        " born='Born.*\\n(.*)\\n'\n",
        " out=re.findall(born,text)\n",
        " out"
      ],
      "metadata": {
        "colab": {
          "base_uri": "https://localhost:8080/"
        },
        "id": "wXx7ht4pNry4",
        "outputId": "dc8a7e2b-a159-4c0d-ac23-c49a4a106ffb"
      },
      "execution_count": 25,
      "outputs": [
        {
          "output_type": "execute_result",
          "data": {
            "text/plain": [
              "['June 28, 1971 (age 50)']"
            ]
          },
          "metadata": {},
          "execution_count": 25
        }
      ]
    },
    {
      "cell_type": "code",
      "source": [
        "bornRemoveAge='Born.*\\n(.*)\\(age'\n",
        "out=re.findall(bornRemoveAge,text)\n",
        "out"
      ],
      "metadata": {
        "colab": {
          "base_uri": "https://localhost:8080/"
        },
        "id": "chN_fHhtONnl",
        "outputId": "837534b0-a372-47c5-e517-c57ca3bdc01b"
      },
      "execution_count": 26,
      "outputs": [
        {
          "output_type": "execute_result",
          "data": {
            "text/plain": [
              "['June 28, 1971 ']"
            ]
          },
          "metadata": {},
          "execution_count": 26
        }
      ]
    },
    {
      "cell_type": "code",
      "source": [
        "birthPlace='\\(age.*\\n(.*)'\n",
        "out=re.findall(birthPlace,text)\n",
        "out"
      ],
      "metadata": {
        "colab": {
          "base_uri": "https://localhost:8080/"
        },
        "id": "BrCxrWPiOopU",
        "outputId": "64251a91-869b-47c7-b9bd-4086abce4c70"
      },
      "execution_count": 27,
      "outputs": [
        {
          "output_type": "execute_result",
          "data": {
            "text/plain": [
              "['Pretoria, Transvaal, South Africa']"
            ]
          },
          "metadata": {},
          "execution_count": 27
        }
      ]
    },
    {
      "cell_type": "code",
      "source": [],
      "metadata": {
        "id": "E_HAAprEPHI4"
      },
      "execution_count": null,
      "outputs": []
    }
  ]
}